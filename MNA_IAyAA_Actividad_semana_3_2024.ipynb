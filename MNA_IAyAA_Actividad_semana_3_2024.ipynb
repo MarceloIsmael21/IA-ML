{
  "cells": [
    {
      "cell_type": "markdown",
      "source": [
        "# **Maestría en Inteligencia Artificial Aplicada**\n",
        "\n",
        "## **Curso: Inteligencia Artificial y Aprendizaje Automático**\n",
        "\n",
        "**Tecnológico de Monterrey**\n",
        "\n",
        "Prof Luis Eduardo Falcón Morales\n",
        "\n",
        "Actividad de Semana 3 - Septiembre 2024\n",
        "\n",
        "**Rotación de Personal - IBM**"
      ],
      "metadata": {
        "id": "hWEMLj5wrcMV"
      },
      "id": "hWEMLj5wrcMV"
    },
    {
      "cell_type": "markdown",
      "source": [
        "#### **Nombre y matrícula:**"
      ],
      "metadata": {
        "id": "6PudVOn2rv9-"
      },
      "id": "6PudVOn2rv9-"
    },
    {
      "cell_type": "markdown",
      "source": [
        "#### **La siguiente actividad se basa en los datos del archivo \"WA_Fn-UseC_-HR-Employee-Attrition.csv\" que se encuentra en la siguiente liga de Kaggle, llamada \"IBM HR Analytics Employee Attrition & Performance\":**\n",
        "\n",
        "https://www.kaggle.com/datasets/pavansubhasht/ibm-hr-analytics-attrition-dataset\n"
      ],
      "metadata": {
        "id": "zHrHylCFqr7R"
      },
      "id": "zHrHylCFqr7R"
    },
    {
      "cell_type": "code",
      "execution_count": null,
      "id": "72533da4",
      "metadata": {
        "id": "72533da4"
      },
      "outputs": [],
      "source": [
        "# Incluye aquí todas las librerías que consideres necesarias:\n",
        "\n",
        "\n",
        "\n"
      ]
    },
    {
      "cell_type": "markdown",
      "id": "ac09ecaf",
      "metadata": {
        "id": "ac09ecaf"
      },
      "source": [
        "# **Ejercicio 1:**"
      ]
    },
    {
      "cell_type": "markdown",
      "source": [
        "#### **Incluye una breve introducción sobre lo que se entiende por el problema de rotación de personal en las organizaciones (employee attrition problem).**"
      ],
      "metadata": {
        "id": "T_-hoJgWpWbt"
      },
      "id": "T_-hoJgWpWbt"
    },
    {
      "cell_type": "markdown",
      "source": [
        "++++++++ Inicia la sección de agregar texto: ++++++++++++\n",
        "\n",
        "\n",
        "None\n",
        "\n",
        "\n",
        "++++++++ Termina la sección de agregar texto. +++++++++++"
      ],
      "metadata": {
        "id": "LfSb-scypfrX"
      },
      "id": "LfSb-scypfrX"
    },
    {
      "cell_type": "markdown",
      "source": [
        "# **Ejercicio 2:**"
      ],
      "metadata": {
        "id": "_FN5RwbGpz0c"
      },
      "id": "_FN5RwbGpz0c"
    },
    {
      "cell_type": "markdown",
      "source": [
        "#### **Carga los datos del archivo de la página de Kaggle indicada como un DataFrame de Pandas, llamado \"df\" y utilicemos el método “describe” con el argumento include= “all”, para obtener una primera descripción general de cada variable.**"
      ],
      "metadata": {
        "id": "Yybnk8vKqEfS"
      },
      "id": "Yybnk8vKqEfS"
    },
    {
      "cell_type": "code",
      "execution_count": null,
      "id": "0b4db5cd",
      "metadata": {
        "id": "0b4db5cd"
      },
      "outputs": [],
      "source": [
        "# ++++++++++++++ Inicia sección de agregar código ++++++++++++++++++++\n",
        "\n",
        "df = None\n",
        "\n",
        "\n",
        "\n",
        "# +++++++++++++ Termina sección de agregar código +++++++++++++++++++++\n",
        "\n",
        "\n",
        "print(\"Tamaño del DataFrame:\", df.shape)\n",
        "df.describe(include = 'all').T\n"
      ]
    },
    {
      "cell_type": "markdown",
      "source": [
        "# **Ejercicio 3:**"
      ],
      "metadata": {
        "id": "4KnDCDS5vh05"
      },
      "id": "4KnDCDS5vh05"
    },
    {
      "cell_type": "markdown",
      "source": [
        "#### **Indica cuál es la diferencia entre utilizar o no el argumento include=”all” del método \"describe\" en el ejercicio anterior.**"
      ],
      "metadata": {
        "id": "H3LIfPWNvhw0"
      },
      "id": "H3LIfPWNvhw0"
    },
    {
      "cell_type": "markdown",
      "source": [
        "++++++++ Inicia la sección de agregar texto: ++++++++++++\n",
        "\n",
        "\n",
        "None\n",
        "\n",
        "\n",
        "++++++++ Termina la sección de agregar texto. +++++++++++"
      ],
      "metadata": {
        "id": "hf0DL3YcwVAC"
      },
      "id": "hf0DL3YcwVAC"
    },
    {
      "cell_type": "markdown",
      "source": [
        "# **Ejercicio 4:**"
      ],
      "metadata": {
        "id": "-kGON2vOw9_8"
      },
      "id": "-kGON2vOw9_8"
    },
    {
      "cell_type": "markdown",
      "source": [
        "#### **Con base a la información desplegada por la instrucción anterior, hemos decidido cancelar los siguientes factores de nuestro problema: Over18, EmployeeCount, StandardHours, EmployeeNumber. Explica cuál es la justificación que nos permite cancelar cada uno de estos factores:**\n",
        "\n",
        "++++++++ Inicia la sección de agregar texto: ++++++++++++\n",
        "\n",
        "**a)   Over18**:\n",
        "\n",
        "**b)\tEmployeeCount**:\n",
        "\n",
        "**c)\tStandardHours**:\n",
        "\n",
        "**d)\tEmployeeNumber**:\n",
        "\n",
        "++++++++ Termina la sección de agregar texto. +++++++++++\n",
        "\n",
        "\n"
      ],
      "metadata": {
        "id": "Rb0lc1OrxAuY"
      },
      "id": "Rb0lc1OrxAuY"
    },
    {
      "cell_type": "code",
      "execution_count": null,
      "id": "9b32cb04",
      "metadata": {
        "id": "9b32cb04"
      },
      "outputs": [],
      "source": [
        "# Eliminamos los factores indicados:\n",
        "\n",
        "df = df.drop(['Over18','EmployeeCount','StandardHours','EmployeeNumber'],axis=1)\n",
        "\n",
        "print(\"Tamaño del nuevo DataFrame:\", df.shape)"
      ]
    },
    {
      "cell_type": "markdown",
      "source": [
        "# **Ejercicio 5:**"
      ],
      "metadata": {
        "id": "BFJsH9kx0vFa"
      },
      "id": "BFJsH9kx0vFa"
    },
    {
      "cell_type": "markdown",
      "source": [
        "#### **Realiza una partición de los datos en Entrenamiento, Validación y Prueba, del 70%, 15% y 15%, respectivamente. Llama a dichos conjuntos Xtrain, Xval, Xtest, ytrain, yval, ytest, para los datos de entrada y de salida, respectivamente. Asegúrate que dicha partición conserve la estratificación de las clases de la variable “Attrition”. Despliega además la dimensión obtenida de los tres conjuntos: Entrenamiento, Validación y Prueba.**\n",
        "\n",
        "#### **NOTA: Utiliza semillas en cada función de partición, para permitir la repetibilidad de tu modelo y poder evaluarlo de mejor majera.**"
      ],
      "metadata": {
        "id": "UWcvTjY63Uru"
      },
      "id": "UWcvTjY63Uru"
    },
    {
      "cell_type": "code",
      "source": [
        "# ++++++++++++++ Inicia sección de agregar código +++++++++++++++++++++\n",
        "\n",
        "\n",
        "None\n",
        "\n",
        "\n",
        "# ++++++++++++++ Termina sección de agregar código +++++++++++++++++++++"
      ],
      "metadata": {
        "id": "4pYkwIiF1aU9"
      },
      "id": "4pYkwIiF1aU9",
      "execution_count": null,
      "outputs": []
    },
    {
      "cell_type": "markdown",
      "id": "89133c57",
      "metadata": {
        "id": "89133c57"
      },
      "source": [
        "# **Ejercicio 6:**\n"
      ]
    },
    {
      "cell_type": "markdown",
      "source": [
        "#### **Aplica la transformación LabelEncoder() de sklearn a la variable de salida “Attrition”. Las nuevas variables deberán llamarse ahora: ytrainT, yvalT, ytestT. Encuentra la proporción de datos en cada nivel de esta variable y con base a dicha información indica si podemos considerar que tenemos un problema de datos desbalanceados.**\n",
        "\n",
        "#### NOTA: Aplica esta transformación evitando el filtrado de información (data leakage)."
      ],
      "metadata": {
        "id": "IE3vDeVW6Laq"
      },
      "id": "IE3vDeVW6Laq"
    },
    {
      "cell_type": "code",
      "source": [
        "# ++++++++++ Inicia sección para agregar tu código ++++++++++++++++++++++++\n",
        "\n",
        "\n",
        "None\n",
        "\n",
        "\n",
        "# +++++++++++++++++ Termina sección para agregar tu código ++++++++++++++++++++++++\n",
        "\n",
        "print(ytrainT['Porcentaje de datos en cada clase de entrenamiento - Attrition:'].value_counts() / ytrainT.shape[0])"
      ],
      "metadata": {
        "id": "D6FkTLVBd2N0"
      },
      "id": "D6FkTLVBd2N0",
      "execution_count": null,
      "outputs": []
    },
    {
      "cell_type": "markdown",
      "source": [
        "# **Ejercicio 7:**\n"
      ],
      "metadata": {
        "id": "3iE95_bh8XF4"
      },
      "id": "3iE95_bh8XF4"
    },
    {
      "cell_type": "markdown",
      "source": [
        "#### **Incluye a continuación el análisis gáfico y describtivo que consideres adecuado. Con base a estos gráficos ¿qué tipo de transformaciones sugieres llevar a cabo en dichas variables?**"
      ],
      "metadata": {
        "id": "tj6jEsdS4-1-"
      },
      "id": "tj6jEsdS4-1-"
    },
    {
      "cell_type": "code",
      "execution_count": null,
      "id": "fa966050",
      "metadata": {
        "id": "fa966050"
      },
      "outputs": [],
      "source": [
        "# ++++++++++ Inicia sección para agregar tu código ++++++++++++++++++++++++\n",
        "# Incluye en esta sección todas las celdas que consideres conveniente.\n",
        "\n",
        "\n",
        "None\n",
        "\n",
        "\n",
        "# ++++++++++ Termina sección para agregar tu código ++++++++++++++++++++++++\n",
        "\n"
      ]
    },
    {
      "cell_type": "markdown",
      "source": [
        "# **Ejercicio 8:**"
      ],
      "metadata": {
        "id": "7UnNwVptCnmk"
      },
      "id": "7UnNwVptCnmk"
    },
    {
      "cell_type": "markdown",
      "source": [
        "#### **Utiliza las clases Pipeline y ColumnTransformer de Sklearn para definir las transformaciones que deberán aplicarse a cada variable de acuerdo a su tipo.**\n",
        "\n"
      ],
      "metadata": {
        "id": "cZJ86ke_DyLC"
      },
      "id": "cZJ86ke_DyLC"
    },
    {
      "cell_type": "code",
      "source": [
        "# ++++++++++ Inicia sección para agregar tu código ++++++++++++++++++++++++\n",
        "\n",
        "\n",
        "# NUMÉRICAS:\n",
        "numericas_pipeline = Pipeline( None )\n",
        "numericas_pipeline_nombres = None\n",
        "\n",
        "# ORDINALES:\n",
        "catOrd_pipeline = Pipeline( None )\n",
        "catOrd_pipeline_nombres = None\n",
        "\n",
        "# BINARIAS:\n",
        "catBin_pipeline = Pipeline( None )\n",
        "catBin_pipeline_nombres = None\n",
        "\n",
        "# NOMINALES:\n",
        "catNom_pipeline = Pipeline( None )\n",
        "catNom_pipeline_nombres = None\n",
        "\n",
        "\n",
        "\n",
        "columnasTransformer = ColumnTransformer( None )\n",
        "\n",
        "# ++++++++++ Termina sección para agregar tu código ++++++++++++++++++++++++"
      ],
      "metadata": {
        "id": "5Kvk3CDsFqPE"
      },
      "id": "5Kvk3CDsFqPE",
      "execution_count": null,
      "outputs": []
    },
    {
      "cell_type": "markdown",
      "source": [
        "# **Ejercicio 9:**"
      ],
      "metadata": {
        "id": "2WjnvhIrEy8x"
      },
      "id": "2WjnvhIrEy8x"
    },
    {
      "cell_type": "markdown",
      "source": [
        "#### **Reagrupa los conjuntos de entrenamiento y validación en un solo DataFrame.**\n",
        "\n",
        "#### **A estos nuevos DataFrame llamarlos Xtv y ytv.**"
      ],
      "metadata": {
        "id": "kDhCIvI7E2aY"
      },
      "id": "kDhCIvI7E2aY"
    },
    {
      "cell_type": "code",
      "source": [
        "# ++++++++++ Inicia sección para agregar tu código ++++++++++++++++++++++++\n",
        "\n",
        "\n",
        "None\n",
        "\n",
        "\n",
        "# ++++++++++ Termina sección para agregar tu código ++++++++++++++++++++++++\n",
        "\n",
        "print(Xtv.shape)\n",
        "print(ytv.shape)"
      ],
      "metadata": {
        "id": "PYHj38QVE_Hv"
      },
      "id": "PYHj38QVE_Hv",
      "execution_count": null,
      "outputs": []
    },
    {
      "cell_type": "markdown",
      "source": [
        "# **Ejercicio 10:**"
      ],
      "metadata": {
        "id": "FYSK42MxFaHk"
      },
      "id": "FYSK42MxFaHk"
    },
    {
      "cell_type": "markdown",
      "source": [
        "#### **Busca los mejores hiperparámetros.**"
      ],
      "metadata": {
        "id": "GLNcR6ZHFbyt"
      },
      "id": "GLNcR6ZHFbyt"
    },
    {
      "cell_type": "code",
      "source": [
        "# ++++++++++ Inicia sección para agregar tu código ++++++++++++++++++++++++\n",
        "\n",
        "\n",
        "def mis_modelos():\n",
        "  modelos, nombres = list(), list()\n",
        "\n",
        "  # LR - Regresión Logística sin regularización:\n",
        "  modelos.append(LogisticRegression(penalty=None,  # Este valor de \"penalty\" no se debe de cambiar, ya que define el modelo sin regularización.\n",
        "                                    None,     # Incluye aquí todos los hiperparámetros y valores que consideres adecuados.\n",
        "                                    random_state=1))\n",
        "  nombres.append('LR')\n",
        "\n",
        "\n",
        "  # Lasso - Regresión Logística con regularización L1:\n",
        "  modelos.append(LogisticRegression(penalty='l1',\n",
        "                                    None,     # Incluye aquí todos los hiperparámetros y valores que consideres adecuados.\n",
        "                                    random_state=1))\n",
        "  nombres.append('LASSO')\n",
        "\n",
        "\n",
        "  # Ridge - Regresión Logística con regularización L2:\n",
        "  modelos.append(LogisticRegression(penalty='l2',\n",
        "                                    None,     # Incluye aquí todos los hiperparámetros y valores que consideres adecuados.\n",
        "                                    random_state=1))\n",
        "  nombres.append('RIDGE')\n",
        "\n",
        "\n",
        "  # Elastic_Net - - Regresión Logística con regularización L1 y L2:\n",
        "  modelos.append(LogisticRegression(penalty='elasticnet',\n",
        "                                    None,     # Incluye aquí todos los hiperparámetros y valores que consideres adecuados.\n",
        "                                    random_state=1))\n",
        "  nombres.append('EN')\n",
        "\n",
        "\n",
        "\n",
        "  # kNN - k-Vecinos más cercanos:\n",
        "  modelos.append(KNeighborsClassifier(None)) # Incluye aquí todos los hiperparámetros y valores que consideres adecuados.\n",
        "  nombres.append('kNN')\n",
        "\n",
        "  return modelos, nombres\n",
        "\n",
        "# ++++++++++ Termina sección para agregar tu código ++++++++++++++++++++++++\n",
        "\n",
        "\n",
        "\n",
        "# Entrenamos los modelos:\n",
        "\n",
        "modelos, nombres = mis_modelos()  # accesando los modelos.\n",
        "resultados = list()    # para guardar los resultados en esta lista.\n",
        "\n",
        "# Iterando y entrenando sobre cada modelo:\n",
        "for i in range(len(modelos)):\n",
        "\n",
        "  pipeline = Pipeline(steps=[('ct',columnasTransformer),('m',modelos[i])])   # Transformaciones y modelo en un Pipeline.\n",
        "\n",
        "  cv1 = RepeatedStratifiedKFold(n_splits=5, n_repeats=3, random_state=7)     # Aplicando una de las variantes de Validación Cruzada.\n",
        "\n",
        "  scores = cross_val_score(pipeline, Xtv, np.ravel(ytv), scoring='accuracy', cv=cv1)   # entrenando y generando los resultados.\n",
        "\n",
        "  resultados.append(scores)    # guardando los resultados en la lista.\n",
        "  print('>> %s %.3f (%.3f)' % (nombres[i], np.nanmean(scores), np.nanstd(scores)))  # desplegando los promedios de cada modelo.\n",
        "\n",
        "\n",
        "plt.boxplot(resultados, labels=nombres, showmeans=True)   # gráficos de caja para una comparación visual de los resultados.\n",
        "plt.show()"
      ],
      "metadata": {
        "id": "BzSCDRquFm5z"
      },
      "id": "BzSCDRquFm5z",
      "execution_count": null,
      "outputs": []
    },
    {
      "cell_type": "markdown",
      "source": [
        "# **Ejercicio 11:**"
      ],
      "metadata": {
        "id": "hZsec1sDGxly"
      },
      "id": "hZsec1sDGxly"
    },
    {
      "cell_type": "markdown",
      "source": [
        "#### **Utilizando el mejor modelo y los datos Xtv, ytv, realiza una búsqueda de malla para encontrar los mejores hiperparámetros. Verifica que el modelo no esté subentrenado o sobreentrenado.**\n",
        "\n"
      ],
      "metadata": {
        "id": "lCepDvlqIhlr"
      },
      "id": "lCepDvlqIhlr"
    },
    {
      "cell_type": "code",
      "source": [
        "# +++++++++ Inicia sección para incluir tu código ++++++++++++++++++++++++\n",
        "\n",
        "\n",
        "mejor_modelo = None\n",
        "\n",
        "\n",
        "# +++++++++ Termina sección para incluir tu código ++++++++++++++++++++++++\n",
        "\n",
        "\n",
        "\n",
        "print(\"Mejor modelo: %f usando %s\" % (grid_result.best_score_, grid_result.best_params_))\n",
        "print('Promedios Train mean(std): %.4f(%.4f)' % (np.nanmean(grid_result.cv_results_['mean_train_score']),\n",
        "                                                 np.nanmean(grid_result.cv_results_['std_train_score'])))\n",
        "print('Promedios Val mean(std): %.4f(%.4f)' % (grid_result.cv_results_['mean_test_score'].mean(),\n",
        "                                               grid_result.cv_results_['std_test_score'].mean()))\n"
      ],
      "metadata": {
        "id": "-J1NiHo6Duhr"
      },
      "id": "-J1NiHo6Duhr",
      "execution_count": null,
      "outputs": []
    },
    {
      "cell_type": "markdown",
      "source": [
        "# **Ejercicio 12:**"
      ],
      "metadata": {
        "id": "O21vnmQ2NGfV"
      },
      "id": "O21vnmQ2NGfV"
    },
    {
      "cell_type": "markdown",
      "source": [
        "#### **Con los mejores valores de hiperparámetros del mejor modelo encontrado, obtener:**\n",
        "\n",
        "*   #### **a) Matriz de Confusión.**\n",
        "*   #### **b) Análisis de Imprtancia de Factores.**\n",
        "*   #### **c) Reporte de métricas.**"
      ],
      "metadata": {
        "id": "49YltpUDNBFh"
      },
      "id": "49YltpUDNBFh"
    },
    {
      "cell_type": "code",
      "source": [
        "# +++++++++ Inicia sección para incluir tu código ++++++++++++++++++++++++\n",
        "# Incluye todas las celdas que consideres adecuado para responder\n",
        "# estos tres incisos del ejercicio.\n",
        "\n",
        "\n",
        "None\n",
        "\n",
        "\n",
        "# +++++++++ Termina sección para incluir tu código ++++++++++++++++++++++++"
      ],
      "metadata": {
        "id": "f4saUgimLkxX"
      },
      "id": "f4saUgimLkxX",
      "execution_count": null,
      "outputs": []
    },
    {
      "cell_type": "markdown",
      "source": [
        "# **Ejercicio 13**"
      ],
      "metadata": {
        "id": "EmT2jehoOJP-"
      },
      "id": "EmT2jehoOJP-"
    },
    {
      "cell_type": "markdown",
      "source": [
        "#### **Obtener el desempeño final del modelo (accuracy) con el conjunto de prueba (test).**"
      ],
      "metadata": {
        "id": "4-gTbTSUOGPv"
      },
      "id": "4-gTbTSUOGPv"
    },
    {
      "cell_type": "code",
      "source": [
        "# +++++++++ Inicia sección para incluir tu código ++++++++++++++++++++++++\n",
        "\n",
        "None\n",
        "\n",
        "# +++++++++ Termina sección para incluir tu código ++++++++++++++++++++++++"
      ],
      "metadata": {
        "id": "RSQkAnyBN_u4"
      },
      "id": "RSQkAnyBN_u4",
      "execution_count": null,
      "outputs": []
    },
    {
      "cell_type": "markdown",
      "source": [
        "# **Ejercicio 14**"
      ],
      "metadata": {
        "id": "QnsFJvAHORHW"
      },
      "id": "QnsFJvAHORHW"
    },
    {
      "cell_type": "markdown",
      "source": [
        "#### **Incluye tus conclusiones finales de la actividad.**"
      ],
      "metadata": {
        "id": "aUFofqzHOVAl"
      },
      "id": "aUFofqzHOVAl"
    },
    {
      "cell_type": "markdown",
      "source": [
        "#### +++++++++ Inicia sección para incluir tus conclusiones ++++++++++++++++++++++++\n",
        "\n",
        "None\n",
        "\n",
        "#### +++++++++ Termina sección para incluir tus conclusiones ++++++++++++++++++++++++"
      ],
      "metadata": {
        "id": "Quiag20AOYH0"
      },
      "id": "Quiag20AOYH0"
    },
    {
      "cell_type": "markdown",
      "id": "5fd5aadb",
      "metadata": {
        "id": "5fd5aadb"
      },
      "source": [
        "# >> **Fin de la Actividad de la Semana 3** <<"
      ]
    }
  ],
  "metadata": {
    "kernelspec": {
      "display_name": "Python 3 (ipykernel)",
      "language": "python",
      "name": "python3"
    },
    "language_info": {
      "codemirror_mode": {
        "name": "ipython",
        "version": 3
      },
      "file_extension": ".py",
      "mimetype": "text/x-python",
      "name": "python",
      "nbconvert_exporter": "python",
      "pygments_lexer": "ipython3",
      "version": "3.9.13"
    },
    "colab": {
      "provenance": [],
      "collapsed_sections": [
        "ac09ecaf",
        "_FN5RwbGpz0c",
        "4KnDCDS5vh05",
        "-kGON2vOw9_8",
        "BFJsH9kx0vFa",
        "89133c57",
        "3iE95_bh8XF4",
        "7UnNwVptCnmk",
        "2WjnvhIrEy8x",
        "FYSK42MxFaHk",
        "hZsec1sDGxly",
        "O21vnmQ2NGfV",
        "EmT2jehoOJP-",
        "QnsFJvAHORHW"
      ]
    }
  },
  "nbformat": 4,
  "nbformat_minor": 5
}