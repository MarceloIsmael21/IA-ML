{
  "nbformat": 4,
  "nbformat_minor": 0,
  "metadata": {
    "colab": {
      "provenance": []
    },
    "kernelspec": {
      "name": "python3",
      "display_name": "Python 3"
    },
    "language_info": {
      "name": "python"
    }
  },
  "cells": [
    {
      "cell_type": "markdown",
      "source": [
        "# **Inteligencia Artificial y Aprendizaje Automático**\n",
        "## **Maestría en Inteligencia Artificial Aplicada**\n",
        "### **Dr Luis Eduardo Falcón Morales**\n",
        "### **Tecnológico de Monterrey**\n",
        "## **Actividad Individual Semana 9: Pronósticos con Series de Tiempo**\n"
      ],
      "metadata": {
        "id": "Vcwn6Uf7uhNs"
      }
    },
    {
      "cell_type": "markdown",
      "source": [
        "#### **Nombre:**\n",
        "#### **Matrícula:**"
      ],
      "metadata": {
        "id": "Iy0AnEcZYpQP"
      }
    },
    {
      "cell_type": "code",
      "source": [
        "## ++++++++++ Incluye todas las celdas y líneas de código que requieras +++++++++++++++++++++++++"
      ],
      "metadata": {
        "id": "fqiUfAF5Y8bH"
      },
      "execution_count": null,
      "outputs": []
    },
    {
      "cell_type": "code",
      "source": [],
      "metadata": {
        "id": "rjmLUxI7ZKr-"
      },
      "execution_count": null,
      "outputs": []
    },
    {
      "cell_type": "code",
      "source": [],
      "metadata": {
        "id": "zMbOEp69ZKnu"
      },
      "execution_count": null,
      "outputs": []
    },
    {
      "cell_type": "markdown",
      "source": [
        "## **<<< Fin de la Actividad de la Semana - Pronósticos y Series de Tiempo >>>**"
      ],
      "metadata": {
        "id": "Z-A1PvcZOuRt"
      }
    }
  ]
}