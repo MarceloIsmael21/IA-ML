{
  "cells": [
    {
      "cell_type": "markdown",
      "metadata": {
        "id": "Vcwn6Uf7uhNs"
      },
      "source": [
        "# **Inteligencia Artificial y Aprendizaje Automático**\n",
        "## **Maestría en Inteligencia Artificial Aplicada**\n",
        "### **Dr Luis Eduardo Falcón Morales**\n",
        "### **Tecnológico de Monterrey**\n",
        "**Actividad Curvas ROC y PR**\n"
      ]
    },
    {
      "cell_type": "markdown",
      "metadata": {
        "id": "kRCOkHwLRnzT"
      },
      "source": [
        "# **Introducción**"
      ]
    },
    {
      "cell_type": "markdown",
      "metadata": {
        "id": "8Sf5NIkOyoWB"
      },
      "source": [
        "La actividad se basa en los datos conocidos como \"oil-spill\" (derrame de petróleo).\n",
        "\n",
        "El archivo de los datos está en Canvas y se llama \"oil-spill.csv\".\n"
      ]
    },
    {
      "cell_type": "markdown",
      "metadata": {
        "id": "NAssj-ZfaefR"
      },
      "source": [
        "En la siguiente liga se encuentra la liga del artículo relacionado a dicha base de datos. Los datos incluyen 50 columnas y 937 registros. Las primeras 49 columnas son métricas obtenidas de imágenes satelitales del océano, en algunas de las cuales se tiene petróleo que fue derramado por alguna fuente desconocida. En el artículo se describe a detalle la manera en que se obtuvieron dichas columnas. Para la actividad es suficiente considerarlas como de valor numérico. La última columna es de valor 1 (hay derrame en esa sección de la imagen) o 0 (no hay derrame en esa sección de la imagen).\n",
        "\n",
        "https://webdocs.cs.ualberta.ca/~holte/Publications/oilspill.pdf"
      ]
    },
    {
      "cell_type": "markdown",
      "metadata": {
        "id": "kyKUDqIQjzUX"
      },
      "source": [
        "En la siguiente liga puedes encontrar información de varias de las métricas que estaremos utilizando:\n",
        "\n",
        "https://scikit-learn.org/stable/modules/model_evaluation.html#scoring-parameter"
      ]
    },
    {
      "cell_type": "markdown",
      "metadata": {
        "id": "F2MPvM4qFqXt"
      },
      "source": [
        "La media geométrica se puede obtener combinando las métricas anteriores, pero para fines prácticos usaremos la de la librería llamada \"imbalanced-learn\":\n",
        "\n",
        "https://glemaitre.github.io/imbalanced-learn/generated/imblearn.metrics.geometric_mean_score.html"
      ]
    },
    {
      "cell_type": "code",
      "execution_count": 43,
      "metadata": {
        "id": "tITKimmr7qVx"
      },
      "outputs": [],
      "source": [
        "# Incluye todas las librerías que consideres adecuadas:\n",
        "\n",
        "import pandas as pd\n",
        "import numpy as np\n",
        "import matplotlib.pyplot as plt\n",
        "from pandas import read_csv\n",
        "from sklearn.model_selection import train_test_split\n",
        "\n",
        "from sklearn.dummy import DummyClassifier\n",
        "from sklearn.model_selection import RepeatedStratifiedKFold, cross_val_score, cross_validate\n",
        "from sklearn.metrics import make_scorer, roc_curve, RocCurveDisplay, PrecisionRecallDisplay, ConfusionMatrixDisplay\n",
        "from imblearn.metrics import geometric_mean_score\n",
        "from sklearn.pipeline import Pipeline\n",
        "from sklearn.compose import ColumnTransformer\n",
        "from sklearn.impute import SimpleImputer\n",
        "from sklearn.preprocessing import StandardScaler\n",
        "from sklearn.linear_model import LogisticRegression\n",
        "from sklearn.neighbors import KNeighborsClassifier\n",
        "\n",
        "#from sklearn.model_selection import\n",
        "\n",
        "None\n"
      ]
    },
    {
      "cell_type": "markdown",
      "metadata": {
        "id": "l4jSSZhk_8kD"
      },
      "source": [
        "Para fines de la actividad procesaremos los datos de manera estándar para concentrarnos en los temas de la actividad."
      ]
    },
    {
      "cell_type": "code",
      "execution_count": 2,
      "metadata": {
        "id": "tGAgcXPWzJCy"
      },
      "outputs": [
        {
          "name": "stdout",
          "output_type": "stream",
          "text": [
            "Dimensión del DataFrame (937, 50)\n",
            "\n",
            "Partición:\n",
            "Train: Conteo clase positiva=29, Porcentaje=4.40%\n",
            "Val: Conteo clase positiva=7, Porcentaje=4.24%\n",
            "Test: Conteo clase positiva=5, Porcentaje=4.42%\n"
          ]
        }
      ],
      "source": [
        "path = 'oil_spill.csv'\n",
        "df = read_csv(path, header=None)   # no tienen nombre las columnas\n",
        "\n",
        "print('Dimensión del DataFrame',df.shape)\n",
        "\n",
        "# eliminamos las siguientes columnas:\n",
        "df.drop(22, axis=1, inplace=True)    # Esta columna tiene un solo valor constante.\n",
        "df.drop(0, axis=1, inplace=True)     # Esta columna contiene información de secciones (batches) de las imágenes, que no la requerimos.\n",
        "\n",
        "df.columns = [i for i in range(df.shape[1])]   # Renombramos las columnas para que sean enteros consecutivos.\n",
        "\n",
        "# Particionamos los datos de entrada (X) y de salida (y):\n",
        "X,y = df.iloc[:,:-1], df.iloc[:,-1]\n",
        "\n",
        "Xtv, Xtest, ytv, ytest = train_test_split(X, y, test_size=0.12, stratify=y, shuffle=True, random_state=0)\n",
        "Xtrain, Xval, ytrain, yval = train_test_split(Xtv, ytv, test_size=0.2, shuffle=True, random_state=5)\n",
        "print('\\nPartición:')\n",
        "print('Train: Conteo clase positiva=%d, Porcentaje=%.2f%%' % (ytrain.sum(), 100*(ytrain.sum() / len(ytrain))))\n",
        "print('Val: Conteo clase positiva=%d, Porcentaje=%.2f%%' % (yval.sum(), 100*(yval.sum() / len(yval))))\n",
        "print('Test: Conteo clase positiva=%d, Porcentaje=%.2f%%' % (ytest.sum(), 100*(ytest.sum() / len(ytest))))"
      ]
    },
    {
      "cell_type": "markdown",
      "metadata": {
        "id": "-jLdlxjXBoK_"
      },
      "source": [
        "Breve descripción numérica y gráfica del conjunto de entrenamiento:"
      ]
    },
    {
      "cell_type": "code",
      "execution_count": 3,
      "metadata": {
        "id": "jVLkQMkygVb_"
      },
      "outputs": [
        {
          "data": {
            "text/html": [
              "<div>\n",
              "<style scoped>\n",
              "    .dataframe tbody tr th:only-of-type {\n",
              "        vertical-align: middle;\n",
              "    }\n",
              "\n",
              "    .dataframe tbody tr th {\n",
              "        vertical-align: top;\n",
              "    }\n",
              "\n",
              "    .dataframe thead th {\n",
              "        text-align: right;\n",
              "    }\n",
              "</style>\n",
              "<table border=\"1\" class=\"dataframe\">\n",
              "  <thead>\n",
              "    <tr style=\"text-align: right;\">\n",
              "      <th></th>\n",
              "      <th>count</th>\n",
              "      <th>mean</th>\n",
              "      <th>std</th>\n",
              "      <th>min</th>\n",
              "      <th>25%</th>\n",
              "      <th>50%</th>\n",
              "      <th>75%</th>\n",
              "      <th>max</th>\n",
              "    </tr>\n",
              "  </thead>\n",
              "  <tbody>\n",
              "    <tr>\n",
              "      <th>0</th>\n",
              "      <td>659.0</td>\n",
              "      <td>344.153263</td>\n",
              "      <td>1.880555e+03</td>\n",
              "      <td>10.00</td>\n",
              "      <td>22.000</td>\n",
              "      <td>65.00</td>\n",
              "      <td>134.500</td>\n",
              "      <td>28526.00</td>\n",
              "    </tr>\n",
              "    <tr>\n",
              "      <th>1</th>\n",
              "      <td>659.0</td>\n",
              "      <td>709.286161</td>\n",
              "      <td>5.993162e+02</td>\n",
              "      <td>1.95</td>\n",
              "      <td>97.475</td>\n",
              "      <td>727.45</td>\n",
              "      <td>1242.135</td>\n",
              "      <td>1893.08</td>\n",
              "    </tr>\n",
              "    <tr>\n",
              "      <th>2</th>\n",
              "      <td>659.0</td>\n",
              "      <td>867.791608</td>\n",
              "      <td>5.145066e+02</td>\n",
              "      <td>1.00</td>\n",
              "      <td>445.065</td>\n",
              "      <td>791.35</td>\n",
              "      <td>1243.220</td>\n",
              "      <td>2674.16</td>\n",
              "    </tr>\n",
              "    <tr>\n",
              "      <th>3</th>\n",
              "      <td>659.0</td>\n",
              "      <td>85.078907</td>\n",
              "      <td>4.573682e+01</td>\n",
              "      <td>0.00</td>\n",
              "      <td>55.000</td>\n",
              "      <td>74.00</td>\n",
              "      <td>119.000</td>\n",
              "      <td>180.00</td>\n",
              "    </tr>\n",
              "    <tr>\n",
              "      <th>4</th>\n",
              "      <td>659.0</td>\n",
              "      <td>824339.418816</td>\n",
              "      <td>4.131627e+06</td>\n",
              "      <td>70312.00</td>\n",
              "      <td>127500.000</td>\n",
              "      <td>187500.00</td>\n",
              "      <td>348750.000</td>\n",
              "      <td>71315000.00</td>\n",
              "    </tr>\n",
              "    <tr>\n",
              "      <th>5</th>\n",
              "      <td>659.0</td>\n",
              "      <td>42.966449</td>\n",
              "      <td>1.259403e+01</td>\n",
              "      <td>21.24</td>\n",
              "      <td>33.430</td>\n",
              "      <td>39.64</td>\n",
              "      <td>51.975</td>\n",
              "      <td>82.64</td>\n",
              "    </tr>\n",
              "    <tr>\n",
              "      <th>6</th>\n",
              "      <td>659.0</td>\n",
              "      <td>9.162307</td>\n",
              "      <td>3.587007e+00</td>\n",
              "      <td>0.83</td>\n",
              "      <td>6.920</td>\n",
              "      <td>8.22</td>\n",
              "      <td>10.755</td>\n",
              "      <td>24.28</td>\n",
              "    </tr>\n",
              "    <tr>\n",
              "      <th>7</th>\n",
              "      <td>659.0</td>\n",
              "      <td>4119.098634</td>\n",
              "      <td>8.899523e+03</td>\n",
              "      <td>667.00</td>\n",
              "      <td>1404.750</td>\n",
              "      <td>2167.00</td>\n",
              "      <td>3600.000</td>\n",
              "      <td>160740.00</td>\n",
              "    </tr>\n",
              "    <tr>\n",
              "      <th>8</th>\n",
              "      <td>659.0</td>\n",
              "      <td>0.222898</td>\n",
              "      <td>8.984421e-02</td>\n",
              "      <td>0.02</td>\n",
              "      <td>0.170</td>\n",
              "      <td>0.21</td>\n",
              "      <td>0.260</td>\n",
              "      <td>0.74</td>\n",
              "    </tr>\n",
              "    <tr>\n",
              "      <th>9</th>\n",
              "      <td>659.0</td>\n",
              "      <td>110.288771</td>\n",
              "      <td>6.272348e+01</td>\n",
              "      <td>47.00</td>\n",
              "      <td>82.950</td>\n",
              "      <td>99.80</td>\n",
              "      <td>115.700</td>\n",
              "      <td>901.70</td>\n",
              "    </tr>\n",
              "    <tr>\n",
              "      <th>10</th>\n",
              "      <td>659.0</td>\n",
              "      <td>0.251608</td>\n",
              "      <td>8.625698e-02</td>\n",
              "      <td>0.02</td>\n",
              "      <td>0.200</td>\n",
              "      <td>0.24</td>\n",
              "      <td>0.290</td>\n",
              "      <td>0.63</td>\n",
              "    </tr>\n",
              "    <tr>\n",
              "      <th>11</th>\n",
              "      <td>659.0</td>\n",
              "      <td>0.311214</td>\n",
              "      <td>1.188971e-01</td>\n",
              "      <td>0.03</td>\n",
              "      <td>0.240</td>\n",
              "      <td>0.29</td>\n",
              "      <td>0.350</td>\n",
              "      <td>0.83</td>\n",
              "    </tr>\n",
              "    <tr>\n",
              "      <th>12</th>\n",
              "      <td>659.0</td>\n",
              "      <td>0.485706</td>\n",
              "      <td>2.129456e-01</td>\n",
              "      <td>0.05</td>\n",
              "      <td>0.330</td>\n",
              "      <td>0.44</td>\n",
              "      <td>0.615</td>\n",
              "      <td>1.19</td>\n",
              "    </tr>\n",
              "    <tr>\n",
              "      <th>13</th>\n",
              "      <td>659.0</td>\n",
              "      <td>0.183460</td>\n",
              "      <td>8.314772e-02</td>\n",
              "      <td>0.01</td>\n",
              "      <td>0.130</td>\n",
              "      <td>0.18</td>\n",
              "      <td>0.220</td>\n",
              "      <td>0.65</td>\n",
              "    </tr>\n",
              "    <tr>\n",
              "      <th>14</th>\n",
              "      <td>659.0</td>\n",
              "      <td>0.302382</td>\n",
              "      <td>2.019757e-01</td>\n",
              "      <td>0.01</td>\n",
              "      <td>0.130</td>\n",
              "      <td>0.27</td>\n",
              "      <td>0.420</td>\n",
              "      <td>1.10</td>\n",
              "    </tr>\n",
              "    <tr>\n",
              "      <th>15</th>\n",
              "      <td>659.0</td>\n",
              "      <td>83.765508</td>\n",
              "      <td>3.584974e+02</td>\n",
              "      <td>6.37</td>\n",
              "      <td>21.240</td>\n",
              "      <td>34.87</td>\n",
              "      <td>64.370</td>\n",
              "      <td>6058.23</td>\n",
              "    </tr>\n",
              "    <tr>\n",
              "      <th>16</th>\n",
              "      <td>659.0</td>\n",
              "      <td>35.155129</td>\n",
              "      <td>1.816125e+02</td>\n",
              "      <td>1.96</td>\n",
              "      <td>11.630</td>\n",
              "      <td>16.27</td>\n",
              "      <td>24.295</td>\n",
              "      <td>4061.15</td>\n",
              "    </tr>\n",
              "    <tr>\n",
              "      <th>17</th>\n",
              "      <td>659.0</td>\n",
              "      <td>0.903748</td>\n",
              "      <td>6.658546e-01</td>\n",
              "      <td>0.13</td>\n",
              "      <td>0.370</td>\n",
              "      <td>0.72</td>\n",
              "      <td>1.050</td>\n",
              "      <td>2.60</td>\n",
              "    </tr>\n",
              "    <tr>\n",
              "      <th>18</th>\n",
              "      <td>659.0</td>\n",
              "      <td>0.228604</td>\n",
              "      <td>7.270831e-02</td>\n",
              "      <td>0.02</td>\n",
              "      <td>0.180</td>\n",
              "      <td>0.22</td>\n",
              "      <td>0.270</td>\n",
              "      <td>0.58</td>\n",
              "    </tr>\n",
              "    <tr>\n",
              "      <th>19</th>\n",
              "      <td>659.0</td>\n",
              "      <td>0.289196</td>\n",
              "      <td>1.019243e-01</td>\n",
              "      <td>0.02</td>\n",
              "      <td>0.230</td>\n",
              "      <td>0.27</td>\n",
              "      <td>0.325</td>\n",
              "      <td>0.76</td>\n",
              "    </tr>\n",
              "    <tr>\n",
              "      <th>20</th>\n",
              "      <td>659.0</td>\n",
              "      <td>76.546813</td>\n",
              "      <td>2.296954e+01</td>\n",
              "      <td>47.66</td>\n",
              "      <td>55.850</td>\n",
              "      <td>75.26</td>\n",
              "      <td>85.220</td>\n",
              "      <td>126.08</td>\n",
              "    </tr>\n",
              "    <tr>\n",
              "      <th>21</th>\n",
              "      <td>659.0</td>\n",
              "      <td>0.634219</td>\n",
              "      <td>2.976817e-01</td>\n",
              "      <td>0.17</td>\n",
              "      <td>0.450</td>\n",
              "      <td>0.50</td>\n",
              "      <td>0.960</td>\n",
              "      <td>1.33</td>\n",
              "    </tr>\n",
              "    <tr>\n",
              "      <th>22</th>\n",
              "      <td>659.0</td>\n",
              "      <td>566.533612</td>\n",
              "      <td>6.147895e+02</td>\n",
              "      <td>132.78</td>\n",
              "      <td>221.970</td>\n",
              "      <td>351.67</td>\n",
              "      <td>422.120</td>\n",
              "      <td>2036.80</td>\n",
              "    </tr>\n",
              "    <tr>\n",
              "      <th>23</th>\n",
              "      <td>659.0</td>\n",
              "      <td>0.585751</td>\n",
              "      <td>7.080998e-01</td>\n",
              "      <td>-0.71</td>\n",
              "      <td>0.180</td>\n",
              "      <td>0.87</td>\n",
              "      <td>1.010</td>\n",
              "      <td>1.83</td>\n",
              "    </tr>\n",
              "    <tr>\n",
              "      <th>24</th>\n",
              "      <td>659.0</td>\n",
              "      <td>7.606980</td>\n",
              "      <td>4.020812e+00</td>\n",
              "      <td>2.96</td>\n",
              "      <td>4.660</td>\n",
              "      <td>5.07</td>\n",
              "      <td>12.060</td>\n",
              "      <td>14.78</td>\n",
              "    </tr>\n",
              "    <tr>\n",
              "      <th>25</th>\n",
              "      <td>659.0</td>\n",
              "      <td>0.613278</td>\n",
              "      <td>8.475365e-01</td>\n",
              "      <td>-1.79</td>\n",
              "      <td>0.100</td>\n",
              "      <td>0.49</td>\n",
              "      <td>0.990</td>\n",
              "      <td>5.58</td>\n",
              "    </tr>\n",
              "    <tr>\n",
              "      <th>26</th>\n",
              "      <td>659.0</td>\n",
              "      <td>4.325736</td>\n",
              "      <td>3.592343e+00</td>\n",
              "      <td>1.44</td>\n",
              "      <td>2.660</td>\n",
              "      <td>3.34</td>\n",
              "      <td>4.660</td>\n",
              "      <td>39.05</td>\n",
              "    </tr>\n",
              "    <tr>\n",
              "      <th>27</th>\n",
              "      <td>659.0</td>\n",
              "      <td>-2.850349</td>\n",
              "      <td>1.583273e+00</td>\n",
              "      <td>-7.76</td>\n",
              "      <td>-3.260</td>\n",
              "      <td>-2.78</td>\n",
              "      <td>-1.680</td>\n",
              "      <td>0.92</td>\n",
              "    </tr>\n",
              "    <tr>\n",
              "      <th>28</th>\n",
              "      <td>659.0</td>\n",
              "      <td>-0.426859</td>\n",
              "      <td>2.152887e-01</td>\n",
              "      <td>-1.37</td>\n",
              "      <td>-0.530</td>\n",
              "      <td>-0.39</td>\n",
              "      <td>-0.280</td>\n",
              "      <td>0.00</td>\n",
              "    </tr>\n",
              "    <tr>\n",
              "      <th>29</th>\n",
              "      <td>659.0</td>\n",
              "      <td>1.835964</td>\n",
              "      <td>6.440233e-01</td>\n",
              "      <td>0.00</td>\n",
              "      <td>1.220</td>\n",
              "      <td>1.95</td>\n",
              "      <td>2.170</td>\n",
              "      <td>2.98</td>\n",
              "    </tr>\n",
              "    <tr>\n",
              "      <th>30</th>\n",
              "      <td>659.0</td>\n",
              "      <td>0.002640</td>\n",
              "      <td>4.761813e-02</td>\n",
              "      <td>0.00</td>\n",
              "      <td>0.000</td>\n",
              "      <td>0.00</td>\n",
              "      <td>0.000</td>\n",
              "      <td>0.87</td>\n",
              "    </tr>\n",
              "    <tr>\n",
              "      <th>31</th>\n",
              "      <td>659.0</td>\n",
              "      <td>1.833308</td>\n",
              "      <td>6.485637e-01</td>\n",
              "      <td>0.00</td>\n",
              "      <td>1.220</td>\n",
              "      <td>1.95</td>\n",
              "      <td>2.170</td>\n",
              "      <td>2.98</td>\n",
              "    </tr>\n",
              "    <tr>\n",
              "      <th>32</th>\n",
              "      <td>659.0</td>\n",
              "      <td>44.927162</td>\n",
              "      <td>1.016981e+02</td>\n",
              "      <td>3.00</td>\n",
              "      <td>12.000</td>\n",
              "      <td>23.00</td>\n",
              "      <td>40.000</td>\n",
              "      <td>1695.00</td>\n",
              "    </tr>\n",
              "    <tr>\n",
              "      <th>33</th>\n",
              "      <td>659.0</td>\n",
              "      <td>2531.608498</td>\n",
              "      <td>5.585160e+03</td>\n",
              "      <td>360.00</td>\n",
              "      <td>720.000</td>\n",
              "      <td>1350.00</td>\n",
              "      <td>2160.000</td>\n",
              "      <td>95310.00</td>\n",
              "    </tr>\n",
              "    <tr>\n",
              "      <th>34</th>\n",
              "      <td>659.0</td>\n",
              "      <td>0.006859</td>\n",
              "      <td>5.258930e-03</td>\n",
              "      <td>0.00</td>\n",
              "      <td>0.000</td>\n",
              "      <td>0.01</td>\n",
              "      <td>0.010</td>\n",
              "      <td>0.02</td>\n",
              "    </tr>\n",
              "    <tr>\n",
              "      <th>35</th>\n",
              "      <td>659.0</td>\n",
              "      <td>32.059788</td>\n",
              "      <td>3.275910e+01</td>\n",
              "      <td>5.05</td>\n",
              "      <td>14.280</td>\n",
              "      <td>24.29</td>\n",
              "      <td>38.915</td>\n",
              "      <td>441.23</td>\n",
              "    </tr>\n",
              "    <tr>\n",
              "      <th>36</th>\n",
              "      <td>659.0</td>\n",
              "      <td>91.280728</td>\n",
              "      <td>2.206770e+01</td>\n",
              "      <td>64.00</td>\n",
              "      <td>78.000</td>\n",
              "      <td>82.00</td>\n",
              "      <td>99.000</td>\n",
              "      <td>143.00</td>\n",
              "    </tr>\n",
              "    <tr>\n",
              "      <th>37</th>\n",
              "      <td>659.0</td>\n",
              "      <td>60.725341</td>\n",
              "      <td>1.388682e+01</td>\n",
              "      <td>39.00</td>\n",
              "      <td>50.000</td>\n",
              "      <td>55.00</td>\n",
              "      <td>67.000</td>\n",
              "      <td>86.00</td>\n",
              "    </tr>\n",
              "    <tr>\n",
              "      <th>38</th>\n",
              "      <td>659.0</td>\n",
              "      <td>943.860182</td>\n",
              "      <td>1.033918e+03</td>\n",
              "      <td>0.00</td>\n",
              "      <td>450.780</td>\n",
              "      <td>685.42</td>\n",
              "      <td>1054.085</td>\n",
              "      <td>11949.33</td>\n",
              "    </tr>\n",
              "    <tr>\n",
              "      <th>39</th>\n",
              "      <td>659.0</td>\n",
              "      <td>445.003536</td>\n",
              "      <td>7.512432e+02</td>\n",
              "      <td>0.00</td>\n",
              "      <td>180.000</td>\n",
              "      <td>282.84</td>\n",
              "      <td>474.340</td>\n",
              "      <td>11500.00</td>\n",
              "    </tr>\n",
              "    <tr>\n",
              "      <th>40</th>\n",
              "      <td>659.0</td>\n",
              "      <td>266.278255</td>\n",
              "      <td>5.659219e+02</td>\n",
              "      <td>0.00</td>\n",
              "      <td>94.650</td>\n",
              "      <td>167.14</td>\n",
              "      <td>269.735</td>\n",
              "      <td>9593.48</td>\n",
              "    </tr>\n",
              "    <tr>\n",
              "      <th>41</th>\n",
              "      <td>659.0</td>\n",
              "      <td>109.235645</td>\n",
              "      <td>1.376192e+02</td>\n",
              "      <td>0.00</td>\n",
              "      <td>51.960</td>\n",
              "      <td>76.24</td>\n",
              "      <td>128.200</td>\n",
              "      <td>1648.80</td>\n",
              "    </tr>\n",
              "    <tr>\n",
              "      <th>42</th>\n",
              "      <td>659.0</td>\n",
              "      <td>4.976586</td>\n",
              "      <td>5.220479e+00</td>\n",
              "      <td>0.00</td>\n",
              "      <td>2.350</td>\n",
              "      <td>3.73</td>\n",
              "      <td>6.150</td>\n",
              "      <td>76.63</td>\n",
              "    </tr>\n",
              "    <tr>\n",
              "      <th>43</th>\n",
              "      <td>659.0</td>\n",
              "      <td>0.128983</td>\n",
              "      <td>3.354361e-01</td>\n",
              "      <td>0.00</td>\n",
              "      <td>0.000</td>\n",
              "      <td>0.00</td>\n",
              "      <td>0.000</td>\n",
              "      <td>1.00</td>\n",
              "    </tr>\n",
              "    <tr>\n",
              "      <th>44</th>\n",
              "      <td>659.0</td>\n",
              "      <td>8194.483126</td>\n",
              "      <td>6.920627e+03</td>\n",
              "      <td>2051.50</td>\n",
              "      <td>3809.525</td>\n",
              "      <td>5621.68</td>\n",
              "      <td>9934.025</td>\n",
              "      <td>51985.06</td>\n",
              "    </tr>\n",
              "    <tr>\n",
              "      <th>45</th>\n",
              "      <td>659.0</td>\n",
              "      <td>61.628847</td>\n",
              "      <td>1.048401e+01</td>\n",
              "      <td>35.96</td>\n",
              "      <td>65.715</td>\n",
              "      <td>65.93</td>\n",
              "      <td>66.130</td>\n",
              "      <td>66.45</td>\n",
              "    </tr>\n",
              "    <tr>\n",
              "      <th>46</th>\n",
              "      <td>659.0</td>\n",
              "      <td>8.161335</td>\n",
              "      <td>2.917205e+00</td>\n",
              "      <td>5.81</td>\n",
              "      <td>6.370</td>\n",
              "      <td>7.24</td>\n",
              "      <td>7.850</td>\n",
              "      <td>15.44</td>\n",
              "    </tr>\n",
              "  </tbody>\n",
              "</table>\n",
              "</div>"
            ],
            "text/plain": [
              "    count           mean           std       min         25%        50%  \\\n",
              "0   659.0     344.153263  1.880555e+03     10.00      22.000      65.00   \n",
              "1   659.0     709.286161  5.993162e+02      1.95      97.475     727.45   \n",
              "2   659.0     867.791608  5.145066e+02      1.00     445.065     791.35   \n",
              "3   659.0      85.078907  4.573682e+01      0.00      55.000      74.00   \n",
              "4   659.0  824339.418816  4.131627e+06  70312.00  127500.000  187500.00   \n",
              "5   659.0      42.966449  1.259403e+01     21.24      33.430      39.64   \n",
              "6   659.0       9.162307  3.587007e+00      0.83       6.920       8.22   \n",
              "7   659.0    4119.098634  8.899523e+03    667.00    1404.750    2167.00   \n",
              "8   659.0       0.222898  8.984421e-02      0.02       0.170       0.21   \n",
              "9   659.0     110.288771  6.272348e+01     47.00      82.950      99.80   \n",
              "10  659.0       0.251608  8.625698e-02      0.02       0.200       0.24   \n",
              "11  659.0       0.311214  1.188971e-01      0.03       0.240       0.29   \n",
              "12  659.0       0.485706  2.129456e-01      0.05       0.330       0.44   \n",
              "13  659.0       0.183460  8.314772e-02      0.01       0.130       0.18   \n",
              "14  659.0       0.302382  2.019757e-01      0.01       0.130       0.27   \n",
              "15  659.0      83.765508  3.584974e+02      6.37      21.240      34.87   \n",
              "16  659.0      35.155129  1.816125e+02      1.96      11.630      16.27   \n",
              "17  659.0       0.903748  6.658546e-01      0.13       0.370       0.72   \n",
              "18  659.0       0.228604  7.270831e-02      0.02       0.180       0.22   \n",
              "19  659.0       0.289196  1.019243e-01      0.02       0.230       0.27   \n",
              "20  659.0      76.546813  2.296954e+01     47.66      55.850      75.26   \n",
              "21  659.0       0.634219  2.976817e-01      0.17       0.450       0.50   \n",
              "22  659.0     566.533612  6.147895e+02    132.78     221.970     351.67   \n",
              "23  659.0       0.585751  7.080998e-01     -0.71       0.180       0.87   \n",
              "24  659.0       7.606980  4.020812e+00      2.96       4.660       5.07   \n",
              "25  659.0       0.613278  8.475365e-01     -1.79       0.100       0.49   \n",
              "26  659.0       4.325736  3.592343e+00      1.44       2.660       3.34   \n",
              "27  659.0      -2.850349  1.583273e+00     -7.76      -3.260      -2.78   \n",
              "28  659.0      -0.426859  2.152887e-01     -1.37      -0.530      -0.39   \n",
              "29  659.0       1.835964  6.440233e-01      0.00       1.220       1.95   \n",
              "30  659.0       0.002640  4.761813e-02      0.00       0.000       0.00   \n",
              "31  659.0       1.833308  6.485637e-01      0.00       1.220       1.95   \n",
              "32  659.0      44.927162  1.016981e+02      3.00      12.000      23.00   \n",
              "33  659.0    2531.608498  5.585160e+03    360.00     720.000    1350.00   \n",
              "34  659.0       0.006859  5.258930e-03      0.00       0.000       0.01   \n",
              "35  659.0      32.059788  3.275910e+01      5.05      14.280      24.29   \n",
              "36  659.0      91.280728  2.206770e+01     64.00      78.000      82.00   \n",
              "37  659.0      60.725341  1.388682e+01     39.00      50.000      55.00   \n",
              "38  659.0     943.860182  1.033918e+03      0.00     450.780     685.42   \n",
              "39  659.0     445.003536  7.512432e+02      0.00     180.000     282.84   \n",
              "40  659.0     266.278255  5.659219e+02      0.00      94.650     167.14   \n",
              "41  659.0     109.235645  1.376192e+02      0.00      51.960      76.24   \n",
              "42  659.0       4.976586  5.220479e+00      0.00       2.350       3.73   \n",
              "43  659.0       0.128983  3.354361e-01      0.00       0.000       0.00   \n",
              "44  659.0    8194.483126  6.920627e+03   2051.50    3809.525    5621.68   \n",
              "45  659.0      61.628847  1.048401e+01     35.96      65.715      65.93   \n",
              "46  659.0       8.161335  2.917205e+00      5.81       6.370       7.24   \n",
              "\n",
              "           75%          max  \n",
              "0      134.500     28526.00  \n",
              "1     1242.135      1893.08  \n",
              "2     1243.220      2674.16  \n",
              "3      119.000       180.00  \n",
              "4   348750.000  71315000.00  \n",
              "5       51.975        82.64  \n",
              "6       10.755        24.28  \n",
              "7     3600.000    160740.00  \n",
              "8        0.260         0.74  \n",
              "9      115.700       901.70  \n",
              "10       0.290         0.63  \n",
              "11       0.350         0.83  \n",
              "12       0.615         1.19  \n",
              "13       0.220         0.65  \n",
              "14       0.420         1.10  \n",
              "15      64.370      6058.23  \n",
              "16      24.295      4061.15  \n",
              "17       1.050         2.60  \n",
              "18       0.270         0.58  \n",
              "19       0.325         0.76  \n",
              "20      85.220       126.08  \n",
              "21       0.960         1.33  \n",
              "22     422.120      2036.80  \n",
              "23       1.010         1.83  \n",
              "24      12.060        14.78  \n",
              "25       0.990         5.58  \n",
              "26       4.660        39.05  \n",
              "27      -1.680         0.92  \n",
              "28      -0.280         0.00  \n",
              "29       2.170         2.98  \n",
              "30       0.000         0.87  \n",
              "31       2.170         2.98  \n",
              "32      40.000      1695.00  \n",
              "33    2160.000     95310.00  \n",
              "34       0.010         0.02  \n",
              "35      38.915       441.23  \n",
              "36      99.000       143.00  \n",
              "37      67.000        86.00  \n",
              "38    1054.085     11949.33  \n",
              "39     474.340     11500.00  \n",
              "40     269.735      9593.48  \n",
              "41     128.200      1648.80  \n",
              "42       6.150        76.63  \n",
              "43       0.000         1.00  \n",
              "44    9934.025     51985.06  \n",
              "45      66.130        66.45  \n",
              "46       7.850        15.44  "
            ]
          },
          "execution_count": 3,
          "metadata": {},
          "output_type": "execute_result"
        }
      ],
      "source": [
        "Xtrain.describe().T"
      ]
    },
    {
      "cell_type": "code",
      "execution_count": 4,
      "metadata": {
        "id": "LQ9SWsZS1PzB"
      },
      "outputs": [
        {
          "data": {
            "image/png": "[encoded data removed]",
            "text/plain": [
              "<Figure size 640x480 with 49 Axes>"
            ]
          },
          "metadata": {},
          "output_type": "display_data"
        }
      ],
      "source": [
        "ax = Xtrain.hist()  # Histogramas:\n",
        "# Quitemos toda la información del gráfico para visualizarlo de manera sencilla:\n",
        "for axis in ax.flatten():\n",
        "  axis.set_title('')\n",
        "  axis.set_xticklabels([])\n",
        "  axis.set_yticklabels([])\n",
        "plt.show()"
      ]
    },
    {
      "cell_type": "code",
      "execution_count": 5,
      "metadata": {
        "id": "MlCqWN-Tl_CG"
      },
      "outputs": [
        {
          "name": "stdout",
          "output_type": "stream",
          "text": [
            "<class 'pandas.core.frame.DataFrame'>\n",
            "Index: 659 entries, 770 to 460\n",
            "Data columns (total 47 columns):\n",
            " #   Column  Non-Null Count  Dtype  \n",
            "---  ------  --------------  -----  \n",
            " 0   0       659 non-null    int64  \n",
            " 1   1       659 non-null    float64\n",
            " 2   2       659 non-null    float64\n",
            " 3   3       659 non-null    int64  \n",
            " 4   4       659 non-null    float64\n",
            " 5   5       659 non-null    float64\n",
            " 6   6       659 non-null    float64\n",
            " 7   7       659 non-null    float64\n",
            " 8   8       659 non-null    float64\n",
            " 9   9       659 non-null    float64\n",
            " 10  10      659 non-null    float64\n",
            " 11  11      659 non-null    float64\n",
            " 12  12      659 non-null    float64\n",
            " 13  13      659 non-null    float64\n",
            " 14  14      659 non-null    float64\n",
            " 15  15      659 non-null    float64\n",
            " 16  16      659 non-null    float64\n",
            " 17  17      659 non-null    float64\n",
            " 18  18      659 non-null    float64\n",
            " 19  19      659 non-null    float64\n",
            " 20  20      659 non-null    float64\n",
            " 21  21      659 non-null    float64\n",
            " 22  22      659 non-null    float64\n",
            " 23  23      659 non-null    float64\n",
            " 24  24      659 non-null    float64\n",
            " 25  25      659 non-null    float64\n",
            " 26  26      659 non-null    float64\n",
            " 27  27      659 non-null    float64\n",
            " 28  28      659 non-null    float64\n",
            " 29  29      659 non-null    float64\n",
            " 30  30      659 non-null    float64\n",
            " 31  31      659 non-null    float64\n",
            " 32  32      659 non-null    int64  \n",
            " 33  33      659 non-null    int64  \n",
            " 34  34      659 non-null    float64\n",
            " 35  35      659 non-null    float64\n",
            " 36  36      659 non-null    int64  \n",
            " 37  37      659 non-null    int64  \n",
            " 38  38      659 non-null    float64\n",
            " 39  39      659 non-null    float64\n",
            " 40  40      659 non-null    float64\n",
            " 41  41      659 non-null    float64\n",
            " 42  42      659 non-null    float64\n",
            " 43  43      659 non-null    int64  \n",
            " 44  44      659 non-null    float64\n",
            " 45  45      659 non-null    float64\n",
            " 46  46      659 non-null    float64\n",
            "dtypes: float64(40), int64(7)\n",
            "memory usage: 247.1 KB\n"
          ]
        }
      ],
      "source": [
        "Xtrain.info()"
      ]
    },
    {
      "cell_type": "code",
      "execution_count": 6,
      "metadata": {
        "id": "rRnWD-yoXnk8"
      },
      "outputs": [
        {
          "name": "stdout",
          "output_type": "stream",
          "text": [
            "Métrica G-mean - Media Geométrica: 0.479 (0.186)\n"
          ]
        }
      ],
      "source": [
        "# Código-1:\n",
        "# Aplicamos la función Dummy:\n",
        "\n",
        "def evaluate_model(X, y, model):\n",
        "  cv = RepeatedStratifiedKFold(n_splits=10, n_repeats=3, random_state=1)\n",
        "  metric = make_scorer(geometric_mean_score)\n",
        "  scores = cross_val_score(model, X, y, scoring=metric, cv=cv, n_jobs=-1)\n",
        "  return scores\n",
        "\n",
        "\n",
        "modeloD = DummyClassifier(strategy='uniform')\n",
        "scores = evaluate_model(X, y, modeloD)\n",
        "\n",
        "print('Métrica G-mean - Media Geométrica: %.3f (%.3f)' % (np.mean(scores), np.std(scores)))"
      ]
    },
    {
      "cell_type": "markdown",
      "metadata": {
        "id": "iq142ztPDj9F"
      },
      "source": [
        "# **Ejercicio-1**"
      ]
    },
    {
      "cell_type": "markdown",
      "metadata": {
        "id": "r4t1H1lADk1c"
      },
      "source": [
        "### **Explica lo que hace cada línea de código de la celda anterior llamada \"Código-1\", así como lo que significa el valor que se obtiene en su salida:**\n",
        "\n",
        "**+++++++++++ Inicia sección para agregar texto ++++++++++++++++**\n",
        "\n",
        "\n",
        "\n",
        "1.   Se define una función donde cuenta con 3 entradas: X(predictores), y(salidas) y model (modelo para evaluar)\n",
        "2.   Se define un método de \"réplicas\", que en este caso es un mecanismo de validación cruzada con 10 aleatorizaciones, se repite 3 veces y se inicializa en 1 la semilla para repetibilidad.\n",
        "3.   Se define la métrica a través de la librería \"make_scorer\" para generar un promedio geometrico.  El promedio geométrico proviene de productorias en lugar de sumas con el objetivo de funcionar en sistemas desbalanceados en sus clases (muchos negativos y pocos positivos en este caso)\n",
        "4.   Se calcula scores, la salida de la función.  Para ello se ejecuta un cálculo de puntaje por validación cruzada y se regresa el vector de \"scores\" (o desempeño)\n",
        "5.   Se regresa el valor \"scores\" para finalizar la función definida al inicio del renglón 1\n",
        "6.   Se genera un modelo \"DummyClassifier\" para la aplicación\n",
        "7.   Se ejecura la funcion \"evaluate_model\" para calcular los \"scores\" o el desempeño de un clasificador \"dummyclassifier\" con los valores de predicción y salidas categóricas en el dataframe \"oil spill\".  Se ejecuta por default con las répicas/validaciones cruzadas configuradas.\n",
        "8.   Funcion para imprimir el resultado de la clasificación.\n",
        "9.   Significado del valor de salida:  Se hace un cálculo de estadísticos de los \"scores\", donde se hace evidente el desempeño medio y la desviación estandar de las 30 evaluaciones cruzadas ejecutadas.\n",
        "\n",
        "\n",
        "\n",
        "\n",
        "**+++++++++++ Termina sección para agregar texto ++++++++++++++**"
      ]
    },
    {
      "cell_type": "markdown",
      "metadata": {
        "id": "fYPq7gNDE0Bb"
      },
      "source": [
        "Para fines de esta actividad definimos las siguientes transformaciones del preprocesamiento de los datos:"
      ]
    },
    {
      "cell_type": "code",
      "execution_count": 7,
      "metadata": {
        "id": "vngPHRx4SbJl"
      },
      "outputs": [],
      "source": [
        "# Transforamaciones numéricas:\n",
        "\n",
        "numericas_pipeline = Pipeline(steps = [('impMediana', SimpleImputer(strategy='mean')),\n",
        "                                       ('std_transformer', StandardScaler())])\n",
        "numericas_pipeline_nombres = Xtrain.columns\n",
        "\n",
        "columnasTransformer = ColumnTransformer(transformers = [('num', numericas_pipeline, numericas_pipeline_nombres)],\n",
        "                                        remainder='passthrough')"
      ]
    },
    {
      "cell_type": "code",
      "execution_count": 8,
      "metadata": {
        "id": "On9HsGmUeytp"
      },
      "outputs": [],
      "source": [
        "mi_metrica = make_scorer(geometric_mean_score)  # definimos la métrica G-mean"
      ]
    },
    {
      "cell_type": "code",
      "execution_count": 9,
      "metadata": {
        "id": "OikwDqHbSbF4"
      },
      "outputs": [
        {
          "name": "stdout",
          "output_type": "stream",
          "text": [
            "Resultados de Validación:\n"
          ]
        },
        {
          "name": "stdout",
          "output_type": "stream",
          "text": [
            "LR\n",
            "Exactitud: >> 0.952 (0.014)\n",
            "G-mean: >> 0.733 (0.094)\n",
            "\n",
            "LASSO\n",
            "Exactitud: >> 0.968 (0.009)\n",
            "G-mean: >> 0.689 (0.104)\n",
            "\n",
            "RIDGE\n",
            "Exactitud: >> 0.969 (0.011)\n",
            "G-mean: >> 0.725 (0.108)\n",
            "\n",
            "EN\n",
            "Exactitud: >> 0.968 (0.010)\n",
            "G-mean: >> 0.694 (0.112)\n",
            "\n",
            "kNN\n",
            "Exactitud: >> 0.966 (0.005)\n",
            "G-mean: >> 0.464 (0.204)\n",
            "\n"
          ]
        },
        {
          "name": "stderr",
          "output_type": "stream",
          "text": [
            "/tmp/ipykernel_6538/2889084407.py:62: MatplotlibDeprecationWarning: The 'labels' parameter of boxplot() has been renamed 'tick_labels' since Matplotlib 3.9; support for the old name will be dropped in 3.11.\n",
            "  plt.boxplot(resultados1, labels=nombres,  showmeans=True)\n"
          ]
        },
        {
          "data": {
            "image/png": "[encoded data removed]",
            "text/plain": [
              "<Figure size 640x480 with 1 Axes>"
            ]
          },
          "metadata": {},
          "output_type": "display_data"
        },
        {
          "name": "stderr",
          "output_type": "stream",
          "text": [
            "/tmp/ipykernel_6538/2889084407.py:66: MatplotlibDeprecationWarning: The 'labels' parameter of boxplot() has been renamed 'tick_labels' since Matplotlib 3.9; support for the old name will be dropped in 3.11.\n",
            "  plt.boxplot(resultados2, labels=nombres,  showmeans=True)\n"
          ]
        },
        {
          "data": {
            "image/png": "[encoded data removed]",
            "text/plain": [
              "<Figure size 640x480 with 1 Axes>"
            ]
          },
          "metadata": {},
          "output_type": "display_data"
        }
      ],
      "source": [
        "# Código-2:\n",
        "# ACCURACY & G-mean\n",
        "\n",
        "def mis_modelos1():\n",
        "  modelos, nombres = list(), list()\n",
        "\n",
        "  modelos.append(LogisticRegression(penalty=None,\n",
        "                                    max_iter=2000,\n",
        "                                    random_state=1))\n",
        "  nombres.append('LR')\n",
        "\n",
        "\n",
        "  modelos.append(LogisticRegression(penalty='l1',\n",
        "                                    solver='liblinear',\n",
        "                                    max_iter=2000,\n",
        "                                    random_state=1))\n",
        "  nombres.append('LASSO')\n",
        "\n",
        "\n",
        "  modelos.append(LogisticRegression(penalty='l2',\n",
        "                                    max_iter=2000,\n",
        "                                    random_state=1))\n",
        "  nombres.append('RIDGE')\n",
        "\n",
        "  modelos.append(LogisticRegression(penalty='elasticnet',\n",
        "                                    l1_ratio=0.5,\n",
        "                                    solver='saga',\n",
        "                                    max_iter=5000,\n",
        "                                    random_state=1))\n",
        "  nombres.append('EN')\n",
        "\n",
        "  modelos.append(KNeighborsClassifier(n_neighbors=5))\n",
        "  nombres.append('kNN')\n",
        "\n",
        "  return modelos, nombres\n",
        "\n",
        "# +++++++++++++++++++++++++++++++\n",
        "\n",
        "\n",
        "modelos, nombres = mis_modelos1()\n",
        "resultados1, resultados2 = list(), list()\n",
        "print('Resultados de Validación:')\n",
        "\n",
        "for i in range(len(modelos)):\n",
        "\n",
        "  pipeline = Pipeline(steps=[('ct',columnasTransformer),('m',modelos[i])])\n",
        "  cv1 = RepeatedStratifiedKFold(n_splits=5, n_repeats=3, random_state=7)\n",
        "  scores = cross_validate(pipeline,\n",
        "                          Xtv,\n",
        "                          np.ravel(ytv),\n",
        "                          scoring={'exactitud':'accuracy', 'm_geo':mi_metrica},\n",
        "                          cv=cv1)\n",
        "\n",
        "  resultados1.append(scores['test_exactitud'])\n",
        "  resultados2.append(scores['test_m_geo'])\n",
        "\n",
        "  print(nombres[i])\n",
        "  print('Exactitud: >> %.3f (%.3f)' % (np.nanmean(scores['test_exactitud']), np.nanstd(scores['test_exactitud'])))\n",
        "  print('G-mean: >> %.3f (%.3f)' % (np.nanmean(scores['test_m_geo']), np.nanstd(scores['test_m_geo'])))\n",
        "  print()\n",
        "\n",
        "plt.boxplot(resultados1, labels=nombres,  showmeans=True)\n",
        "plt.title(\"Exactitud - Accuracy\")\n",
        "plt.show()\n",
        "\n",
        "plt.boxplot(resultados2, labels=nombres,  showmeans=True)\n",
        "plt.title(\"G-Mean\")\n",
        "plt.show()\n"
      ]
    },
    {
      "cell_type": "markdown",
      "metadata": {
        "id": "oniRBS-jHjrR"
      },
      "source": [
        "# **Ejercicio-2**"
      ]
    },
    {
      "cell_type": "markdown",
      "metadata": {
        "id": "3iY_XZjcHjoJ"
      },
      "source": [
        "### **Explica por qué la salida y gráficos anteriores nos ayudan a respaldar la decisión de usar la métrica G-mean, en lugar de la exactitud (accuracy) en este problema:**\n",
        "\n",
        "**+++++++++++ Inicia sección para agregar texto ++++++++++++++++**\n",
        "\n",
        "\n",
        "\n",
        "La media geométrica sirve para ponderar la detección adecuada entre falsos positivos y verdaderos positivos particularmente cuando hay clases desbalanceadas.  \n",
        "Al utilizar la productoria en el promedio, si una de las clases sale mal clasificada, la productoria bajará dramáticamente.  Dicho de otra forma, si una de las clases está mal clasificada y da 0%, entonces la productoria se vuelve 0, por lo tanto el sistema es malo al clasificar una clase que es de baja participación.    \n",
        "Para este ejemplo los derrames son de bajísima participación, de modo que detectar mal a una clase tan poco común puede sería crucial en el desempeño de una aplicación de inteligencia artificial, si el sistema clasifica a todo como \"no derrame\" su \"accuracy\" sería igual del 96% (asumiendo que solo hay 4% de derrames en la población), mientras que la media geométrica ponderaría a la clase \"derrames\" penalizando a la métrica total con un 0%.\n",
        "\n",
        "\n",
        "\n",
        "\n",
        "**+++++++++++ Termina sección para agregar texto ++++++++++++++**"
      ]
    },
    {
      "cell_type": "markdown",
      "metadata": {
        "id": "b3Mnv-MgIrQ8"
      },
      "source": [
        "# **Ejercicio-3**"
      ]
    },
    {
      "cell_type": "markdown",
      "metadata": {
        "id": "irQWKhDvIwV1"
      },
      "source": [
        "### **Utilizando en adelante solamente la métrica G-mean y de manera análoga al código de la celda llamada \"Código-2\" anterior, define una función llamada \"mis_modelos2()\" y utilízala para definir los mismos modelos de regresión logística, pero incluyendo el argumento class_weight='balanced'. Los demás hiperparámetros los puedes variar si así lo consideras adecuado. Incluye kNN, aunque no tiene argumento para balanceo de las clases de salida.**"
      ]
    },
    {
      "cell_type": "code",
      "execution_count": null,
      "metadata": {
        "id": "HUf2t741nyt2"
      },
      "outputs": [
        {
          "name": "stdout",
          "output_type": "stream",
          "text": [
            "Resultados de Validación:\n"
          ]
        },
        {
          "name": "stdout",
          "output_type": "stream",
          "text": [
            "LR\n",
            "Exactitud: >> 0.951 (0.017)\n",
            "G-mean: >> 0.693 (0.118)\n",
            "\n",
            "LASSO\n",
            "Exactitud: >> 0.930 (0.023)\n",
            "G-mean: >> 0.849 (0.069)\n",
            "\n",
            "RIDGE\n",
            "Exactitud: >> 0.933 (0.022)\n",
            "G-mean: >> 0.852 (0.070)\n",
            "\n",
            "EN\n",
            "Exactitud: >> 0.931 (0.021)\n",
            "G-mean: >> 0.851 (0.070)\n",
            "\n",
            "kNN\n",
            "Exactitud: >> 0.966 (0.005)\n",
            "G-mean: >> 0.464 (0.204)\n",
            "\n"
          ]
        },
        {
          "name": "stderr",
          "output_type": "stream",
          "text": [
            "/tmp/ipykernel_6538/3324793821.py:77: MatplotlibDeprecationWarning: The 'labels' parameter of boxplot() has been renamed 'tick_labels' since Matplotlib 3.9; support for the old name will be dropped in 3.11.\n",
            "  plt.boxplot(resultados2, labels=nombres2,  showmeans=True)   # gráficos de caja para una comparación visual de los resultados.\n"
          ]
        },
        {
          "data": {
            "image/png": "[encoded data removed]",
            "text/plain": [
              "<Figure size 640x480 with 1 Axes>"
            ]
          },
          "metadata": {},
          "output_type": "display_data"
        }
      ],
      "source": [
        "#  Casos balancedos con hiperparámetro de Regresión Logística:\n",
        "\n",
        "# ++++++++++ Inicia sección para agregar tu código ++++++++++++++++++++++++\n",
        "def mis_modelos2():\n",
        "  modelos, nombres = list(), list()\n",
        "\n",
        "  modelos.append(LogisticRegression(penalty=None,\n",
        "                                    max_iter=2000,\n",
        "                                    random_state=1,\n",
        "                                    class_weight='balanced'))\n",
        "  nombres.append('LR')\n",
        "\n",
        "\n",
        "  modelos.append(LogisticRegression(penalty='l1',\n",
        "                                    solver='liblinear',\n",
        "                                    max_iter=2000,\n",
        "                                    random_state=1,\n",
        "                                    class_weight='balanced'))\n",
        "  nombres.append('LASSO')\n",
        "\n",
        "\n",
        "  modelos.append(LogisticRegression(penalty='l2',\n",
        "                                    max_iter=2000,\n",
        "                                    random_state=1,\n",
        "                                    class_weight='balanced'))\n",
        "  nombres.append('RIDGE')\n",
        "\n",
        "  modelos.append(LogisticRegression(penalty='elasticnet',\n",
        "                                    l1_ratio=0.5,\n",
        "                                    solver='saga',\n",
        "                                    max_iter=5000,\n",
        "                                    random_state=1,\n",
        "                                    class_weight='balanced'))\n",
        "  nombres.append('EN')\n",
        "\n",
        "  modelos.append(KNeighborsClassifier(n_neighbors=5))\n",
        "  nombres.append('kNN')\n",
        "\n",
        "  return modelos, nombres\n",
        "\n",
        "# +++++++++++++++++++++++++++++++\n",
        "\n",
        "\n",
        "modelos2, nombres2 = mis_modelos2()\n",
        "resultados1, resultados2 = list(), list()\n",
        "print('Resultados de Validación:')\n",
        "\n",
        "for i in range(len(modelos2)):\n",
        "\n",
        "  pipeline = Pipeline(steps=[('ct',columnasTransformer),('m',modelos2[i])])\n",
        "  cv1 = RepeatedStratifiedKFold(n_splits=5, n_repeats=3, random_state=7)\n",
        "  scores2 = cross_validate(pipeline,\n",
        "                          Xtv,\n",
        "                          np.ravel(ytv),\n",
        "                          scoring={'exactitud':'accuracy', 'm_geo':mi_metrica},\n",
        "                          cv=cv1)\n",
        "\n",
        "  resultados1.append(scores2['test_exactitud'])\n",
        "  resultados2.append(scores2['test_m_geo'])\n",
        "\n",
        "  print(nombres2[i])\n",
        "  print('Exactitud: >> %.3f (%.3f)' % (np.nanmean(scores2['test_exactitud']), np.nanstd(scores2['test_exactitud'])))\n",
        "  print('G-mean: >> %.3f (%.3f)' % (np.nanmean(scores2['test_m_geo']), np.nanstd(scores2['test_m_geo'])))\n",
        "  print()\n",
        "\n",
        "# ++++++++++ Termina sección para agregar tu código ++++++++++++++++++++++++\n",
        "\n",
        "\n",
        "plt.boxplot(resultados2, labels=nombres2,  showmeans=True)   # gráficos de caja para una comparación visual de los resultados.\n",
        "plt.title(\"G-mean : Modelos Balanceados\")\n",
        "plt.show()"
      ]
    },
    {
      "cell_type": "markdown",
      "metadata": {
        "id": "iPlq5JpJLapH"
      },
      "source": [
        "# **Ejercicio-4**"
      ]
    },
    {
      "cell_type": "markdown",
      "metadata": {
        "id": "murO16hvMYiQ"
      },
      "source": [
        "### **4a) Selecciona el que consideres sea el mejor modelo encontrado hasta ahora y utilízalo para obtener los gráficos curva-ROC y curva-PR, así como los valores de sus áreas bajo la curva. Sigue utilizando los conjuntos de entrenamiento y validación.**\n",
        "\n"
      ]
    },
    {
      "cell_type": "code",
      "execution_count": 41,
      "metadata": {
        "id": "kKtqYkkRMLA_"
      },
      "outputs": [
        {
          "name": "stderr",
          "output_type": "stream",
          "text": [
            "/home/codespace/.local/lib/python3.12/site-packages/sklearn/linear_model/_logistic.py:465: ConvergenceWarning: lbfgs failed to converge (status=1):\n",
            "STOP: TOTAL NO. of ITERATIONS REACHED LIMIT.\n",
            "\n",
            "Increase the number of iterations (max_iter) or scale the data as shown in:\n",
            "    https://scikit-learn.org/stable/modules/preprocessing.html\n",
            "Please also refer to the documentation for alternative solver options:\n",
            "    https://scikit-learn.org/stable/modules/linear_model.html#logistic-regression\n",
            "  n_iter_i = _check_optimize_result(\n"
          ]
        },
        {
          "data": {
            "text/plain": [
              "<sklearn.metrics._plot.precision_recall_curve.PrecisionRecallDisplay at 0x7a884d1869f0>"
            ]
          },
          "execution_count": 41,
          "metadata": {},
          "output_type": "execute_result"
        },
        {
          "data": {
            "text/plain": [
              "<Figure size 640x480 with 0 Axes>"
            ]
          },
          "metadata": {},
          "output_type": "display_data"
        },
        {
          "data": {
            "image/png": "[encoded data removed]",
            "text/plain": [
              "<Figure size 640x480 with 1 Axes>"
            ]
          },
          "metadata": {},
          "output_type": "display_data"
        },
        {
          "data": {
            "text/plain": [
              "<Figure size 640x480 with 0 Axes>"
            ]
          },
          "metadata": {},
          "output_type": "display_data"
        },
        {
          "data": {
            "image/png": "[encoded data removed]",
            "text/plain": [
              "<Figure size 640x480 with 1 Axes>"
            ]
          },
          "metadata": {},
          "output_type": "display_data"
        }
      ],
      "source": [
        "# **+++++++++++ Inicia sección para agregar código ++++++++++++++++**\n",
        "# NOTA: puedes agregar todas las celdas que consideres adecuado.\n",
        "\n",
        "# Modelo RIDGE\n",
        "p=2 #modelo RIDGE\n",
        "bestmod=modelos2[p]\n",
        "\n",
        "\n",
        "\n",
        "resultbest=bestmod.fit(Xtrain,ytrain)\n",
        "\n",
        "\n",
        "#fpr, tpr, thresholds = RocCurveDisplay.from_estimator(resultbest,Xval,yval)\n",
        "\n",
        "plt.figure()\n",
        "RocCurveDisplay.from_estimator(resultbest,Xval,yval)\n",
        "plt.figure()\n",
        "PrecisionRecallDisplay.from_estimator(resultbest,Xval,yval)\n",
        "\n",
        "\n",
        "\n",
        "\n",
        "\n",
        "\n",
        "\n",
        "# **+++++++++++ Termina sección para agregar código ++++++++++++++**"
      ]
    },
    {
      "cell_type": "markdown",
      "metadata": {
        "id": "K8VUJWwVNTDs"
      },
      "source": [
        "### **4b) Incluye tus conclusiones de los gráficos obtenidos en el inciso anterior.**\n",
        "\n",
        "**+++++++++++ Inicia sección para agregar texto ++++++++++++++++**\n",
        "\n",
        "\n",
        "\n",
        "\"Area under the curve\"  (AUC) ayuda a determinar la efectvidad del modelo.  A mejor área significa que el modelo crece rápidamente detectando los verdaderos positivos mientras que los falsos positivos se mantienen bajos.  El efecto contrario consiste en que al momento de que se aumenta la sensibilidad del sistema aparezcan muchos falsos positivos con una pobre detección de verdaderos positivos, en esos casos la curva tiene un aspecto más triangular, diferente al efecto cuadrangular que muestra en el ejemplo.  \n",
        "De la gráfica de ROC se puede ver que es posible tener un clasificador con capacidad de detectar un 90% de verdaderos positivos con una baja taza de detección de falsos positivos (relativamente hablando puesto que no llega ni al 20%).  \n",
        "\n",
        "La curva PR está enfocada en detección de positivos, puesto que en éste caso se tienen detecciones de derrames de petróleo es posible tener una buena precisión sacrificando hasta un recall del 40%.  El área en este caso (AP) corresponde a la precisión promedio que es del 58%, de forma que globalmente será posible detectar bien los verdaderos positivos o no clasificar como negativos a los mismos; en combinación siempre se estará sacrificando una de las dos métricas haciendo que al modularlo se consigua una media del 58% únicamente.\n",
        "\n",
        "\n",
        "\n",
        "**+++++++++++ Termina sección para agregar texto ++++++++++++++**"
      ]
    },
    {
      "cell_type": "markdown",
      "metadata": {
        "id": "gM7YCsaSN04w"
      },
      "source": [
        "# **Ejercicio-5**"
      ]
    },
    {
      "cell_type": "markdown",
      "metadata": {
        "id": "7XAyYmBXN4TS"
      },
      "source": [
        "### **Utiliza el conjunto de prueba (test) para evaluar el mejor modelo obtenido.**"
      ]
    },
    {
      "cell_type": "code",
      "execution_count": 44,
      "metadata": {
        "id": "XGBLeDqXMK6v"
      },
      "outputs": [
        {
          "name": "stderr",
          "output_type": "stream",
          "text": [
            "/home/codespace/.local/lib/python3.12/site-packages/sklearn/linear_model/_logistic.py:465: ConvergenceWarning: lbfgs failed to converge (status=1):\n",
            "STOP: TOTAL NO. of ITERATIONS REACHED LIMIT.\n",
            "\n",
            "Increase the number of iterations (max_iter) or scale the data as shown in:\n",
            "    https://scikit-learn.org/stable/modules/preprocessing.html\n",
            "Please also refer to the documentation for alternative solver options:\n",
            "    https://scikit-learn.org/stable/modules/linear_model.html#logistic-regression\n",
            "  n_iter_i = _check_optimize_result(\n"
          ]
        },
        {
          "data": {
            "text/plain": [
              "<sklearn.metrics._plot.confusion_matrix.ConfusionMatrixDisplay at 0x7a884d36a3c0>"
            ]
          },
          "execution_count": 44,
          "metadata": {},
          "output_type": "execute_result"
        },
        {
          "data": {
            "text/plain": [
              "<Figure size 640x480 with 0 Axes>"
            ]
          },
          "metadata": {},
          "output_type": "display_data"
        },
        {
          "data": {
            "image/png": "[encoded data removed]",
            "text/plain": [
              "<Figure size 640x480 with 1 Axes>"
            ]
          },
          "metadata": {},
          "output_type": "display_data"
        },
        {
          "data": {
            "text/plain": [
              "<Figure size 640x480 with 0 Axes>"
            ]
          },
          "metadata": {},
          "output_type": "display_data"
        },
        {
          "data": {
            "image/png": "[encoded data removed]",
            "text/plain": [
              "<Figure size 640x480 with 2 Axes>"
            ]
          },
          "metadata": {},
          "output_type": "display_data"
        }
      ],
      "source": [
        "# **+++++++++++ Inicia sección para agregar código ++++++++++++++++**\n",
        "# NOTA: puedes agregar todas las celdas que consideres adecuado.\n",
        "\n",
        "\n",
        "\n",
        "resultbest=bestmod.fit(Xtrain,ytrain)\n",
        "Xx = columnasTransformer.fit_transform(Xtest)\n",
        "\n",
        "plt.figure()\n",
        "RocCurveDisplay.from_estimator(resultbest,Xtest,ytest)\n",
        "\n",
        "plt.figure()\n",
        "ConfusionMatrixDisplay.from_estimator(bestmod, Xx, np.ravel(ytest))\n",
        "\n",
        "\n",
        "\n",
        "\n",
        "\n",
        "# **+++++++++++ Termina sección para agregar código ++++++++++++++**"
      ]
    },
    {
      "cell_type": "markdown",
      "metadata": {
        "id": "8dDsNoQHOXDY"
      },
      "source": [
        "# **Ejercicio-6**"
      ]
    },
    {
      "cell_type": "markdown",
      "metadata": {
        "id": "nPxU2S7LOWxI"
      },
      "source": [
        "### **Incluye tus conclusiones finales de los resultados obtenidos y de la actividad en general.**\n",
        "\n",
        "**+++++++++++ Inicia sección para agregar texto ++++++++++++++++**\n",
        "\n",
        "\n",
        "\n",
        "La media geométrica y la parametrización de los clasificadores binarios es importante a considerar cuando las clases están desbalanceadas.  Una clase desbalanceada es un problema muy común en aplicaciones de la vida real puesto que las detecciones *positivas* son raras.  Muchas veces las detecciones positivas pueden pasar desapercibidas cuando el enfoque está en evidenciar una anomalía.  \n",
        "El ejercicio presente fue hecho sobre lecturas de radar para detectar derrames de petróleo, y al evaluar toda la población de datos disponibles, lo común es que no existan derrames.  En éste sentido, si la población de datos solo tiene un 4% de derrames al clasificar la totalidad como \"no derramado\" igual arroja una precisión del 96%, lo cual en primera instancia es alto pero ciertamente el algoritmo no estaría haciendo algo realmente útil.  \n",
        "La estrategia de la media geométrica permite utilizar una productoria para impedir que una de las métricas se baje de valor, ya que de hecho si alguna de las clases tuviera una detección pobre, la métrica penalizaría severamente al desempeño general.  \n",
        "Las ayudas visuales de las curvas ROC y PR son útiles al momento de evaluar el desempeño general del modelo, y con la correcta definición y parametrización se puede seleccionar de forma oportuna al clasificador y sesgar las detecciones hacia un nivel optimizado para \"Recall\" o para \"Precisión\", en otras palabras, buscar maximizar la detección de verdaderos positivos.\n",
        "\n",
        "\n",
        "\n",
        "\n",
        "**+++++++++++ Termina sección para agregar texto ++++++++++++++**"
      ]
    },
    {
      "cell_type": "markdown",
      "metadata": {
        "id": "Z-A1PvcZOuRt"
      },
      "source": [
        "## **<<< Fin de la Actividad de la Semana - curvas ROC y PR >>>**"
      ]
    }
  ],
  "metadata": {
    "colab": {
      "collapsed_sections": [
        "kRCOkHwLRnzT",
        "iq142ztPDj9F",
        "oniRBS-jHjrR",
        "b3Mnv-MgIrQ8",
        "iPlq5JpJLapH",
        "gM7YCsaSN04w",
        "8dDsNoQHOXDY"
      ],
      "provenance": []
    },
    "kernelspec": {
      "display_name": "Python 3",
      "name": "python3"
    },
    "language_info": {
      "codemirror_mode": {
        "name": "ipython",
        "version": 3
      },
      "file_extension": ".py",
      "mimetype": "text/x-python",
      "name": "python",
      "nbconvert_exporter": "python",
      "pygments_lexer": "ipython3",
      "version": "3.12.1"
    }
  },
  "nbformat": 4,
  "nbformat_minor": 0
}
