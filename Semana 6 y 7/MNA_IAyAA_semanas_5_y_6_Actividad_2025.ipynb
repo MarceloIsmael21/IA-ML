{
  "cells": [
    {
      "cell_type": "markdown",
      "metadata": {
        "id": "dBbWMn9ebmi8"
      },
      "source": [
        "# **Maestría en Inteligencia Artificial Aplicada**\n",
        "\n",
        "## **Curso: Inteligencia Artificial y Aprendizaje Automático**\n",
        "\n",
        "### Tecnológico de Monterrey\n",
        "\n",
        "### Prof Luis Eduardo Falcón Morales\n",
        "\n",
        "## **Actividad de las Semanas 5 y 6**\n",
        "### **Problema de asignación de créditos: South German Dataset.**\n"
      ]
    },
    {
      "cell_type": "markdown",
      "metadata": {
        "id": "YiwEw8XsZG2W"
      },
      "source": [
        "## **Nombres y matrículas:**\n",
        "\n",
        "\n",
        "\n",
        "*   Marcelo Ismael López Verdugo A00959089 \n",
        "\n",
        "*   Nombre y matrícula\n",
        "\n",
        "*   Nombre y matrícula\n",
        "\n"
      ]
    },
    {
      "cell_type": "markdown",
      "metadata": {
        "id": "a08Di3GjkL1Y"
      },
      "source": [
        "## **Ejercicio 1**"
      ]
    },
    {
      "cell_type": "code",
      "execution_count": 64,
      "metadata": {
        "id": "6VGEpE4SblfD"
      },
      "outputs": [],
      "source": [
        "# Aquí deberás incluir todas las librerías que requieras durante esta actividad:\n",
        "\n",
        "import pandas as pd\n",
        "import numpy as np\n",
        "import matplotlib\n",
        "import matplotlib.pyplot as plt\n",
        "import seaborn as sns\n",
        "import sklearn\n",
        "import xgboost\n",
        "\n",
        "from sklearn.model_selection import train_test_split\n",
        "from sklearn.pipeline import Pipeline\n",
        "from sklearn.compose import ColumnTransformer\n",
        "from sklearn.impute import SimpleImputer\n",
        "from sklearn.preprocessing import StandardScaler\n",
        "from sklearn.preprocessing import MinMaxScaler\n",
        "from sklearn.preprocessing import OneHotEncoder\n",
        "from sklearn.linear_model import LogisticRegression\n",
        "from sklearn.neighbors import KNeighborsClassifier\n",
        "from imblearn.pipeline import Pipeline as ImbPipeline\n",
        "from sklearn.tree import DecisionTreeClassifier\n",
        "from sklearn.tree import DecisionTreeRegressor\n",
        "from sklearn.ensemble import RandomForestClassifier\n",
        "from sklearn.model_selection import RepeatedStratifiedKFold\n",
        "from sklearn.metrics import make_scorer, roc_curve, RocCurveDisplay, PrecisionRecallDisplay, ConfusionMatrixDisplay\n",
        "from imblearn.metrics import geometric_mean_score\n",
        "from imblearn.under_sampling import RandomUnderSampler\n",
        "from imblearn.over_sampling import RandomOverSampler\n",
        "from sklearn.model_selection import RepeatedStratifiedKFold, cross_val_score, cross_validate\n",
        "from xgboost import XGBClassifier\n",
        "from sklearn.neural_network import MLPClassifier\n",
        "from sklearn.svm import SVC\n"
      ]
    },
    {
      "cell_type": "code",
      "execution_count": 3,
      "metadata": {
        "id": "gOp4tFv4Q2PX"
      },
      "outputs": [
        {
          "name": "stdout",
          "output_type": "stream",
          "text": [
            "Python 3.12.1\n",
            "Numpy 2.2.0\n",
            "Pandas 2.2.3\n",
            "Matplotlib 3.9.3\n",
            "Seaborn 0.13.2\n",
            "Scikit-Learn 1.6.0\n",
            "XGBoost 2.1.4\n"
          ]
        }
      ],
      "source": [
        "# Verificando versiones de algunas de las principales librerías.\n",
        "# Si algunas no se utilizan, puedes comentarlas.\n",
        "tmp = !python -V\n",
        "print(tmp[0])\n",
        "print('Numpy', np.__version__)\n",
        "print('Pandas', pd.__version__)\n",
        "print('Matplotlib', matplotlib.__version__)\n",
        "print('Seaborn', sns.__version__)\n",
        "print('Scikit-Learn', sklearn.__version__)\n",
        "print('XGBoost', xgboost.__version__)\n",
        "\n",
        "# puedes incluir algunas otras ...\n"
      ]
    },
    {
      "cell_type": "code",
      "execution_count": null,
      "metadata": {
        "id": "K3gUzoM3iRkt"
      },
      "outputs": [],
      "source": [
        "# Si deseas desplegar los Warnings:\n",
        "#import warnings\n",
        "#warnings.filterwarnings('ignore')"
      ]
    },
    {
      "cell_type": "code",
      "execution_count": 4,
      "metadata": {
        "id": "ppyf8TTgb9zq"
      },
      "outputs": [
        {
          "name": "stdout",
          "output_type": "stream",
          "text": [
            "Dimensión del DataFrame (registros,variables): (1000, 21)\n"
          ]
        },
        {
          "data": {
            "text/html": [
              "<div>\n",
              "<style scoped>\n",
              "    .dataframe tbody tr th:only-of-type {\n",
              "        vertical-align: middle;\n",
              "    }\n",
              "\n",
              "    .dataframe tbody tr th {\n",
              "        vertical-align: top;\n",
              "    }\n",
              "\n",
              "    .dataframe thead th {\n",
              "        text-align: right;\n",
              "    }\n",
              "</style>\n",
              "<table border=\"1\" class=\"dataframe\">\n",
              "  <thead>\n",
              "    <tr style=\"text-align: right;\">\n",
              "      <th></th>\n",
              "      <th>0</th>\n",
              "      <th>1</th>\n",
              "      <th>2</th>\n",
              "    </tr>\n",
              "  </thead>\n",
              "  <tbody>\n",
              "    <tr>\n",
              "      <th>laufkont</th>\n",
              "      <td>1</td>\n",
              "      <td>1</td>\n",
              "      <td>2</td>\n",
              "    </tr>\n",
              "    <tr>\n",
              "      <th>laufzeit</th>\n",
              "      <td>18</td>\n",
              "      <td>9</td>\n",
              "      <td>12</td>\n",
              "    </tr>\n",
              "    <tr>\n",
              "      <th>moral</th>\n",
              "      <td>4</td>\n",
              "      <td>4</td>\n",
              "      <td>2</td>\n",
              "    </tr>\n",
              "    <tr>\n",
              "      <th>verw</th>\n",
              "      <td>2</td>\n",
              "      <td>0</td>\n",
              "      <td>9</td>\n",
              "    </tr>\n",
              "    <tr>\n",
              "      <th>hoehe</th>\n",
              "      <td>1049</td>\n",
              "      <td>2799</td>\n",
              "      <td>841</td>\n",
              "    </tr>\n",
              "    <tr>\n",
              "      <th>sparkont</th>\n",
              "      <td>1</td>\n",
              "      <td>1</td>\n",
              "      <td>2</td>\n",
              "    </tr>\n",
              "    <tr>\n",
              "      <th>beszeit</th>\n",
              "      <td>2</td>\n",
              "      <td>3</td>\n",
              "      <td>4</td>\n",
              "    </tr>\n",
              "    <tr>\n",
              "      <th>rate</th>\n",
              "      <td>4</td>\n",
              "      <td>2</td>\n",
              "      <td>2</td>\n",
              "    </tr>\n",
              "    <tr>\n",
              "      <th>famges</th>\n",
              "      <td>2</td>\n",
              "      <td>3</td>\n",
              "      <td>2</td>\n",
              "    </tr>\n",
              "    <tr>\n",
              "      <th>buerge</th>\n",
              "      <td>1</td>\n",
              "      <td>1</td>\n",
              "      <td>1</td>\n",
              "    </tr>\n",
              "    <tr>\n",
              "      <th>wohnzeit</th>\n",
              "      <td>4</td>\n",
              "      <td>2</td>\n",
              "      <td>4</td>\n",
              "    </tr>\n",
              "    <tr>\n",
              "      <th>verm</th>\n",
              "      <td>2</td>\n",
              "      <td>1</td>\n",
              "      <td>1</td>\n",
              "    </tr>\n",
              "    <tr>\n",
              "      <th>alter</th>\n",
              "      <td>21</td>\n",
              "      <td>36</td>\n",
              "      <td>23</td>\n",
              "    </tr>\n",
              "    <tr>\n",
              "      <th>weitkred</th>\n",
              "      <td>3</td>\n",
              "      <td>3</td>\n",
              "      <td>3</td>\n",
              "    </tr>\n",
              "    <tr>\n",
              "      <th>wohn</th>\n",
              "      <td>1</td>\n",
              "      <td>1</td>\n",
              "      <td>1</td>\n",
              "    </tr>\n",
              "    <tr>\n",
              "      <th>bishkred</th>\n",
              "      <td>1</td>\n",
              "      <td>2</td>\n",
              "      <td>1</td>\n",
              "    </tr>\n",
              "    <tr>\n",
              "      <th>beruf</th>\n",
              "      <td>3</td>\n",
              "      <td>3</td>\n",
              "      <td>2</td>\n",
              "    </tr>\n",
              "    <tr>\n",
              "      <th>pers</th>\n",
              "      <td>2</td>\n",
              "      <td>1</td>\n",
              "      <td>2</td>\n",
              "    </tr>\n",
              "    <tr>\n",
              "      <th>telef</th>\n",
              "      <td>1</td>\n",
              "      <td>1</td>\n",
              "      <td>1</td>\n",
              "    </tr>\n",
              "    <tr>\n",
              "      <th>gastarb</th>\n",
              "      <td>2</td>\n",
              "      <td>2</td>\n",
              "      <td>2</td>\n",
              "    </tr>\n",
              "    <tr>\n",
              "      <th>kredit</th>\n",
              "      <td>1</td>\n",
              "      <td>1</td>\n",
              "      <td>1</td>\n",
              "    </tr>\n",
              "  </tbody>\n",
              "</table>\n",
              "</div>"
            ],
            "text/plain": [
              "             0     1    2\n",
              "laufkont     1     1    2\n",
              "laufzeit    18     9   12\n",
              "moral        4     4    2\n",
              "verw         2     0    9\n",
              "hoehe     1049  2799  841\n",
              "sparkont     1     1    2\n",
              "beszeit      2     3    4\n",
              "rate         4     2    2\n",
              "famges       2     3    2\n",
              "buerge       1     1    1\n",
              "wohnzeit     4     2    4\n",
              "verm         2     1    1\n",
              "alter       21    36   23\n",
              "weitkred     3     3    3\n",
              "wohn         1     1    1\n",
              "bishkred     1     2    1\n",
              "beruf        3     3    2\n",
              "pers         2     1    2\n",
              "telef        1     1    1\n",
              "gastarb      2     2    2\n",
              "kredit       1     1    1"
            ]
          },
          "execution_count": 4,
          "metadata": {},
          "output_type": "execute_result"
        }
      ],
      "source": [
        "# Carga los datos del archivo SouthGermanCredit.asc:\n",
        "\n",
        "# ************* Inlcuye aquí tu código:*****************************\n",
        "\n",
        "\n",
        "None   # NOTA: Tanto aquí como en lo sucesivo, \"None\" puede indicar una o varias líneas de código.\n",
        "df=pd.read_csv('SouthGermanCredit.asc',delimiter=\" \")\n",
        "\n",
        "\n",
        "# *********** Aquí termina la sección de agregar código *************\n",
        "\n",
        "\n",
        "print('Dimensión del DataFrame (registros,variables):', df.shape)\n",
        "df.head(3).T"
      ]
    },
    {
      "cell_type": "code",
      "execution_count": 5,
      "metadata": {
        "id": "gf9NRIQXIeRX"
      },
      "outputs": [
        {
          "data": {
            "text/html": [
              "<div>\n",
              "<style scoped>\n",
              "    .dataframe tbody tr th:only-of-type {\n",
              "        vertical-align: middle;\n",
              "    }\n",
              "\n",
              "    .dataframe tbody tr th {\n",
              "        vertical-align: top;\n",
              "    }\n",
              "\n",
              "    .dataframe thead th {\n",
              "        text-align: right;\n",
              "    }\n",
              "</style>\n",
              "<table border=\"1\" class=\"dataframe\">\n",
              "  <thead>\n",
              "    <tr style=\"text-align: right;\">\n",
              "      <th></th>\n",
              "      <th>0</th>\n",
              "      <th>1</th>\n",
              "      <th>2</th>\n",
              "    </tr>\n",
              "  </thead>\n",
              "  <tbody>\n",
              "    <tr>\n",
              "      <th>status</th>\n",
              "      <td>1</td>\n",
              "      <td>1</td>\n",
              "      <td>2</td>\n",
              "    </tr>\n",
              "    <tr>\n",
              "      <th>duration</th>\n",
              "      <td>18</td>\n",
              "      <td>9</td>\n",
              "      <td>12</td>\n",
              "    </tr>\n",
              "    <tr>\n",
              "      <th>credit_history</th>\n",
              "      <td>4</td>\n",
              "      <td>4</td>\n",
              "      <td>2</td>\n",
              "    </tr>\n",
              "    <tr>\n",
              "      <th>purpose</th>\n",
              "      <td>2</td>\n",
              "      <td>0</td>\n",
              "      <td>9</td>\n",
              "    </tr>\n",
              "    <tr>\n",
              "      <th>amount</th>\n",
              "      <td>1049</td>\n",
              "      <td>2799</td>\n",
              "      <td>841</td>\n",
              "    </tr>\n",
              "    <tr>\n",
              "      <th>savings</th>\n",
              "      <td>1</td>\n",
              "      <td>1</td>\n",
              "      <td>2</td>\n",
              "    </tr>\n",
              "    <tr>\n",
              "      <th>employment_duration</th>\n",
              "      <td>2</td>\n",
              "      <td>3</td>\n",
              "      <td>4</td>\n",
              "    </tr>\n",
              "    <tr>\n",
              "      <th>installment_rate</th>\n",
              "      <td>4</td>\n",
              "      <td>2</td>\n",
              "      <td>2</td>\n",
              "    </tr>\n",
              "    <tr>\n",
              "      <th>personal_status_sex</th>\n",
              "      <td>2</td>\n",
              "      <td>3</td>\n",
              "      <td>2</td>\n",
              "    </tr>\n",
              "    <tr>\n",
              "      <th>other_debtors</th>\n",
              "      <td>1</td>\n",
              "      <td>1</td>\n",
              "      <td>1</td>\n",
              "    </tr>\n",
              "    <tr>\n",
              "      <th>present_residence</th>\n",
              "      <td>4</td>\n",
              "      <td>2</td>\n",
              "      <td>4</td>\n",
              "    </tr>\n",
              "    <tr>\n",
              "      <th>property</th>\n",
              "      <td>2</td>\n",
              "      <td>1</td>\n",
              "      <td>1</td>\n",
              "    </tr>\n",
              "    <tr>\n",
              "      <th>age</th>\n",
              "      <td>21</td>\n",
              "      <td>36</td>\n",
              "      <td>23</td>\n",
              "    </tr>\n",
              "    <tr>\n",
              "      <th>other_installment_plans</th>\n",
              "      <td>3</td>\n",
              "      <td>3</td>\n",
              "      <td>3</td>\n",
              "    </tr>\n",
              "    <tr>\n",
              "      <th>housing</th>\n",
              "      <td>1</td>\n",
              "      <td>1</td>\n",
              "      <td>1</td>\n",
              "    </tr>\n",
              "    <tr>\n",
              "      <th>number_credits</th>\n",
              "      <td>1</td>\n",
              "      <td>2</td>\n",
              "      <td>1</td>\n",
              "    </tr>\n",
              "    <tr>\n",
              "      <th>job</th>\n",
              "      <td>3</td>\n",
              "      <td>3</td>\n",
              "      <td>2</td>\n",
              "    </tr>\n",
              "    <tr>\n",
              "      <th>people_liable</th>\n",
              "      <td>2</td>\n",
              "      <td>1</td>\n",
              "      <td>2</td>\n",
              "    </tr>\n",
              "    <tr>\n",
              "      <th>telephone</th>\n",
              "      <td>1</td>\n",
              "      <td>1</td>\n",
              "      <td>1</td>\n",
              "    </tr>\n",
              "    <tr>\n",
              "      <th>foreign_worker</th>\n",
              "      <td>2</td>\n",
              "      <td>2</td>\n",
              "      <td>2</td>\n",
              "    </tr>\n",
              "    <tr>\n",
              "      <th>credit_risk</th>\n",
              "      <td>1</td>\n",
              "      <td>1</td>\n",
              "      <td>1</td>\n",
              "    </tr>\n",
              "  </tbody>\n",
              "</table>\n",
              "</div>"
            ],
            "text/plain": [
              "                            0     1    2\n",
              "status                      1     1    2\n",
              "duration                   18     9   12\n",
              "credit_history              4     4    2\n",
              "purpose                     2     0    9\n",
              "amount                   1049  2799  841\n",
              "savings                     1     1    2\n",
              "employment_duration         2     3    4\n",
              "installment_rate            4     2    2\n",
              "personal_status_sex         2     3    2\n",
              "other_debtors               1     1    1\n",
              "present_residence           4     2    4\n",
              "property                    2     1    1\n",
              "age                        21    36   23\n",
              "other_installment_plans     3     3    3\n",
              "housing                     1     1    1\n",
              "number_credits              1     2    1\n",
              "job                         3     3    2\n",
              "people_liable               2     1    2\n",
              "telephone                   1     1    1\n",
              "foreign_worker              2     2    2\n",
              "credit_risk                 1     1    1"
            ]
          },
          "execution_count": 5,
          "metadata": {},
          "output_type": "execute_result"
        }
      ],
      "source": [
        "# Renombra las columnas del alemán al inglés y desplegamos de\n",
        "# nuevo el DataFrame para ver el resultado obtenido:\n",
        "\n",
        "# ************* Inlcuye aquí tu código:*****************************\n",
        "\n",
        "\n",
        "None   # NOTA: Tanto aquí como en lo sucesivo, \"None\" puede indicar una o varias líneas de código.\n",
        "#columns=['running account', 'duration', 'moral', 'used', 'height', 'savings account', 'time', 'rate', 'famges']\n",
        "columns_eng=['status', 'duration', 'credit_history', 'purpose', 'amount', 'savings', 'employment_duration',\n",
        "              'installment_rate', 'personal_status_sex', 'other_debtors', 'present_residence', 'property', 'age',\n",
        "              'other_installment_plans', 'housing','number_credits','job','people_liable','telephone','foreign_worker',\n",
        "              'credit_risk']\n",
        "df.columns=columns_eng\n",
        "\n",
        "# *********** Aquí termina la sección de agregar código *************\n",
        "\n",
        "\n",
        "df.head(3).T"
      ]
    },
    {
      "cell_type": "markdown",
      "metadata": {
        "id": "LckYCS8SlnFo"
      },
      "source": [
        "## **Ejercicio 2**"
      ]
    },
    {
      "cell_type": "code",
      "execution_count": 6,
      "metadata": {
        "id": "pyhuKIHhW57Z"
      },
      "outputs": [
        {
          "name": "stdout",
          "output_type": "stream",
          "text": [
            "credit_risk\n",
            "1    700\n",
            "0    300\n",
            "Name: count, dtype: int64\n"
          ]
        }
      ],
      "source": [
        "# De la documentación de los datos SouthGermandata se sabe que la clase mayoritaria\n",
        "# de los buenos clientes se etiquetó con el valor de 1 en la variable de salida\n",
        "# llamada \"credit_risk\".\n",
        "# Veamos:\n",
        "\n",
        "print(df['credit_risk'].value_counts())"
      ]
    },
    {
      "cell_type": "code",
      "execution_count": 7,
      "metadata": {
        "id": "Tlg8jYbnlqNA"
      },
      "outputs": [
        {
          "name": "stdout",
          "output_type": "stream",
          "text": [
            "credit_risk\n",
            "0    700\n",
            "1    300\n",
            "Name: count, dtype: int64\n"
          ]
        }
      ],
      "source": [
        "# Por lo tanto, realiza a continuación una transformación para que la clase mayoritaria\n",
        "# sea la clase negativa (es decir, de valor 0) y que la clase minoritaria sea la\n",
        "# clase positiva (es decir, de valor 1).\n",
        "\n",
        "# ************* Inlcuye aquí tu código:*****************************\n",
        "\n",
        "\n",
        "df['credit_risk']=(-1)*((df['credit_risk'])-1)\n",
        "\n",
        "\n",
        "# *********** Aquí termina la sección de agregar código *************\n",
        "\n",
        "\n",
        "print(df['credit_risk'].value_counts())"
      ]
    },
    {
      "cell_type": "markdown",
      "metadata": {
        "id": "qQx2lbzTkEsQ"
      },
      "source": [
        "## **Ejercicio 3**"
      ]
    },
    {
      "cell_type": "code",
      "execution_count": 8,
      "metadata": {
        "id": "TP5-zdWVczhy"
      },
      "outputs": [
        {
          "name": "stdout",
          "output_type": "stream",
          "text": [
            "Dimensiones:\n",
            "Entrenamiento: (800, 20) (800,)\n",
            "Prueba: (200, 20) (200,)\n",
            "\n",
            "Porcentaje clases Positiva:70.00%, y Negativa:30.00%\n"
          ]
        }
      ],
      "source": [
        "# Ejercicio 3a.\n",
        "# Realiza una partición con el porcentaje solicitado para entrenamiento y prueba.\n",
        "# Los nombres de los conjuntos deberán ser como se indican en los print de abajo:\n",
        "\n",
        "# ************* Inlcuye aquí tu código:*****************************\n",
        "\n",
        "X,y = df.iloc[:,:-1], df.iloc[:,-1]\n",
        "\n",
        "Xtrain, Xtest, ytrain, ytest=train_test_split(X,y,test_size=0.2,stratify=y,shuffle=True,random_state=0)\n",
        "\n",
        "\n",
        "# *********** Aquí termina la sección de agregar código *************\n",
        "\n",
        "\n",
        "# Mostremos las dimensiones de la partición generada:\n",
        "print(\"Dimensiones:\")\n",
        "print(\"Entrenamiento:\", Xtrain.shape, ytrain.shape)\n",
        "print(\"Prueba:\", Xtest.shape, ytest.shape)\n",
        "\n",
        "# Y el porcentaje de cada clase de la variable de salida:\n",
        "tmp = (ytrain.sum()/ytrain.shape[0])#.iloc[0]\n",
        "print(\"\\nPorcentaje clases Positiva:%.2f%%, y Negativa:%.2f%%\" % (100*(1-tmp),tmp*100))\n"
      ]
    },
    {
      "cell_type": "markdown",
      "metadata": {
        "id": "ptwAm_mOjVWH"
      },
      "source": [
        "### **Ejercicio 3b**\n",
        "### **Con base al porcentaje de los niveles de la variable de salida ¿podemos decir que tenemos un problema de datos desbalanceado? ¿Por qué?**\n",
        "\n",
        "\n",
        "\n",
        "### ++++++++ Inicia la sección de agregar texto: +++++++++++\n",
        "\n",
        "Cierta literatura establece el umbral de desbalanceo a partir de una relación 80:20 y puesto que estas clases están en una relación 70:30 podríamos decir que **no** es un problema de desbalance.  \n",
        "Al abordar esta problemática conviene evaluar la criticidad de una clasificación incorrecta en detectar adecuadamente los verdaderos positivos.  Si la matriz de confusión no beneficiara en la precisión, quizá convenga replantear a un enfoque de clases desbalanceadas pero de entrada el primer enfoque debería ser un clasificador normal.\n",
        "\n",
        "### ++++++++ Termina la sección de agregar texto: +++++++++++\n",
        "\n"
      ]
    },
    {
      "cell_type": "markdown",
      "metadata": {
        "id": "xEaTBgoTaXg-"
      },
      "source": [
        "### **Ejercicio 3c**\n",
        "### **¿Por qué se hizo el cambio de etiquetas 0 y 1 en la variable de salida?**\n",
        "\n",
        "\n",
        "\n",
        "### ++++++++ Inicia la sección de agregar texto: +++++++++++\n",
        "\n",
        "Las detecciones positivas son aquellas que se asocian a la anomalía en las pruebas de hipótesis, es por ello que usualmente se reserva el **1** o el **positivo** a la detección de la misma.  Para un sistema crediticio conviene enfocarse en encontrar dichos positivos para evitar otorgar un crédito a un cliente de alto riesgo.  Las métricas relacionadas a los positivos (precision and recall) son herramientas de optimización que directamente ayudan al tener como clase positiva a la minoritaria.\n",
        "\n",
        "### ++++++++ Termina la sección de agregar texto: +++++++++++\n"
      ]
    },
    {
      "cell_type": "markdown",
      "metadata": {
        "id": "ocmGcSC2j_2x"
      },
      "source": [
        "## **Ejercicio 4**"
      ]
    },
    {
      "cell_type": "code",
      "execution_count": 9,
      "metadata": {
        "id": "5J2kIzLYHPZP"
      },
      "outputs": [
        {
          "name": "stdout",
          "output_type": "stream",
          "text": [
            "Para los datos de entrada, veamos la cantidad de cada tipo de variable obtenida:\n",
            "Variables numéricas: 3\n",
            "Variables ordinales: 11\n",
            "Variables nominales & binarias: 6\n"
          ]
        }
      ],
      "source": [
        "# De acuerdo a la información de la Tabla 3 del artículo de la IEEE asociado a\n",
        "# esta Actividad, define a continuación las variables de entrada correspondientes\n",
        "# de acuerdo a su tipo y como se indica a continuación:\n",
        "\n",
        "# ************* Inlcuye aquí tu código:*****************************\n",
        "\n",
        "# Variables numéricas:\n",
        "lista_paper_num = ['duration','amount','age']\n",
        "\n",
        "\n",
        "# Variables ordinales:\n",
        "lista_paper_ord = ['status','credit_history','savings','employment_duration','installment_rate', \n",
        "                   'present_residence','property','housing','number_credits','job','people_liable']\n",
        "\n",
        "\n",
        "# Variables nominales & binarias:\n",
        "lista_paper_cat = ['purpose','personal_status_sex','other_debtors','other_installment_plans','telephone','foreign_worker']\n",
        "\n",
        "\n",
        "\n",
        "# *********** Aquí termina la sección de agregar código *************\n",
        "\n",
        "print(\"Para los datos de entrada, veamos la cantidad de cada tipo de variable obtenida:\")\n",
        "print(\"Variables numéricas:\", len(lista_paper_num))\n",
        "print(\"Variables ordinales:\", len(lista_paper_ord))\n",
        "print(\"Variables nominales & binarias:\", len(lista_paper_cat))\n"
      ]
    },
    {
      "cell_type": "markdown",
      "metadata": {
        "id": "zb5bE4WJj8Rw"
      },
      "source": [
        "## **Ejercicio 5**"
      ]
    },
    {
      "cell_type": "code",
      "execution_count": 10,
      "metadata": {
        "id": "--yGqJm5fDBx"
      },
      "outputs": [
        {
          "data": {
            "image/png": "[encoded data removed]",
            "text/plain": [
              "<Figure size 640x480 with 3 Axes>"
            ]
          },
          "metadata": {},
          "output_type": "display_data"
        },
        {
          "data": {
            "image/png": "[encoded data removed]",
            "text/plain": [
              "<Figure size 640x480 with 12 Axes>"
            ]
          },
          "metadata": {},
          "output_type": "display_data"
        },
        {
          "data": {
            "image/png": "[encoded data removed]",
            "text/plain": [
              "<Figure size 640x480 with 6 Axes>"
            ]
          },
          "metadata": {},
          "output_type": "display_data"
        }
      ],
      "source": [
        "# En esta sección puedes incluir todas las celdas que consideres necesarias para\n",
        "# visualizar o bien obtener información de cada tipo de variable y te ayude a\n",
        "# determinar qué transformaciones aplicarás a cada una en el módulo de Pipeline.\n",
        "\n",
        "sz=int(np.ceil(len(lista_paper_num)/3))\n",
        "plt.subplots(sz,3)\n",
        "k=1\n",
        "for col in lista_paper_num:\n",
        "    plt.subplot(sz,3,k)\n",
        "    plt.title(col)\n",
        "    df[col].hist()\n",
        "    k+=1\n",
        "\n",
        "\n",
        "sz=int(np.ceil(len(lista_paper_ord)/3))\n",
        "plt.subplots(sz,3)\n",
        "k=1\n",
        "for col in lista_paper_ord:\n",
        "    plt.subplot(sz,3,k)\n",
        "    plt.title(col)\n",
        "    df[col].hist()\n",
        "    k+=1\n",
        "\n",
        "sz=int(np.ceil(len(lista_paper_cat)/3))\n",
        "plt.subplots(sz,3)\n",
        "k=1\n",
        "for col in lista_paper_cat:\n",
        "    plt.subplot(sz,3,k)\n",
        "    plt.title(col)\n",
        "    df[col].hist()\n",
        "    k+=1\n",
        "\n",
        "\n"
      ]
    },
    {
      "cell_type": "code",
      "execution_count": 11,
      "metadata": {
        "id": "NvNYiIp9weCm"
      },
      "outputs": [
        {
          "name": "stdout",
          "output_type": "stream",
          "text": [
            "Dimensión de los datos de entrada:\n",
            "antes de aplicar las transformaciones: (800, 20)\n",
            "después de aplicar las transformaciones: (800, 32)\n"
          ]
        }
      ],
      "source": [
        "# Una vez analizados los datos de entrada, las transformaciones que se aplicarán\n",
        "# a cada tipo de variable usando la clase Pipeline de sklearn son las siguientes:\n",
        "\n",
        "\n",
        "# ************* Inlcuye aquí tu código:*****************************\n",
        "\n",
        "# Variables numéricas:\n",
        "numericas_pipeline = Pipeline(steps = [('impMediana', SimpleImputer(strategy='mean')),\n",
        "                                       ('minmax_transformer', MinMaxScaler())])\n",
        "numericas_pipeline_nombres = lista_paper_num\n",
        "\n",
        "\n",
        "# Nota mental, es posible que las variables ordinales requieran el mismo escalamiento, mientras que las nominales serán \n",
        "# exclusivamente one-hot\n",
        "\n",
        "# Variables categóricas-Nominales:\n",
        "nominales_pipe = Pipeline(steps = [('OneHotE', OneHotEncoder(handle_unknown='ignore', drop='first'))])\n",
        "nominales_pipe_nombres = lista_paper_cat\n",
        "\n",
        "\n",
        "# Variables categóricas-ordinales:\n",
        "ordinales_pipe = Pipeline(steps = [('impMediana', SimpleImputer(strategy='most_frequent')),\n",
        "                                       ('minmax_transformer', MinMaxScaler())])\n",
        "ordinales_pipe_nombres = lista_paper_ord\n",
        "\n",
        "\n",
        "\n",
        "\n",
        "# Conjuntas las transformaciones de todo tipo de variable y\n",
        "# deja sin procesar aquellas que hayas decidido no transformar:\n",
        "\n",
        "columnasTransformer = ColumnTransformer(transformers = [('num', numericas_pipeline, numericas_pipeline_nombres),\n",
        "                                                        ('nom',nominales_pipe,nominales_pipe_nombres),\n",
        "                                                        ('ord',ordinales_pipe,ordinales_pipe_nombres)],\n",
        "                                                        remainder='passthrough')\n",
        "\n",
        "\n",
        "\n",
        "\n",
        "# *********** Aquí termina la sección de agregar código *************\n",
        "\n",
        "\n",
        "\n",
        "Xtmp = Xtrain.copy()\n",
        "tmp = columnasTransformer.fit_transform(Xtmp)\n",
        "print(\"Dimensión de los datos de entrada:\")\n",
        "print(\"antes de aplicar las transformaciones:\", Xtmp.shape)\n",
        "print(\"después de aplicar las transformaciones:\", tmp.shape)\n"
      ]
    },
    {
      "cell_type": "markdown",
      "metadata": {
        "id": "UJokj9Diyeu0"
      },
      "source": [
        "## **Ejercicio 6**"
      ]
    },
    {
      "cell_type": "code",
      "execution_count": 12,
      "metadata": {
        "id": "d3lqBiH5wd1e"
      },
      "outputs": [
        {
          "name": "stdout",
          "output_type": "stream",
          "text": [
            "Dimensión de las variables de entrada ANTES de las transformaciones: (1000, 20)\n",
            "Dimensión de las variables de entrada DESPUÉS de las transformaciones: (1000, 32)\n"
          ]
        }
      ],
      "source": [
        "# Como se va a utilizar Validación-Cruzada, concatena los conjuntos de entrenamiento\n",
        "# y prueba en uno nuevo conjunto aumentado que llamaremos trainval:\n",
        "\n",
        "\n",
        "# ************* Inlcuye aquí tu código:**************************\n",
        "\n",
        "\n",
        "Xtraintest = pd.concat([Xtrain,Xtest],ignore_index=True)\n",
        "ytraintest = pd.concat([ytrain,ytest],ignore_index=True)\n",
        "\n",
        "\n",
        "# *********** Aquí termina la sección de agregar código *************\n",
        "\n",
        "\n",
        "# Veamos cuántas variables nuevas se introducen con las transformaciones One-Hot-Encoding:\n",
        "Xtmp = Xtraintest.copy()\n",
        "tmp = columnasTransformer.fit_transform(Xtmp)\n",
        "print(\"Dimensión de las variables de entrada ANTES de las transformaciones:\", Xtmp.shape)\n",
        "print(\"Dimensión de las variables de entrada DESPUÉS de las transformaciones:\", tmp.shape)"
      ]
    },
    {
      "cell_type": "markdown",
      "metadata": {
        "id": "hZxyRbHL0gNF"
      },
      "source": [
        "## **Ejercicio 7**"
      ]
    },
    {
      "cell_type": "code",
      "execution_count": null,
      "metadata": {
        "id": "cgCahRDyEMf9"
      },
      "outputs": [],
      "source": [
        "# Definimos una función que evaluará cada modelo con diferentes tipos de métricas,\n",
        "# así como incluyendo algún método de submuestreo o sobremuestreo.\n",
        "\n",
        "def mi_fun(modelo, nombre, Xtraintest, ytraintest, metodo_uo=None):\n",
        "        modelos, nombres = list(), list()\n",
        "\n",
        " #       modelos.append(LogisticRegression(max_iter=100,# 10, 100, 1000\n",
        " #                                   C = 1.0,     # 0.000001, 0.005, 0.01,  1000\n",
        " #                                   #random_state=1\n",
        " #                                   ))\n",
        " #       nombres.append('LR')\n",
        " #       \n",
        "        \n",
        "#        modelos.append(KNeighborsClassifier(n_neighbors = 5,     # 1, 5, 21, 201\n",
        "#                                      ))\n",
        "#        nombres.append('kNN')\n",
        "#        \n",
        "#        modelos.append(DecisionTreeClassifier(max_depth = None,       # None, 5, 3, 1\n",
        "#                                        min_samples_split=2,\n",
        "#                                     ))\n",
        "#        nombres.append('DTree')\n",
        "#        \n",
        "#        modelos.append(RandomForestClassifier(n_estimators= 100,    # 100\n",
        "#                                        max_depth= None,      # None, 1, 2,3, 4, 5, 6 ... ¿Se esperaría la misma profunidad en un RF y en un DT?\n",
        "#                                        min_samples_split=2,    # 2, 5, 15\n",
        "#                                        #random_state=0\n",
        "#                                        ))\n",
        "#        nombres.append('RF')\n",
        "\n",
        "        pipeline = ImbPipeline(steps=[\n",
        "            ('preprocesamiento',columnasTransformer),\n",
        "            ('sub_sobre_muestreo', metodo_uo),\n",
        "            ('model', modelo)\n",
        "        ])\n",
        "\n",
        "        \"\"\"\n",
        "        Se lleva a cabo el proceso de entrenamiento y evaluación\n",
        "        con diferentes métricas.\n",
        "        Args:\n",
        "             modelo: modelo con la configuración deseada\n",
        "             nombre: nombre del modelo\n",
        "             Xtriantest, ytraintest: Variables de entrada y variable de salida\n",
        "             mod_uo: método de submuestreo o sobremuestreo, si aplica.\n",
        "        \"\"\"\n",
        "\n",
        "        micv = RepeatedStratifiedKFold(n_splits=5, n_repeats=3, random_state=5)\n",
        "        mismetricas = {\n",
        "            'miaccuracy': 'accuracy',\n",
        "            'miprecision': 'precision',\n",
        "            'mirecall': 'recall',\n",
        "            'mifi': 'f1',\n",
        "            'miauc': 'roc_auc',\n",
        "            'migmean': make_scorer(geometric_mean_score)\n",
        "        }\n",
        "\n",
        "        scores = cross_validate(pipeline, Xtraintest, np.ravel(ytraintest), scoring=mismetricas, cv=micv, return_train_score=True)\n",
        "\n",
        "        print('>> %s' % nombre)\n",
        "        for j, k in enumerate(list(scores.keys())):\n",
        "            if j > 1:\n",
        "                print('\\t %s %.4f (%.3f)' % (k, np.nanmean(scores[k]), np.nanstd(scores[k])))\n",
        "\n"
      ]
    },
    {
      "cell_type": "markdown",
      "metadata": {
        "id": "j60KvQ0LjcgO"
      },
      "source": [
        "### **Ejercicio 7a: Regresión Logística**"
      ]
    },
    {
      "cell_type": "code",
      "execution_count": 66,
      "metadata": {
        "id": "wYQegVU7nMki"
      },
      "outputs": [
        {
          "name": "stdout",
          "output_type": "stream",
          "text": [
            ">> Regresión_Logística\n",
            "\t test_miaccuracy 0.7170 (0.023)\n",
            "\t train_miaccuracy 0.7429 (0.009)\n",
            "\t test_miprecision 0.5208 (0.028)\n",
            "\t train_miprecision 0.5518 (0.012)\n",
            "\t test_mirecall 0.7156 (0.054)\n",
            "\t train_mirecall 0.7650 (0.010)\n",
            "\t test_mifi 0.6023 (0.034)\n",
            "\t train_mifi 0.6411 (0.009)\n",
            "\t test_miauc 0.7868 (0.027)\n",
            "\t train_miauc 0.8200 (0.006)\n",
            "\t test_migmean 0.7159 (0.029)\n",
            "\t train_migmean 0.7490 (0.008)\n"
          ]
        }
      ],
      "source": [
        "# Regresión Logística - Logistic Regression-LR:\n",
        "# https://scikit-learn.org/stable/modules/generated/sklearn.linear_model.LogisticRegression.html\n",
        "\n",
        "# Puedes consultar la siguiente liga para los métodos de submuestreo o sobremuestreo:\n",
        "# https://imbalanced-learn.org/stable/references/over_sampling.html\n",
        "\n",
        "# ************* Inlcuye aquí tu código:**************************\n",
        "\n",
        "nombre = \"Regresión_Logística\"\n",
        "\n",
        "# Selecciona la configuración de valores de hiperparámetros que consideres\n",
        "# te da el mejor desempeño:\n",
        "modelo = LogisticRegression(penalty='l2',\n",
        "                            max_iter=2000,\n",
        "                            random_state=1)\n",
        "\n",
        "# Selecciona el método de submuestreo o sobremuestreo, si lo deseas incluir.\n",
        "metodo_uo=RandomUnderSampler()\n",
        "\n",
        "\n",
        "# *********** Aquí termina la sección de agregar código *************\n",
        "\n",
        "\n",
        "# Evaluemos la configuración seleccionada:\n",
        "mi_fun(modelo,nombre, Xtraintest, ytraintest, metodo_uo)\n"
      ]
    },
    {
      "cell_type": "markdown",
      "metadata": {
        "id": "2x_t7QR3rqeX"
      },
      "source": [
        "### **Ejercicio 7b: k-Vecinos Más Cercanos (kNN)**"
      ]
    },
    {
      "cell_type": "code",
      "execution_count": 68,
      "metadata": {
        "id": "k4ySsyhfrnXI"
      },
      "outputs": [
        {
          "name": "stdout",
          "output_type": "stream",
          "text": [
            ">> kNN\n",
            "\t test_miaccuracy 0.6553 (0.026)\n",
            "\t train_miaccuracy 0.6867 (0.015)\n",
            "\t test_miprecision 0.4543 (0.027)\n",
            "\t train_miprecision 0.4861 (0.016)\n",
            "\t test_mirecall 0.7089 (0.060)\n",
            "\t train_mirecall 0.7550 (0.019)\n",
            "\t test_mifi 0.5521 (0.024)\n",
            "\t train_mifi 0.5913 (0.014)\n",
            "\t test_miauc 0.7306 (0.028)\n",
            "\t train_miauc 0.7754 (0.007)\n",
            "\t test_migmean 0.6677 (0.021)\n",
            "\t train_migmean 0.7043 (0.013)\n"
          ]
        }
      ],
      "source": [
        "# k-Vecinos más Cercanos : k-Nearest-Neighbors-kNN:\n",
        "# https://scikit-learn.org/stable/modules/generated/sklearn.neighbors.KNeighborsClassifier.html\n",
        "\n",
        "\n",
        "# ************* Inlcuye aquí tu código:**************************\n",
        "\n",
        "nombre = 'kNN'\n",
        "modelo = KNeighborsClassifier(n_neighbors = 15)\n",
        "metodo_uo = RandomUnderSampler()\n",
        "\n",
        "# *********** Aquí termina la sección de agregar código *************\n",
        "\n",
        "\n",
        "# Evaluemos la configuración seleccionada:\n",
        "mi_fun(modelo, nombre, Xtraintest, ytraintest, metodo_uo)\n"
      ]
    },
    {
      "cell_type": "markdown",
      "metadata": {
        "id": "YA89QvpWrxHW"
      },
      "source": [
        "### **Ejercicio 7c: Arbol de decisiones**"
      ]
    },
    {
      "cell_type": "code",
      "execution_count": 55,
      "metadata": {
        "id": "j7DvXFztrnUH"
      },
      "outputs": [
        {
          "name": "stdout",
          "output_type": "stream",
          "text": [
            ">> Decision_Tree\n",
            "\t test_miaccuracy 0.6290 (0.031)\n",
            "\t train_miaccuracy 0.8519 (0.014)\n",
            "\t test_miprecision 0.4232 (0.029)\n",
            "\t train_miprecision 0.6702 (0.022)\n",
            "\t test_mirecall 0.6333 (0.059)\n",
            "\t train_mirecall 1.0000 (0.000)\n",
            "\t test_mifi 0.5058 (0.028)\n",
            "\t train_mifi 0.8023 (0.016)\n",
            "\t test_miauc 0.6302 (0.025)\n",
            "\t train_miauc 0.8942 (0.010)\n",
            "\t test_migmean 0.6281 (0.024)\n",
            "\t train_migmean 0.8879 (0.011)\n"
          ]
        }
      ],
      "source": [
        "# Árbol de decisiones-DecisionTree-DT:\n",
        "# https://scikit-learn.org/stable/modules/generated/sklearn.tree.DecisionTreeClassifier.html\n",
        "\n",
        "\n",
        "# ************* Inlcuye aquí tu código:**************************\n",
        "\n",
        "nombre = 'Decision_Tree'\n",
        "modelo = DecisionTreeClassifier(max_depth = None,\n",
        "                                min_samples_split=2,   \n",
        "                                )\n",
        "metodo_uo = RandomUnderSampler()\n",
        "\n",
        "# *********** Aquí termina la sección de agregar código *************\n",
        "\n",
        "\n",
        "# Evaluemos la configuración seleccionada:\n",
        "mi_fun(modelo, nombre, Xtraintest, ytraintest, metodo_uo)"
      ]
    },
    {
      "cell_type": "markdown",
      "metadata": {
        "id": "vqZs2-isr3JG"
      },
      "source": [
        "### **Ejercicio 7d: Bosque Aleatorio - Random Forest**"
      ]
    },
    {
      "cell_type": "code",
      "execution_count": 56,
      "metadata": {
        "id": "qDbkUjaZrnQ2"
      },
      "outputs": [
        {
          "name": "stdout",
          "output_type": "stream",
          "text": [
            ">> Random Forest\n",
            "\t test_miaccuracy 0.7027 (0.025)\n",
            "\t train_miaccuracy 0.8744 (0.010)\n",
            "\t test_miprecision 0.5045 (0.030)\n",
            "\t train_miprecision 0.7084 (0.017)\n",
            "\t test_mirecall 0.7200 (0.036)\n",
            "\t train_mirecall 0.9894 (0.006)\n",
            "\t test_mifi 0.5926 (0.026)\n",
            "\t train_mifi 0.8256 (0.012)\n",
            "\t test_miauc 0.7852 (0.026)\n",
            "\t train_miauc 0.9764 (0.004)\n",
            "\t test_migmean 0.7070 (0.023)\n",
            "\t train_migmean 0.9035 (0.008)\n"
          ]
        }
      ],
      "source": [
        "# Bosque Aleatorio-RandomForest-RF:\n",
        "# https://scikit-learn.org/stable/modules/generated/sklearn.ensemble.RandomForestClassifier.html\n",
        "\n",
        "\n",
        "# ************* Inlcuye aquí tu código:**************************\n",
        "\n",
        "nombre = 'Random Forest'\n",
        "modelo = RandomForestClassifier(n_estimators= 100,    \n",
        "                                max_depth= None,      \n",
        "                                min_samples_split=5,   \n",
        "                                )\n",
        "metodo_uo = RandomUnderSampler()\n",
        "\n",
        "# *********** Aquí termina la sección de agregar código *************\n",
        "\n",
        "\n",
        "# Evaluemos la configuración seleccionada:\n",
        "mi_fun(modelo, nombre, Xtraintest, ytraintest, metodo_uo)\n"
      ]
    },
    {
      "cell_type": "markdown",
      "metadata": {
        "id": "CJiZcCyGr9Km"
      },
      "source": [
        "### **Ejercicio 7e: XGBoosting**"
      ]
    },
    {
      "cell_type": "code",
      "execution_count": 57,
      "metadata": {
        "id": "FUW1KQmsrnN2"
      },
      "outputs": [
        {
          "name": "stdout",
          "output_type": "stream",
          "text": [
            ">> XG-Boost\n",
            "\t test_miaccuracy 0.6857 (0.030)\n",
            "\t train_miaccuracy 0.8778 (0.009)\n",
            "\t test_miprecision 0.4830 (0.037)\n",
            "\t train_miprecision 0.7109 (0.014)\n",
            "\t test_mirecall 0.6689 (0.066)\n",
            "\t train_mirecall 1.0000 (0.000)\n",
            "\t test_mifi 0.5602 (0.044)\n",
            "\t train_mifi 0.8309 (0.010)\n",
            "\t test_miauc 0.7595 (0.025)\n",
            "\t train_miauc 0.9724 (0.006)\n",
            "\t test_migmean 0.6797 (0.038)\n",
            "\t train_migmean 0.9085 (0.007)\n"
          ]
        }
      ],
      "source": [
        "# XGBoosting:\n",
        "# https://xgboost.readthedocs.io/en/latest/python/python_api.html#xgboost.XGBClassifier\n",
        "# https://xgboost.readthedocs.io/en/stable/parameter.html\n",
        "\n",
        "\n",
        "# ************* Inlcuye aquí tu código:**************************\n",
        "\n",
        "nombre = 'XG-Boost'\n",
        "modelo = XGBClassifier(booster= 'gbtree',\n",
        "                               n_estimators=100,   # A medida que se aumente \"n_estimators\", se debe disminuir el \"learning_rate\", de manera general.\n",
        "                               max_depth= 6,             # 1,3, 6,\n",
        "                               learning_rate=0.3,   #  0.3, 0.000001, 0.01, 100,     # participación o peso de cada árbol desde el inicio.\n",
        "                               subsample=1.0,        # 1.0,  0.9, 0.8, ... 0.5  \n",
        "                               objective='binary:logistic',\n",
        "                               n_jobs=-1)\n",
        "metodo_uo = RandomUnderSampler()\n",
        "\n",
        "# *********** Aquí termina la sección de agregar código *************\n",
        "\n",
        "\n",
        "# Evaluemos la configuración seleccionada:\n",
        "mi_fun(modelo, nombre, Xtraintest, ytraintest, metodo_uo)\n"
      ]
    },
    {
      "cell_type": "markdown",
      "metadata": {
        "id": "gDtBaZTxsDRe"
      },
      "source": [
        "### **Ejercicio 7f: Red Neuronal Multicapa (MLP)**"
      ]
    },
    {
      "cell_type": "code",
      "execution_count": 67,
      "metadata": {
        "id": "1ijo8KULnPu2"
      },
      "outputs": [
        {
          "name": "stdout",
          "output_type": "stream",
          "text": [
            ">> MLP\n",
            "\t test_miaccuracy 0.7330 (0.019)\n",
            "\t train_miaccuracy 0.7532 (0.009)\n",
            "\t test_miprecision 0.5424 (0.025)\n",
            "\t train_miprecision 0.5664 (0.011)\n",
            "\t test_mirecall 0.7111 (0.046)\n",
            "\t train_mirecall 0.7572 (0.014)\n",
            "\t test_mifi 0.6148 (0.027)\n",
            "\t train_mifi 0.6480 (0.011)\n",
            "\t test_miauc 0.7923 (0.019)\n",
            "\t train_miauc 0.8236 (0.005)\n",
            "\t test_migmean 0.7260 (0.023)\n",
            "\t train_migmean 0.7543 (0.009)\n"
          ]
        }
      ],
      "source": [
        "# Red neuronal de Perceptrón Multicapa-MLP:\n",
        "# https://scikit-learn.org/stable/modules/generated/sklearn.neural_network.MLPClassifier.html\n",
        "\n",
        "\n",
        "# ************* Inlcuye aquí tu código:**************************\n",
        "\n",
        "nombre = 'MLP'\n",
        "modelo =  MLPClassifier(hidden_layer_sizes=(10,),     # 100,  6, 24, 30, (15,15), (50,50)\n",
        "                               activation='logistic',\n",
        "                               max_iter=1000,                  # 200,\n",
        "                               alpha=0.1,               # término de regularización L2.\n",
        "                               )\n",
        "metodo_uo = RandomOverSampler()\n",
        "\n",
        "# *********** Aquí termina la sección de agregar código *************\n",
        "\n",
        "\n",
        "# Evaluemos la configuración seleccionada:\n",
        "mi_fun(modelo, nombre, Xtraintest, ytraintest, metodo_uo)\n"
      ]
    },
    {
      "cell_type": "markdown",
      "metadata": {
        "id": "OIkSmzaPsOiN"
      },
      "source": [
        "### **Ejercicio 7g: Máquina de Vector Soporte (SVM)**"
      ]
    },
    {
      "cell_type": "code",
      "execution_count": 62,
      "metadata": {
        "id": "9OgIHFIdnPrc"
      },
      "outputs": [
        {
          "name": "stdout",
          "output_type": "stream",
          "text": [
            ">> SVM\n",
            "\t test_miaccuracy 0.7043 (0.014)\n",
            "\t train_miaccuracy 0.7606 (0.012)\n",
            "\t test_miprecision 0.5052 (0.017)\n",
            "\t train_miprecision 0.5700 (0.016)\n",
            "\t test_mirecall 0.7356 (0.049)\n",
            "\t train_mirecall 0.8267 (0.015)\n",
            "\t test_mifi 0.5984 (0.023)\n",
            "\t train_mifi 0.6746 (0.012)\n",
            "\t test_miauc 0.7848 (0.021)\n",
            "\t train_miauc 0.8639 (0.006)\n",
            "\t test_migmean 0.7121 (0.019)\n",
            "\t train_migmean 0.7779 (0.010)\n"
          ]
        }
      ],
      "source": [
        "# Máquina de Vectores de Soporte-SVM:\n",
        "# https://scikit-learn.org/stable/modules/generated/sklearn.svm.SVC.html\n",
        "\n",
        "\n",
        "# ************* Inlcuye aquí tu código:**************************\n",
        "\n",
        "nombre = 'SVM'\n",
        "modelo = SVC(kernel='rbf',\n",
        "                     C= 1.0,      # 1.0, 0.00001, 1000           # inversamente proporcional a la constante de regularización L2.\n",
        "                     gamma= 'scale',           # scale,  0.005\n",
        "                     #class_weight='balanced',     # Siempre puedes hacer uso del balanceo en caso de que ayude.\n",
        "                     #random_state=7\n",
        "            )\n",
        "metodo_uo = RandomUnderSampler()\n",
        "\n",
        "# *********** Aquí termina la sección de agregar código *************\n",
        "\n",
        "\n",
        "# Evaluemos la configuración seleccionada:\n",
        "mi_fun(modelo, nombre, Xtraintest, ytraintest, metodo_uo)\n"
      ]
    },
    {
      "cell_type": "markdown",
      "metadata": {
        "id": "4JkGo57zMXqn"
      },
      "source": [
        "## **Ejercicio 8**"
      ]
    },
    {
      "cell_type": "code",
      "execution_count": 70,
      "metadata": {
        "id": "R-UflBezs4q2"
      },
      "outputs": [
        {
          "name": "stdout",
          "output_type": "stream",
          "text": [
            ">> MLP\n",
            "\t test_miaccuracy 0.7350 (0.030)\n",
            "\t train_miaccuracy 0.7508 (0.006)\n",
            "\t test_miprecision 0.5454 (0.040)\n",
            "\t train_miprecision 0.5637 (0.008)\n",
            "\t test_mirecall 0.7111 (0.053)\n",
            "\t train_mirecall 0.7506 (0.011)\n",
            "\t test_mifi 0.6168 (0.042)\n",
            "\t train_mifi 0.6438 (0.008)\n",
            "\t test_miauc 0.7928 (0.023)\n",
            "\t train_miauc 0.8230 (0.005)\n",
            "\t test_migmean 0.7275 (0.035)\n",
            "\t train_migmean 0.7507 (0.006)\n",
            "MLPClassifier(activation='logistic', alpha=0.1, hidden_layer_sizes=(10,),\n",
            "              max_iter=1000)\n"
          ]
        }
      ],
      "source": [
        "# Incluye el reporte del mejor modelo solicitado en el archivo PDF:\n",
        "# Mejor modelo fue la red neural multicapa:\n",
        "nombre = 'MLP'\n",
        "modelo =  MLPClassifier(hidden_layer_sizes=(10,),     # 100,  6, 24, 30, (15,15), (50,50)\n",
        "                               activation='logistic',\n",
        "                               max_iter=1000,                  # 200,\n",
        "                               alpha=0.1,               # término de regularización L2.\n",
        "                               )\n",
        "metodo_uo = RandomOverSampler()\n",
        "\n",
        "# *********** Aquí termina la sección de agregar código *************\n",
        "\n",
        "\n",
        "# Evaluemos la configuración seleccionada:\n",
        "mi_fun(modelo, nombre, Xtraintest, ytraintest, metodo_uo)\n",
        "\n",
        "\n",
        "print(modelo)"
      ]
    },
    {
      "cell_type": "markdown",
      "metadata": {
        "id": "d8cEISnQs8Ol"
      },
      "source": [
        "## **Ejercicio 9**"
      ]
    },
    {
      "cell_type": "markdown",
      "metadata": {
        "id": "n04HnK-ZX4vl"
      },
      "source": [
        "### **Escribe tus conclusiones finales de la actividad.**"
      ]
    },
    {
      "cell_type": "markdown",
      "metadata": {
        "id": "R7s7iDgKYEn9"
      },
      "source": [
        "### ++++++++ Inicia la sección de agregar texto: +++++++++++\n",
        "\n",
        "Se puede ver que los algoritmos de entrenamiento se pueden validar desde un solo arreglo y tras hacer test a varios de ellos se puede determinar el mejor sin problema.\n",
        "Las métricas, la arquitectura del clasificador y la flexibilidad en los hiper parámetros es lo al final arroja los resultados de clasificación deseados.  Para este caso se utilizó un enfoque de clases desbalanceadas ya que a pesar de que la muestra minoritaria era un 30% del dataset sí es necesario poder clasificar a dicha clase **positiva** minimizando las equivocaciones en otorgar créditos de forma arriesgada.  \n",
        "\n",
        "Se definió como el mejor clasificador una red neural multicapa para clasificar puesto que no presentó mucha diferencia entre el set de entrenamiento y el de validación y mostró el mejor desempeño en el set de entrenamiento.  Dentro de los parámetros que se evaluaron se hizo una optimización de la cantidad de neuronas para aligerar el algoritmo hasta encontrar que un tamaño de 10 no muestra un detrimento en su desempeño base.\n",
        "\n",
        "Como estrategia adicional se evaluaron las técnicas de submuestreo y sobremuestreo en los modelos.  En general los resultados usando la técnica de submuestreo y sobremuestreo fueron similares para el caso evaluado y en general mejoraron el desempeño general en la métrica de media geométrica comparado contra no utilizar ninguna de las técnicas.\n",
        "\n",
        "### ++++++++ Termina la sección de agregar texto. +++++++++++\n"
      ]
    },
    {
      "cell_type": "markdown",
      "metadata": {
        "id": "v-tW_CdUYMdl"
      },
      "source": [
        ">> ### **Fin de la Actividad de las Semanas 5 y 6.**"
      ]
    }
  ],
  "metadata": {
    "colab": {
      "collapsed_sections": [
        "a08Di3GjkL1Y",
        "LckYCS8SlnFo",
        "qQx2lbzTkEsQ",
        "ocmGcSC2j_2x",
        "zb5bE4WJj8Rw",
        "UJokj9Diyeu0",
        "hZxyRbHL0gNF",
        "j60KvQ0LjcgO",
        "2x_t7QR3rqeX",
        "YA89QvpWrxHW",
        "vqZs2-isr3JG",
        "CJiZcCyGr9Km",
        "gDtBaZTxsDRe",
        "OIkSmzaPsOiN",
        "4JkGo57zMXqn",
        "d8cEISnQs8Ol"
      ],
      "provenance": []
    },
    "kernelspec": {
      "display_name": "Python 3",
      "language": "python",
      "name": "python3"
    },
    "language_info": {
      "codemirror_mode": {
        "name": "ipython",
        "version": 3
      },
      "file_extension": ".py",
      "mimetype": "text/x-python",
      "name": "python",
      "nbconvert_exporter": "python",
      "pygments_lexer": "ipython3",
      "version": "3.12.1"
    }
  },
  "nbformat": 4,
  "nbformat_minor": 0
}
