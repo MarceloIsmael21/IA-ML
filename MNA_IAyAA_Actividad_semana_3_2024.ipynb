{
  "cells": [
    {
      "cell_type": "markdown",
      "id": "hWEMLj5wrcMV",
      "metadata": {
        "id": "hWEMLj5wrcMV"
      },
      "source": [
        "# **Maestría en Inteligencia Artificial Aplicada**\n",
        "\n",
        "## **Curso: Inteligencia Artificial y Aprendizaje Automático**\n",
        "\n",
        "**Tecnológico de Monterrey**\n",
        "\n",
        "Prof Luis Eduardo Falcón Morales\n",
        "\n",
        "Actividad de Semana 3 - Septiembre 2024\n",
        "\n",
        "**Rotación de Personal - IBM**"
      ]
    },
    {
      "cell_type": "markdown",
      "id": "6PudVOn2rv9-",
      "metadata": {
        "id": "6PudVOn2rv9-"
      },
      "source": [
        "#### **Nombre y matrícula:**\n",
        "\n",
        "Marcelo Ismael López Verdugo  \n",
        "A00959089"
      ]
    },
    {
      "cell_type": "markdown",
      "id": "zHrHylCFqr7R",
      "metadata": {
        "id": "zHrHylCFqr7R"
      },
      "source": [
        "#### **La siguiente actividad se basa en los datos del archivo \"WA_Fn-UseC_-HR-Employee-Attrition.csv\" que se encuentra en la siguiente liga de Kaggle, llamada \"IBM HR Analytics Employee Attrition & Performance\":**\n",
        "\n",
        "https://www.kaggle.com/datasets/pavansubhasht/ibm-hr-analytics-attrition-dataset\n"
      ]
    },
    {
      "cell_type": "code",
      "execution_count": 16,
      "id": "72533da4",
      "metadata": {
        "id": "72533da4"
      },
      "outputs": [],
      "source": [
        "# Incluye aquí todas las librerías que consideres necesarias:\n",
        "import pandas as pd\n",
        "import sklearn\n",
        "from sklearn.model_selection import train_test_split\n",
        "from sklearn.preprocessing import LabelEncoder"
      ]
    },
    {
      "cell_type": "markdown",
      "id": "ac09ecaf",
      "metadata": {
        "id": "ac09ecaf"
      },
      "source": [
        "# **Ejercicio 1:**"
      ]
    },
    {
      "cell_type": "markdown",
      "id": "T_-hoJgWpWbt",
      "metadata": {
        "id": "T_-hoJgWpWbt"
      },
      "source": [
        "#### **Incluye una breve introducción sobre lo que se entiende por el problema de rotación de personal en las organizaciones (employee attrition problem).**"
      ]
    },
    {
      "cell_type": "markdown",
      "id": "LfSb-scypfrX",
      "metadata": {
        "id": "LfSb-scypfrX"
      },
      "source": [
        "++++++++ Inicia la sección de agregar texto: ++++++++++++\n",
        "\n",
        "\n",
        "La rotación de personal en las organizaciones corresponde a cuando la plantilla se refresca de forma frecuentemente.  Un problema de rotación aparece cuando los empleados no permanecen lo suficiente y se tiene que cubrir los puestos con gente de poco \"expertisse\".  Entre la consecuencias se encuentra que la capacitación y las habilidades del personal presente podrían ser insuficientes para ejercer los cargos.  \n",
        "\n",
        "Entre las causas a la alta rotación se encuentra un mal incentivo, poca motivación, el pago, problemas con otros empleados o mal ambiente laboral, mala alineación de las metas personales con las organizacionales entre otras.\n",
        "\n",
        "++++++++ Termina la sección de agregar texto. +++++++++++"
      ]
    },
    {
      "cell_type": "markdown",
      "id": "_FN5RwbGpz0c",
      "metadata": {
        "id": "_FN5RwbGpz0c"
      },
      "source": [
        "# **Ejercicio 2:**"
      ]
    },
    {
      "cell_type": "markdown",
      "id": "Yybnk8vKqEfS",
      "metadata": {
        "id": "Yybnk8vKqEfS"
      },
      "source": [
        "#### **Carga los datos del archivo de la página de Kaggle indicada como un DataFrame de Pandas, llamado \"df\" y utilicemos el método “describe” con el argumento include= “all”, para obtener una primera descripción general de cada variable.**"
      ]
    },
    {
      "cell_type": "code",
      "execution_count": null,
      "id": "0b4db5cd",
      "metadata": {
        "id": "0b4db5cd"
      },
      "outputs": [
        {
          "name": "stdout",
          "output_type": "stream",
          "text": [
            "Tamaño del DataFrame: (1470, 35)\n"
          ]
        },
        {
          "data": {
            "text/html": [
              "<div>\n",
              "<style scoped>\n",
              "    .dataframe tbody tr th:only-of-type {\n",
              "        vertical-align: middle;\n",
              "    }\n",
              "\n",
              "    .dataframe tbody tr th {\n",
              "        vertical-align: top;\n",
              "    }\n",
              "\n",
              "    .dataframe thead th {\n",
              "        text-align: right;\n",
              "    }\n",
              "</style>\n",
              "<table border=\"1\" class=\"dataframe\">\n",
              "  <thead>\n",
              "    <tr style=\"text-align: right;\">\n",
              "      <th></th>\n",
              "      <th>count</th>\n",
              "      <th>unique</th>\n",
              "      <th>top</th>\n",
              "      <th>freq</th>\n",
              "      <th>mean</th>\n",
              "      <th>std</th>\n",
              "      <th>min</th>\n",
              "      <th>25%</th>\n",
              "      <th>50%</th>\n",
              "      <th>75%</th>\n",
              "      <th>max</th>\n",
              "    </tr>\n",
              "  </thead>\n",
              "  <tbody>\n",
              "    <tr>\n",
              "      <th>Age</th>\n",
              "      <td>1470.0</td>\n",
              "      <td>NaN</td>\n",
              "      <td>NaN</td>\n",
              "      <td>NaN</td>\n",
              "      <td>36.92381</td>\n",
              "      <td>9.135373</td>\n",
              "      <td>18.0</td>\n",
              "      <td>30.0</td>\n",
              "      <td>36.0</td>\n",
              "      <td>43.0</td>\n",
              "      <td>60.0</td>\n",
              "    </tr>\n",
              "    <tr>\n",
              "      <th>Attrition</th>\n",
              "      <td>1470</td>\n",
              "      <td>2</td>\n",
              "      <td>No</td>\n",
              "      <td>1233</td>\n",
              "      <td>NaN</td>\n",
              "      <td>NaN</td>\n",
              "      <td>NaN</td>\n",
              "      <td>NaN</td>\n",
              "      <td>NaN</td>\n",
              "      <td>NaN</td>\n",
              "      <td>NaN</td>\n",
              "    </tr>\n",
              "    <tr>\n",
              "      <th>BusinessTravel</th>\n",
              "      <td>1470</td>\n",
              "      <td>3</td>\n",
              "      <td>Travel_Rarely</td>\n",
              "      <td>1043</td>\n",
              "      <td>NaN</td>\n",
              "      <td>NaN</td>\n",
              "      <td>NaN</td>\n",
              "      <td>NaN</td>\n",
              "      <td>NaN</td>\n",
              "      <td>NaN</td>\n",
              "      <td>NaN</td>\n",
              "    </tr>\n",
              "    <tr>\n",
              "      <th>DailyRate</th>\n",
              "      <td>1470.0</td>\n",
              "      <td>NaN</td>\n",
              "      <td>NaN</td>\n",
              "      <td>NaN</td>\n",
              "      <td>802.485714</td>\n",
              "      <td>403.5091</td>\n",
              "      <td>102.0</td>\n",
              "      <td>465.0</td>\n",
              "      <td>802.0</td>\n",
              "      <td>1157.0</td>\n",
              "      <td>1499.0</td>\n",
              "    </tr>\n",
              "    <tr>\n",
              "      <th>Department</th>\n",
              "      <td>1470</td>\n",
              "      <td>3</td>\n",
              "      <td>Research &amp; Development</td>\n",
              "      <td>961</td>\n",
              "      <td>NaN</td>\n",
              "      <td>NaN</td>\n",
              "      <td>NaN</td>\n",
              "      <td>NaN</td>\n",
              "      <td>NaN</td>\n",
              "      <td>NaN</td>\n",
              "      <td>NaN</td>\n",
              "    </tr>\n",
              "    <tr>\n",
              "      <th>DistanceFromHome</th>\n",
              "      <td>1470.0</td>\n",
              "      <td>NaN</td>\n",
              "      <td>NaN</td>\n",
              "      <td>NaN</td>\n",
              "      <td>9.192517</td>\n",
              "      <td>8.106864</td>\n",
              "      <td>1.0</td>\n",
              "      <td>2.0</td>\n",
              "      <td>7.0</td>\n",
              "      <td>14.0</td>\n",
              "      <td>29.0</td>\n",
              "    </tr>\n",
              "    <tr>\n",
              "      <th>Education</th>\n",
              "      <td>1470.0</td>\n",
              "      <td>NaN</td>\n",
              "      <td>NaN</td>\n",
              "      <td>NaN</td>\n",
              "      <td>2.912925</td>\n",
              "      <td>1.024165</td>\n",
              "      <td>1.0</td>\n",
              "      <td>2.0</td>\n",
              "      <td>3.0</td>\n",
              "      <td>4.0</td>\n",
              "      <td>5.0</td>\n",
              "    </tr>\n",
              "    <tr>\n",
              "      <th>EducationField</th>\n",
              "      <td>1470</td>\n",
              "      <td>6</td>\n",
              "      <td>Life Sciences</td>\n",
              "      <td>606</td>\n",
              "      <td>NaN</td>\n",
              "      <td>NaN</td>\n",
              "      <td>NaN</td>\n",
              "      <td>NaN</td>\n",
              "      <td>NaN</td>\n",
              "      <td>NaN</td>\n",
              "      <td>NaN</td>\n",
              "    </tr>\n",
              "    <tr>\n",
              "      <th>EmployeeCount</th>\n",
              "      <td>1470.0</td>\n",
              "      <td>NaN</td>\n",
              "      <td>NaN</td>\n",
              "      <td>NaN</td>\n",
              "      <td>1.0</td>\n",
              "      <td>0.0</td>\n",
              "      <td>1.0</td>\n",
              "      <td>1.0</td>\n",
              "      <td>1.0</td>\n",
              "      <td>1.0</td>\n",
              "      <td>1.0</td>\n",
              "    </tr>\n",
              "    <tr>\n",
              "      <th>EmployeeNumber</th>\n",
              "      <td>1470.0</td>\n",
              "      <td>NaN</td>\n",
              "      <td>NaN</td>\n",
              "      <td>NaN</td>\n",
              "      <td>1024.865306</td>\n",
              "      <td>602.024335</td>\n",
              "      <td>1.0</td>\n",
              "      <td>491.25</td>\n",
              "      <td>1020.5</td>\n",
              "      <td>1555.75</td>\n",
              "      <td>2068.0</td>\n",
              "    </tr>\n",
              "    <tr>\n",
              "      <th>EnvironmentSatisfaction</th>\n",
              "      <td>1470.0</td>\n",
              "      <td>NaN</td>\n",
              "      <td>NaN</td>\n",
              "      <td>NaN</td>\n",
              "      <td>2.721769</td>\n",
              "      <td>1.093082</td>\n",
              "      <td>1.0</td>\n",
              "      <td>2.0</td>\n",
              "      <td>3.0</td>\n",
              "      <td>4.0</td>\n",
              "      <td>4.0</td>\n",
              "    </tr>\n",
              "    <tr>\n",
              "      <th>Gender</th>\n",
              "      <td>1470</td>\n",
              "      <td>2</td>\n",
              "      <td>Male</td>\n",
              "      <td>882</td>\n",
              "      <td>NaN</td>\n",
              "      <td>NaN</td>\n",
              "      <td>NaN</td>\n",
              "      <td>NaN</td>\n",
              "      <td>NaN</td>\n",
              "      <td>NaN</td>\n",
              "      <td>NaN</td>\n",
              "    </tr>\n",
              "    <tr>\n",
              "      <th>HourlyRate</th>\n",
              "      <td>1470.0</td>\n",
              "      <td>NaN</td>\n",
              "      <td>NaN</td>\n",
              "      <td>NaN</td>\n",
              "      <td>65.891156</td>\n",
              "      <td>20.329428</td>\n",
              "      <td>30.0</td>\n",
              "      <td>48.0</td>\n",
              "      <td>66.0</td>\n",
              "      <td>83.75</td>\n",
              "      <td>100.0</td>\n",
              "    </tr>\n",
              "    <tr>\n",
              "      <th>JobInvolvement</th>\n",
              "      <td>1470.0</td>\n",
              "      <td>NaN</td>\n",
              "      <td>NaN</td>\n",
              "      <td>NaN</td>\n",
              "      <td>2.729932</td>\n",
              "      <td>0.711561</td>\n",
              "      <td>1.0</td>\n",
              "      <td>2.0</td>\n",
              "      <td>3.0</td>\n",
              "      <td>3.0</td>\n",
              "      <td>4.0</td>\n",
              "    </tr>\n",
              "    <tr>\n",
              "      <th>JobLevel</th>\n",
              "      <td>1470.0</td>\n",
              "      <td>NaN</td>\n",
              "      <td>NaN</td>\n",
              "      <td>NaN</td>\n",
              "      <td>2.063946</td>\n",
              "      <td>1.10694</td>\n",
              "      <td>1.0</td>\n",
              "      <td>1.0</td>\n",
              "      <td>2.0</td>\n",
              "      <td>3.0</td>\n",
              "      <td>5.0</td>\n",
              "    </tr>\n",
              "    <tr>\n",
              "      <th>JobRole</th>\n",
              "      <td>1470</td>\n",
              "      <td>9</td>\n",
              "      <td>Sales Executive</td>\n",
              "      <td>326</td>\n",
              "      <td>NaN</td>\n",
              "      <td>NaN</td>\n",
              "      <td>NaN</td>\n",
              "      <td>NaN</td>\n",
              "      <td>NaN</td>\n",
              "      <td>NaN</td>\n",
              "      <td>NaN</td>\n",
              "    </tr>\n",
              "    <tr>\n",
              "      <th>JobSatisfaction</th>\n",
              "      <td>1470.0</td>\n",
              "      <td>NaN</td>\n",
              "      <td>NaN</td>\n",
              "      <td>NaN</td>\n",
              "      <td>2.728571</td>\n",
              "      <td>1.102846</td>\n",
              "      <td>1.0</td>\n",
              "      <td>2.0</td>\n",
              "      <td>3.0</td>\n",
              "      <td>4.0</td>\n",
              "      <td>4.0</td>\n",
              "    </tr>\n",
              "    <tr>\n",
              "      <th>MaritalStatus</th>\n",
              "      <td>1470</td>\n",
              "      <td>3</td>\n",
              "      <td>Married</td>\n",
              "      <td>673</td>\n",
              "      <td>NaN</td>\n",
              "      <td>NaN</td>\n",
              "      <td>NaN</td>\n",
              "      <td>NaN</td>\n",
              "      <td>NaN</td>\n",
              "      <td>NaN</td>\n",
              "      <td>NaN</td>\n",
              "    </tr>\n",
              "    <tr>\n",
              "      <th>MonthlyIncome</th>\n",
              "      <td>1470.0</td>\n",
              "      <td>NaN</td>\n",
              "      <td>NaN</td>\n",
              "      <td>NaN</td>\n",
              "      <td>6502.931293</td>\n",
              "      <td>4707.956783</td>\n",
              "      <td>1009.0</td>\n",
              "      <td>2911.0</td>\n",
              "      <td>4919.0</td>\n",
              "      <td>8379.0</td>\n",
              "      <td>19999.0</td>\n",
              "    </tr>\n",
              "    <tr>\n",
              "      <th>MonthlyRate</th>\n",
              "      <td>1470.0</td>\n",
              "      <td>NaN</td>\n",
              "      <td>NaN</td>\n",
              "      <td>NaN</td>\n",
              "      <td>14313.103401</td>\n",
              "      <td>7117.786044</td>\n",
              "      <td>2094.0</td>\n",
              "      <td>8047.0</td>\n",
              "      <td>14235.5</td>\n",
              "      <td>20461.5</td>\n",
              "      <td>26999.0</td>\n",
              "    </tr>\n",
              "    <tr>\n",
              "      <th>NumCompaniesWorked</th>\n",
              "      <td>1470.0</td>\n",
              "      <td>NaN</td>\n",
              "      <td>NaN</td>\n",
              "      <td>NaN</td>\n",
              "      <td>2.693197</td>\n",
              "      <td>2.498009</td>\n",
              "      <td>0.0</td>\n",
              "      <td>1.0</td>\n",
              "      <td>2.0</td>\n",
              "      <td>4.0</td>\n",
              "      <td>9.0</td>\n",
              "    </tr>\n",
              "    <tr>\n",
              "      <th>Over18</th>\n",
              "      <td>1470</td>\n",
              "      <td>1</td>\n",
              "      <td>Y</td>\n",
              "      <td>1470</td>\n",
              "      <td>NaN</td>\n",
              "      <td>NaN</td>\n",
              "      <td>NaN</td>\n",
              "      <td>NaN</td>\n",
              "      <td>NaN</td>\n",
              "      <td>NaN</td>\n",
              "      <td>NaN</td>\n",
              "    </tr>\n",
              "    <tr>\n",
              "      <th>OverTime</th>\n",
              "      <td>1470</td>\n",
              "      <td>2</td>\n",
              "      <td>No</td>\n",
              "      <td>1054</td>\n",
              "      <td>NaN</td>\n",
              "      <td>NaN</td>\n",
              "      <td>NaN</td>\n",
              "      <td>NaN</td>\n",
              "      <td>NaN</td>\n",
              "      <td>NaN</td>\n",
              "      <td>NaN</td>\n",
              "    </tr>\n",
              "    <tr>\n",
              "      <th>PercentSalaryHike</th>\n",
              "      <td>1470.0</td>\n",
              "      <td>NaN</td>\n",
              "      <td>NaN</td>\n",
              "      <td>NaN</td>\n",
              "      <td>15.209524</td>\n",
              "      <td>3.659938</td>\n",
              "      <td>11.0</td>\n",
              "      <td>12.0</td>\n",
              "      <td>14.0</td>\n",
              "      <td>18.0</td>\n",
              "      <td>25.0</td>\n",
              "    </tr>\n",
              "    <tr>\n",
              "      <th>PerformanceRating</th>\n",
              "      <td>1470.0</td>\n",
              "      <td>NaN</td>\n",
              "      <td>NaN</td>\n",
              "      <td>NaN</td>\n",
              "      <td>3.153741</td>\n",
              "      <td>0.360824</td>\n",
              "      <td>3.0</td>\n",
              "      <td>3.0</td>\n",
              "      <td>3.0</td>\n",
              "      <td>3.0</td>\n",
              "      <td>4.0</td>\n",
              "    </tr>\n",
              "    <tr>\n",
              "      <th>RelationshipSatisfaction</th>\n",
              "      <td>1470.0</td>\n",
              "      <td>NaN</td>\n",
              "      <td>NaN</td>\n",
              "      <td>NaN</td>\n",
              "      <td>2.712245</td>\n",
              "      <td>1.081209</td>\n",
              "      <td>1.0</td>\n",
              "      <td>2.0</td>\n",
              "      <td>3.0</td>\n",
              "      <td>4.0</td>\n",
              "      <td>4.0</td>\n",
              "    </tr>\n",
              "    <tr>\n",
              "      <th>StandardHours</th>\n",
              "      <td>1470.0</td>\n",
              "      <td>NaN</td>\n",
              "      <td>NaN</td>\n",
              "      <td>NaN</td>\n",
              "      <td>80.0</td>\n",
              "      <td>0.0</td>\n",
              "      <td>80.0</td>\n",
              "      <td>80.0</td>\n",
              "      <td>80.0</td>\n",
              "      <td>80.0</td>\n",
              "      <td>80.0</td>\n",
              "    </tr>\n",
              "    <tr>\n",
              "      <th>StockOptionLevel</th>\n",
              "      <td>1470.0</td>\n",
              "      <td>NaN</td>\n",
              "      <td>NaN</td>\n",
              "      <td>NaN</td>\n",
              "      <td>0.793878</td>\n",
              "      <td>0.852077</td>\n",
              "      <td>0.0</td>\n",
              "      <td>0.0</td>\n",
              "      <td>1.0</td>\n",
              "      <td>1.0</td>\n",
              "      <td>3.0</td>\n",
              "    </tr>\n",
              "    <tr>\n",
              "      <th>TotalWorkingYears</th>\n",
              "      <td>1470.0</td>\n",
              "      <td>NaN</td>\n",
              "      <td>NaN</td>\n",
              "      <td>NaN</td>\n",
              "      <td>11.279592</td>\n",
              "      <td>7.780782</td>\n",
              "      <td>0.0</td>\n",
              "      <td>6.0</td>\n",
              "      <td>10.0</td>\n",
              "      <td>15.0</td>\n",
              "      <td>40.0</td>\n",
              "    </tr>\n",
              "    <tr>\n",
              "      <th>TrainingTimesLastYear</th>\n",
              "      <td>1470.0</td>\n",
              "      <td>NaN</td>\n",
              "      <td>NaN</td>\n",
              "      <td>NaN</td>\n",
              "      <td>2.79932</td>\n",
              "      <td>1.289271</td>\n",
              "      <td>0.0</td>\n",
              "      <td>2.0</td>\n",
              "      <td>3.0</td>\n",
              "      <td>3.0</td>\n",
              "      <td>6.0</td>\n",
              "    </tr>\n",
              "    <tr>\n",
              "      <th>WorkLifeBalance</th>\n",
              "      <td>1470.0</td>\n",
              "      <td>NaN</td>\n",
              "      <td>NaN</td>\n",
              "      <td>NaN</td>\n",
              "      <td>2.761224</td>\n",
              "      <td>0.706476</td>\n",
              "      <td>1.0</td>\n",
              "      <td>2.0</td>\n",
              "      <td>3.0</td>\n",
              "      <td>3.0</td>\n",
              "      <td>4.0</td>\n",
              "    </tr>\n",
              "    <tr>\n",
              "      <th>YearsAtCompany</th>\n",
              "      <td>1470.0</td>\n",
              "      <td>NaN</td>\n",
              "      <td>NaN</td>\n",
              "      <td>NaN</td>\n",
              "      <td>7.008163</td>\n",
              "      <td>6.126525</td>\n",
              "      <td>0.0</td>\n",
              "      <td>3.0</td>\n",
              "      <td>5.0</td>\n",
              "      <td>9.0</td>\n",
              "      <td>40.0</td>\n",
              "    </tr>\n",
              "    <tr>\n",
              "      <th>YearsInCurrentRole</th>\n",
              "      <td>1470.0</td>\n",
              "      <td>NaN</td>\n",
              "      <td>NaN</td>\n",
              "      <td>NaN</td>\n",
              "      <td>4.229252</td>\n",
              "      <td>3.623137</td>\n",
              "      <td>0.0</td>\n",
              "      <td>2.0</td>\n",
              "      <td>3.0</td>\n",
              "      <td>7.0</td>\n",
              "      <td>18.0</td>\n",
              "    </tr>\n",
              "    <tr>\n",
              "      <th>YearsSinceLastPromotion</th>\n",
              "      <td>1470.0</td>\n",
              "      <td>NaN</td>\n",
              "      <td>NaN</td>\n",
              "      <td>NaN</td>\n",
              "      <td>2.187755</td>\n",
              "      <td>3.22243</td>\n",
              "      <td>0.0</td>\n",
              "      <td>0.0</td>\n",
              "      <td>1.0</td>\n",
              "      <td>3.0</td>\n",
              "      <td>15.0</td>\n",
              "    </tr>\n",
              "    <tr>\n",
              "      <th>YearsWithCurrManager</th>\n",
              "      <td>1470.0</td>\n",
              "      <td>NaN</td>\n",
              "      <td>NaN</td>\n",
              "      <td>NaN</td>\n",
              "      <td>4.123129</td>\n",
              "      <td>3.568136</td>\n",
              "      <td>0.0</td>\n",
              "      <td>2.0</td>\n",
              "      <td>3.0</td>\n",
              "      <td>7.0</td>\n",
              "      <td>17.0</td>\n",
              "    </tr>\n",
              "  </tbody>\n",
              "</table>\n",
              "</div>"
            ],
            "text/plain": [
              "                           count unique                     top  freq  \\\n",
              "Age                       1470.0    NaN                     NaN   NaN   \n",
              "Attrition                   1470      2                      No  1233   \n",
              "BusinessTravel              1470      3           Travel_Rarely  1043   \n",
              "DailyRate                 1470.0    NaN                     NaN   NaN   \n",
              "Department                  1470      3  Research & Development   961   \n",
              "DistanceFromHome          1470.0    NaN                     NaN   NaN   \n",
              "Education                 1470.0    NaN                     NaN   NaN   \n",
              "EducationField              1470      6           Life Sciences   606   \n",
              "EmployeeCount             1470.0    NaN                     NaN   NaN   \n",
              "EmployeeNumber            1470.0    NaN                     NaN   NaN   \n",
              "EnvironmentSatisfaction   1470.0    NaN                     NaN   NaN   \n",
              "Gender                      1470      2                    Male   882   \n",
              "HourlyRate                1470.0    NaN                     NaN   NaN   \n",
              "JobInvolvement            1470.0    NaN                     NaN   NaN   \n",
              "JobLevel                  1470.0    NaN                     NaN   NaN   \n",
              "JobRole                     1470      9         Sales Executive   326   \n",
              "JobSatisfaction           1470.0    NaN                     NaN   NaN   \n",
              "MaritalStatus               1470      3                 Married   673   \n",
              "MonthlyIncome             1470.0    NaN                     NaN   NaN   \n",
              "MonthlyRate               1470.0    NaN                     NaN   NaN   \n",
              "NumCompaniesWorked        1470.0    NaN                     NaN   NaN   \n",
              "Over18                      1470      1                       Y  1470   \n",
              "OverTime                    1470      2                      No  1054   \n",
              "PercentSalaryHike         1470.0    NaN                     NaN   NaN   \n",
              "PerformanceRating         1470.0    NaN                     NaN   NaN   \n",
              "RelationshipSatisfaction  1470.0    NaN                     NaN   NaN   \n",
              "StandardHours             1470.0    NaN                     NaN   NaN   \n",
              "StockOptionLevel          1470.0    NaN                     NaN   NaN   \n",
              "TotalWorkingYears         1470.0    NaN                     NaN   NaN   \n",
              "TrainingTimesLastYear     1470.0    NaN                     NaN   NaN   \n",
              "WorkLifeBalance           1470.0    NaN                     NaN   NaN   \n",
              "YearsAtCompany            1470.0    NaN                     NaN   NaN   \n",
              "YearsInCurrentRole        1470.0    NaN                     NaN   NaN   \n",
              "YearsSinceLastPromotion   1470.0    NaN                     NaN   NaN   \n",
              "YearsWithCurrManager      1470.0    NaN                     NaN   NaN   \n",
              "\n",
              "                                  mean          std     min     25%      50%  \\\n",
              "Age                           36.92381     9.135373    18.0    30.0     36.0   \n",
              "Attrition                          NaN          NaN     NaN     NaN      NaN   \n",
              "BusinessTravel                     NaN          NaN     NaN     NaN      NaN   \n",
              "DailyRate                   802.485714     403.5091   102.0   465.0    802.0   \n",
              "Department                         NaN          NaN     NaN     NaN      NaN   \n",
              "DistanceFromHome              9.192517     8.106864     1.0     2.0      7.0   \n",
              "Education                     2.912925     1.024165     1.0     2.0      3.0   \n",
              "EducationField                     NaN          NaN     NaN     NaN      NaN   \n",
              "EmployeeCount                      1.0          0.0     1.0     1.0      1.0   \n",
              "EmployeeNumber             1024.865306   602.024335     1.0  491.25   1020.5   \n",
              "EnvironmentSatisfaction       2.721769     1.093082     1.0     2.0      3.0   \n",
              "Gender                             NaN          NaN     NaN     NaN      NaN   \n",
              "HourlyRate                   65.891156    20.329428    30.0    48.0     66.0   \n",
              "JobInvolvement                2.729932     0.711561     1.0     2.0      3.0   \n",
              "JobLevel                      2.063946      1.10694     1.0     1.0      2.0   \n",
              "JobRole                            NaN          NaN     NaN     NaN      NaN   \n",
              "JobSatisfaction               2.728571     1.102846     1.0     2.0      3.0   \n",
              "MaritalStatus                      NaN          NaN     NaN     NaN      NaN   \n",
              "MonthlyIncome              6502.931293  4707.956783  1009.0  2911.0   4919.0   \n",
              "MonthlyRate               14313.103401  7117.786044  2094.0  8047.0  14235.5   \n",
              "NumCompaniesWorked            2.693197     2.498009     0.0     1.0      2.0   \n",
              "Over18                             NaN          NaN     NaN     NaN      NaN   \n",
              "OverTime                           NaN          NaN     NaN     NaN      NaN   \n",
              "PercentSalaryHike            15.209524     3.659938    11.0    12.0     14.0   \n",
              "PerformanceRating             3.153741     0.360824     3.0     3.0      3.0   \n",
              "RelationshipSatisfaction      2.712245     1.081209     1.0     2.0      3.0   \n",
              "StandardHours                     80.0          0.0    80.0    80.0     80.0   \n",
              "StockOptionLevel              0.793878     0.852077     0.0     0.0      1.0   \n",
              "TotalWorkingYears            11.279592     7.780782     0.0     6.0     10.0   \n",
              "TrainingTimesLastYear          2.79932     1.289271     0.0     2.0      3.0   \n",
              "WorkLifeBalance               2.761224     0.706476     1.0     2.0      3.0   \n",
              "YearsAtCompany                7.008163     6.126525     0.0     3.0      5.0   \n",
              "YearsInCurrentRole            4.229252     3.623137     0.0     2.0      3.0   \n",
              "YearsSinceLastPromotion       2.187755      3.22243     0.0     0.0      1.0   \n",
              "YearsWithCurrManager          4.123129     3.568136     0.0     2.0      3.0   \n",
              "\n",
              "                              75%      max  \n",
              "Age                          43.0     60.0  \n",
              "Attrition                     NaN      NaN  \n",
              "BusinessTravel                NaN      NaN  \n",
              "DailyRate                  1157.0   1499.0  \n",
              "Department                    NaN      NaN  \n",
              "DistanceFromHome             14.0     29.0  \n",
              "Education                     4.0      5.0  \n",
              "EducationField                NaN      NaN  \n",
              "EmployeeCount                 1.0      1.0  \n",
              "EmployeeNumber            1555.75   2068.0  \n",
              "EnvironmentSatisfaction       4.0      4.0  \n",
              "Gender                        NaN      NaN  \n",
              "HourlyRate                  83.75    100.0  \n",
              "JobInvolvement                3.0      4.0  \n",
              "JobLevel                      3.0      5.0  \n",
              "JobRole                       NaN      NaN  \n",
              "JobSatisfaction               4.0      4.0  \n",
              "MaritalStatus                 NaN      NaN  \n",
              "MonthlyIncome              8379.0  19999.0  \n",
              "MonthlyRate               20461.5  26999.0  \n",
              "NumCompaniesWorked            4.0      9.0  \n",
              "Over18                        NaN      NaN  \n",
              "OverTime                      NaN      NaN  \n",
              "PercentSalaryHike            18.0     25.0  \n",
              "PerformanceRating             3.0      4.0  \n",
              "RelationshipSatisfaction      4.0      4.0  \n",
              "StandardHours                80.0     80.0  \n",
              "StockOptionLevel              1.0      3.0  \n",
              "TotalWorkingYears            15.0     40.0  \n",
              "TrainingTimesLastYear         3.0      6.0  \n",
              "WorkLifeBalance               3.0      4.0  \n",
              "YearsAtCompany                9.0     40.0  \n",
              "YearsInCurrentRole            7.0     18.0  \n",
              "YearsSinceLastPromotion       3.0     15.0  \n",
              "YearsWithCurrManager          7.0     17.0  "
            ]
          },
          "execution_count": 4,
          "metadata": {},
          "output_type": "execute_result"
        }
      ],
      "source": [
        "# ++++++++++++++ Inicia sección de agregar código ++++++++++++++++++++\n",
        "\n",
        "df = pd.read_csv('WA_Fn-UseC_-HR-Employee-Attrition.csv')\n",
        "\n",
        "\n",
        "\n",
        "# +++++++++++++ Termina sección de agregar código +++++++++++++++++++++\n",
        "\n",
        "\n",
        "print(\"Tamaño del DataFrame:\", df.shape)\n",
        "df.describe(include = 'all').T\n"
      ]
    },
    {
      "cell_type": "markdown",
      "id": "4KnDCDS5vh05",
      "metadata": {
        "id": "4KnDCDS5vh05"
      },
      "source": [
        "# **Ejercicio 3:**"
      ]
    },
    {
      "cell_type": "markdown",
      "id": "H3LIfPWNvhw0",
      "metadata": {
        "id": "H3LIfPWNvhw0"
      },
      "source": [
        "#### **Indica cuál es la diferencia entre utilizar o no el argumento include=”all” del método \"describe\" en el ejercicio anterior.**"
      ]
    },
    {
      "cell_type": "markdown",
      "id": "hf0DL3YcwVAC",
      "metadata": {
        "id": "hf0DL3YcwVAC"
      },
      "source": [
        "++++++++ Inicia la sección de agregar texto: ++++++++++++\n",
        "\n",
        "\n",
        "El método \"describe\" está enfocado en variables numéricas usualmente.  Utilizar el \"include=all\" como argumento permite forzar el análisis para variables categóricas tambien y puesto que dichas variables no presentan media, moda, mediana o cuartiles, su reporte se enfoca en modas y frecuencias.\n",
        "\n",
        "\n",
        "++++++++ Termina la sección de agregar texto. +++++++++++"
      ]
    },
    {
      "cell_type": "markdown",
      "id": "-kGON2vOw9_8",
      "metadata": {
        "id": "-kGON2vOw9_8"
      },
      "source": [
        "# **Ejercicio 4:**"
      ]
    },
    {
      "cell_type": "markdown",
      "id": "Rb0lc1OrxAuY",
      "metadata": {
        "id": "Rb0lc1OrxAuY"
      },
      "source": [
        "#### **Con base a la información desplegada por la instrucción anterior, hemos decidido cancelar los siguientes factores de nuestro problema: Over18, EmployeeCount, StandardHours, EmployeeNumber. Explica cuál es la justificación que nos permite cancelar cada uno de estos factores:**\n",
        "\n",
        "++++++++ Inicia la sección de agregar texto: ++++++++++++\n",
        "\n",
        "**a)   Over18**:  Dicha columna presenta un valor único, de modo que no aporta información para análisis\n",
        "\n",
        "**b)\tEmployeeCount**:  No presenta valor al análisis debido a que son únicamente valores 1\n",
        "\n",
        "**c)\tStandardHours**: Mismo caso al \"EmployeeCount\".  Son únicamente valores igual a 80, de tal forma que no añaden información para discriminar\n",
        "\n",
        "**d)\tEmployeeNumber**:  Por la naturaleza del dato parece ser un valor de identificación ascendente sin valor añadido para el aprendizaje\n",
        "\n",
        "++++++++ Termina la sección de agregar texto. +++++++++++\n",
        "\n",
        "\n"
      ]
    },
    {
      "cell_type": "code",
      "execution_count": 5,
      "id": "9b32cb04",
      "metadata": {
        "id": "9b32cb04"
      },
      "outputs": [
        {
          "name": "stdout",
          "output_type": "stream",
          "text": [
            "Tamaño del nuevo DataFrame: (1470, 31)\n"
          ]
        }
      ],
      "source": [
        "# Eliminamos los factores indicados:\n",
        "\n",
        "df = df.drop(['Over18','EmployeeCount','StandardHours','EmployeeNumber'],axis=1)\n",
        "\n",
        "print(\"Tamaño del nuevo DataFrame:\", df.shape)"
      ]
    },
    {
      "cell_type": "markdown",
      "id": "BFJsH9kx0vFa",
      "metadata": {
        "id": "BFJsH9kx0vFa"
      },
      "source": [
        "# **Ejercicio 5:**"
      ]
    },
    {
      "cell_type": "markdown",
      "id": "UWcvTjY63Uru",
      "metadata": {
        "id": "UWcvTjY63Uru"
      },
      "source": [
        "#### **Realiza una partición de los datos en Entrenamiento, Validación y Prueba, del 70%, 15% y 15%, respectivamente. Llama a dichos conjuntos Xtrain, Xval, Xtest, ytrain, yval, ytest, para los datos de entrada y de salida, respectivamente. Asegúrate que dicha partición conserve la estratificación de las clases de la variable “Attrition”. Despliega además la dimensión obtenida de los tres conjuntos: Entrenamiento, Validación y Prueba.**\n",
        "\n",
        "#### **NOTA: Utiliza semillas en cada función de partición, para permitir la repetibilidad de tu modelo y poder evaluarlo de mejor majera.**"
      ]
    },
    {
      "cell_type": "code",
      "execution_count": 15,
      "id": "4pYkwIiF1aU9",
      "metadata": {
        "id": "4pYkwIiF1aU9"
      },
      "outputs": [],
      "source": [
        "# ++++++++++++++ Inicia sección de agregar código +++++++++++++++++++++\n",
        "\n",
        "x=df.drop(['Attrition'],axis=1)\n",
        "y=df['Attrition']\n",
        "#df['Attrition']\n",
        "\n",
        "x_train,x_1,y_train,y_1=train_test_split(x,y,test_size=0.30,random_state=42)\n",
        "x_val,x_test,yval,y_test=train_test_split(x_1,y_1,test_size=0.5,random_state=6)\n",
        "# ++++++++++++++ Termina sección de agregar código +++++++++++++++++++++"
      ]
    },
    {
      "cell_type": "markdown",
      "id": "89133c57",
      "metadata": {
        "id": "89133c57"
      },
      "source": [
        "# **Ejercicio 6:**\n"
      ]
    },
    {
      "cell_type": "markdown",
      "id": "IE3vDeVW6Laq",
      "metadata": {
        "id": "IE3vDeVW6Laq"
      },
      "source": [
        "#### **Aplica la transformación LabelEncoder() de sklearn a la variable de salida “Attrition”. Las nuevas variables deberán llamarse ahora: ytrainT, yvalT, ytestT. Encuentra la proporción de datos en cada nivel de esta variable y con base a dicha información indica si podemos considerar que tenemos un problema de datos desbalanceados.**\n",
        "\n",
        "#### NOTA: Aplica esta transformación evitando el filtrado de información (data leakage)."
      ]
    },
    {
      "cell_type": "code",
      "execution_count": 45,
      "id": "D6FkTLVBd2N0",
      "metadata": {
        "id": "D6FkTLVBd2N0"
      },
      "outputs": [
        {
          "name": "stdout",
          "output_type": "stream",
          "text": [
            "Training\n",
            "0\n",
            "0    0.82896\n",
            "1    0.17104\n",
            "Name: count, dtype: float64\n",
            "Validation\n",
            "0\n",
            "0    0.845455\n",
            "1    0.154545\n",
            "Name: count, dtype: float64\n",
            "Testing\n",
            "0\n",
            "0    0.877828\n",
            "1    0.122172\n",
            "Name: count, dtype: float64\n"
          ]
        },
        {
          "name": "stderr",
          "output_type": "stream",
          "text": [
            "/home/codespace/.local/lib/python3.12/site-packages/sklearn/preprocessing/_label.py:93: DataConversionWarning: A column-vector y was passed when a 1d array was expected. Please change the shape of y to (n_samples, ), for example using ravel().\n",
            "  y = column_or_1d(y, warn=True)\n",
            "/home/codespace/.local/lib/python3.12/site-packages/sklearn/preprocessing/_label.py:129: DataConversionWarning: A column-vector y was passed when a 1d array was expected. Please change the shape of y to (n_samples, ), for example using ravel().\n",
            "  y = column_or_1d(y, dtype=self.classes_.dtype, warn=True)\n"
          ]
        }
      ],
      "source": [
        "# ++++++++++ Inicia sección para agregar tu código ++++++++++++++++++++++++\n",
        "le1=LabelEncoder()\n",
        "le2=LabelEncoder()\n",
        "le3=LabelEncoder()\n",
        "\n",
        "\n",
        "\n",
        "le1.fit(y_train)\n",
        "ytrainT=le1.transform(y_train)\n",
        "\n",
        "le2.fit(yval)\n",
        "yvalT=le2.transform(yval)\n",
        "\n",
        "le3.fit(y_test)\n",
        "ytestT=le3.transform(y_test)\n",
        "\n",
        "ytrainT=pd.DataFrame(ytrainT)\n",
        "yvalT=pd.DataFrame(yvalT)\n",
        "ytestT=pd.DataFrame(ytestT)\n",
        "# +++++++++++++++++ Termina sección para agregar tu código ++++++++++++++++++++++++\n",
        "\n",
        "#(ytrainT['Porcentaje de datos en cada clase de entrenamiento - Attrition:'].value_counts() / ytrainT.shape[0])\n",
        "\n",
        "print(\"Training\")\n",
        "print(ytrainT.value_counts() / ytrainT.shape[0])\n",
        "\n",
        "print(\"Validation\")\n",
        "print(yvalT.value_counts() / yvalT.shape[0])\n",
        "\n",
        "print(\"Testing\")\n",
        "print(ytestT.value_counts() / ytestT.shape[0])\n",
        "\n"
      ]
    },
    {
      "cell_type": "markdown",
      "id": "3iE95_bh8XF4",
      "metadata": {
        "id": "3iE95_bh8XF4"
      },
      "source": [
        "# **Ejercicio 7:**\n"
      ]
    },
    {
      "cell_type": "markdown",
      "id": "tj6jEsdS4-1-",
      "metadata": {
        "id": "tj6jEsdS4-1-"
      },
      "source": [
        "#### **Incluye a continuación el análisis gáfico y describtivo que consideres adecuado. Con base a estos gráficos ¿qué tipo de transformaciones sugieres llevar a cabo en dichas variables?**"
      ]
    },
    {
      "cell_type": "code",
      "execution_count": null,
      "id": "fa966050",
      "metadata": {
        "id": "fa966050"
      },
      "outputs": [],
      "source": [
        "# ++++++++++ Inicia sección para agregar tu código ++++++++++++++++++++++++\n",
        "# Incluye en esta sección todas las celdas que consideres conveniente.\n",
        "\n",
        "\n",
        "None\n",
        "\n",
        "\n",
        "# ++++++++++ Termina sección para agregar tu código ++++++++++++++++++++++++\n",
        "\n"
      ]
    },
    {
      "cell_type": "markdown",
      "id": "7UnNwVptCnmk",
      "metadata": {
        "id": "7UnNwVptCnmk"
      },
      "source": [
        "# **Ejercicio 8:**"
      ]
    },
    {
      "cell_type": "markdown",
      "id": "cZJ86ke_DyLC",
      "metadata": {
        "id": "cZJ86ke_DyLC"
      },
      "source": [
        "#### **Utiliza las clases Pipeline y ColumnTransformer de Sklearn para definir las transformaciones que deberán aplicarse a cada variable de acuerdo a su tipo.**\n",
        "\n"
      ]
    },
    {
      "cell_type": "code",
      "execution_count": null,
      "id": "5Kvk3CDsFqPE",
      "metadata": {
        "id": "5Kvk3CDsFqPE"
      },
      "outputs": [],
      "source": [
        "# ++++++++++ Inicia sección para agregar tu código ++++++++++++++++++++++++\n",
        "\n",
        "\n",
        "# NUMÉRICAS:\n",
        "numericas_pipeline = Pipeline( None )\n",
        "numericas_pipeline_nombres = None\n",
        "\n",
        "# ORDINALES:\n",
        "catOrd_pipeline = Pipeline( None )\n",
        "catOrd_pipeline_nombres = None\n",
        "\n",
        "# BINARIAS:\n",
        "catBin_pipeline = Pipeline( None )\n",
        "catBin_pipeline_nombres = None\n",
        "\n",
        "# NOMINALES:\n",
        "catNom_pipeline = Pipeline( None )\n",
        "catNom_pipeline_nombres = None\n",
        "\n",
        "\n",
        "\n",
        "columnasTransformer = ColumnTransformer( None )\n",
        "\n",
        "# ++++++++++ Termina sección para agregar tu código ++++++++++++++++++++++++"
      ]
    },
    {
      "cell_type": "markdown",
      "id": "2WjnvhIrEy8x",
      "metadata": {
        "id": "2WjnvhIrEy8x"
      },
      "source": [
        "# **Ejercicio 9:**"
      ]
    },
    {
      "cell_type": "markdown",
      "id": "kDhCIvI7E2aY",
      "metadata": {
        "id": "kDhCIvI7E2aY"
      },
      "source": [
        "#### **Reagrupa los conjuntos de entrenamiento y validación en un solo DataFrame.**\n",
        "\n",
        "#### **A estos nuevos DataFrame llamarlos Xtv y ytv.**"
      ]
    },
    {
      "cell_type": "code",
      "execution_count": null,
      "id": "PYHj38QVE_Hv",
      "metadata": {
        "id": "PYHj38QVE_Hv"
      },
      "outputs": [],
      "source": [
        "# ++++++++++ Inicia sección para agregar tu código ++++++++++++++++++++++++\n",
        "\n",
        "\n",
        "None\n",
        "\n",
        "\n",
        "# ++++++++++ Termina sección para agregar tu código ++++++++++++++++++++++++\n",
        "\n",
        "print(Xtv.shape)\n",
        "print(ytv.shape)"
      ]
    },
    {
      "cell_type": "markdown",
      "id": "FYSK42MxFaHk",
      "metadata": {
        "id": "FYSK42MxFaHk"
      },
      "source": [
        "# **Ejercicio 10:**"
      ]
    },
    {
      "cell_type": "markdown",
      "id": "GLNcR6ZHFbyt",
      "metadata": {
        "id": "GLNcR6ZHFbyt"
      },
      "source": [
        "#### **Busca los mejores hiperparámetros.**"
      ]
    },
    {
      "cell_type": "code",
      "execution_count": null,
      "id": "BzSCDRquFm5z",
      "metadata": {
        "id": "BzSCDRquFm5z"
      },
      "outputs": [],
      "source": [
        "# ++++++++++ Inicia sección para agregar tu código ++++++++++++++++++++++++\n",
        "\n",
        "\n",
        "def mis_modelos():\n",
        "  modelos, nombres = list(), list()\n",
        "\n",
        "  # LR - Regresión Logística sin regularización:\n",
        "  modelos.append(LogisticRegression(penalty=None,  # Este valor de \"penalty\" no se debe de cambiar, ya que define el modelo sin regularización.\n",
        "                                    None,     # Incluye aquí todos los hiperparámetros y valores que consideres adecuados.\n",
        "                                    random_state=1))\n",
        "  nombres.append('LR')\n",
        "\n",
        "\n",
        "  # Lasso - Regresión Logística con regularización L1:\n",
        "  modelos.append(LogisticRegression(penalty='l1',\n",
        "                                    None,     # Incluye aquí todos los hiperparámetros y valores que consideres adecuados.\n",
        "                                    random_state=1))\n",
        "  nombres.append('LASSO')\n",
        "\n",
        "\n",
        "  # Ridge - Regresión Logística con regularización L2:\n",
        "  modelos.append(LogisticRegression(penalty='l2',\n",
        "                                    None,     # Incluye aquí todos los hiperparámetros y valores que consideres adecuados.\n",
        "                                    random_state=1))\n",
        "  nombres.append('RIDGE')\n",
        "\n",
        "\n",
        "  # Elastic_Net - - Regresión Logística con regularización L1 y L2:\n",
        "  modelos.append(LogisticRegression(penalty='elasticnet',\n",
        "                                    None,     # Incluye aquí todos los hiperparámetros y valores que consideres adecuados.\n",
        "                                    random_state=1))\n",
        "  nombres.append('EN')\n",
        "\n",
        "\n",
        "\n",
        "  # kNN - k-Vecinos más cercanos:\n",
        "  modelos.append(KNeighborsClassifier(None)) # Incluye aquí todos los hiperparámetros y valores que consideres adecuados.\n",
        "  nombres.append('kNN')\n",
        "\n",
        "  return modelos, nombres\n",
        "\n",
        "# ++++++++++ Termina sección para agregar tu código ++++++++++++++++++++++++\n",
        "\n",
        "\n",
        "\n",
        "# Entrenamos los modelos:\n",
        "\n",
        "modelos, nombres = mis_modelos()  # accesando los modelos.\n",
        "resultados = list()    # para guardar los resultados en esta lista.\n",
        "\n",
        "# Iterando y entrenando sobre cada modelo:\n",
        "for i in range(len(modelos)):\n",
        "\n",
        "  pipeline = Pipeline(steps=[('ct',columnasTransformer),('m',modelos[i])])   # Transformaciones y modelo en un Pipeline.\n",
        "\n",
        "  cv1 = RepeatedStratifiedKFold(n_splits=5, n_repeats=3, random_state=7)     # Aplicando una de las variantes de Validación Cruzada.\n",
        "\n",
        "  scores = cross_val_score(pipeline, Xtv, np.ravel(ytv), scoring='accuracy', cv=cv1)   # entrenando y generando los resultados.\n",
        "\n",
        "  resultados.append(scores)    # guardando los resultados en la lista.\n",
        "  print('>> %s %.3f (%.3f)' % (nombres[i], np.nanmean(scores), np.nanstd(scores)))  # desplegando los promedios de cada modelo.\n",
        "\n",
        "\n",
        "plt.boxplot(resultados, labels=nombres, showmeans=True)   # gráficos de caja para una comparación visual de los resultados.\n",
        "plt.show()"
      ]
    },
    {
      "cell_type": "markdown",
      "id": "hZsec1sDGxly",
      "metadata": {
        "id": "hZsec1sDGxly"
      },
      "source": [
        "# **Ejercicio 11:**"
      ]
    },
    {
      "cell_type": "markdown",
      "id": "lCepDvlqIhlr",
      "metadata": {
        "id": "lCepDvlqIhlr"
      },
      "source": [
        "#### **Utilizando el mejor modelo y los datos Xtv, ytv, realiza una búsqueda de malla para encontrar los mejores hiperparámetros. Verifica que el modelo no esté subentrenado o sobreentrenado.**\n",
        "\n"
      ]
    },
    {
      "cell_type": "code",
      "execution_count": null,
      "id": "-J1NiHo6Duhr",
      "metadata": {
        "id": "-J1NiHo6Duhr"
      },
      "outputs": [],
      "source": [
        "# +++++++++ Inicia sección para incluir tu código ++++++++++++++++++++++++\n",
        "\n",
        "\n",
        "mejor_modelo = None\n",
        "\n",
        "\n",
        "# +++++++++ Termina sección para incluir tu código ++++++++++++++++++++++++\n",
        "\n",
        "\n",
        "\n",
        "print(\"Mejor modelo: %f usando %s\" % (grid_result.best_score_, grid_result.best_params_))\n",
        "print('Promedios Train mean(std): %.4f(%.4f)' % (np.nanmean(grid_result.cv_results_['mean_train_score']),\n",
        "                                                 np.nanmean(grid_result.cv_results_['std_train_score'])))\n",
        "print('Promedios Val mean(std): %.4f(%.4f)' % (grid_result.cv_results_['mean_test_score'].mean(),\n",
        "                                               grid_result.cv_results_['std_test_score'].mean()))\n"
      ]
    },
    {
      "cell_type": "markdown",
      "id": "O21vnmQ2NGfV",
      "metadata": {
        "id": "O21vnmQ2NGfV"
      },
      "source": [
        "# **Ejercicio 12:**"
      ]
    },
    {
      "cell_type": "markdown",
      "id": "49YltpUDNBFh",
      "metadata": {
        "id": "49YltpUDNBFh"
      },
      "source": [
        "#### **Con los mejores valores de hiperparámetros del mejor modelo encontrado, obtener:**\n",
        "\n",
        "*   #### **a) Matriz de Confusión.**\n",
        "*   #### **b) Análisis de Imprtancia de Factores.**\n",
        "*   #### **c) Reporte de métricas.**"
      ]
    },
    {
      "cell_type": "code",
      "execution_count": null,
      "id": "f4saUgimLkxX",
      "metadata": {
        "id": "f4saUgimLkxX"
      },
      "outputs": [],
      "source": [
        "# +++++++++ Inicia sección para incluir tu código ++++++++++++++++++++++++\n",
        "# Incluye todas las celdas que consideres adecuado para responder\n",
        "# estos tres incisos del ejercicio.\n",
        "\n",
        "\n",
        "None\n",
        "\n",
        "\n",
        "# +++++++++ Termina sección para incluir tu código ++++++++++++++++++++++++"
      ]
    },
    {
      "cell_type": "markdown",
      "id": "EmT2jehoOJP-",
      "metadata": {
        "id": "EmT2jehoOJP-"
      },
      "source": [
        "# **Ejercicio 13**"
      ]
    },
    {
      "cell_type": "markdown",
      "id": "4-gTbTSUOGPv",
      "metadata": {
        "id": "4-gTbTSUOGPv"
      },
      "source": [
        "#### **Obtener el desempeño final del modelo (accuracy) con el conjunto de prueba (test).**"
      ]
    },
    {
      "cell_type": "code",
      "execution_count": null,
      "id": "RSQkAnyBN_u4",
      "metadata": {
        "id": "RSQkAnyBN_u4"
      },
      "outputs": [],
      "source": [
        "# +++++++++ Inicia sección para incluir tu código ++++++++++++++++++++++++\n",
        "\n",
        "None\n",
        "\n",
        "# +++++++++ Termina sección para incluir tu código ++++++++++++++++++++++++"
      ]
    },
    {
      "cell_type": "markdown",
      "id": "QnsFJvAHORHW",
      "metadata": {
        "id": "QnsFJvAHORHW"
      },
      "source": [
        "# **Ejercicio 14**"
      ]
    },
    {
      "cell_type": "markdown",
      "id": "aUFofqzHOVAl",
      "metadata": {
        "id": "aUFofqzHOVAl"
      },
      "source": [
        "#### **Incluye tus conclusiones finales de la actividad.**"
      ]
    },
    {
      "cell_type": "markdown",
      "id": "Quiag20AOYH0",
      "metadata": {
        "id": "Quiag20AOYH0"
      },
      "source": [
        "#### +++++++++ Inicia sección para incluir tus conclusiones ++++++++++++++++++++++++\n",
        "\n",
        "None\n",
        "\n",
        "#### +++++++++ Termina sección para incluir tus conclusiones ++++++++++++++++++++++++"
      ]
    },
    {
      "cell_type": "markdown",
      "id": "5fd5aadb",
      "metadata": {
        "id": "5fd5aadb"
      },
      "source": [
        "# >> **Fin de la Actividad de la Semana 3** <<"
      ]
    }
  ],
  "metadata": {
    "colab": {
      "collapsed_sections": [
        "ac09ecaf",
        "_FN5RwbGpz0c",
        "4KnDCDS5vh05",
        "-kGON2vOw9_8",
        "BFJsH9kx0vFa",
        "89133c57",
        "3iE95_bh8XF4",
        "7UnNwVptCnmk",
        "2WjnvhIrEy8x",
        "FYSK42MxFaHk",
        "hZsec1sDGxly",
        "O21vnmQ2NGfV",
        "EmT2jehoOJP-",
        "QnsFJvAHORHW"
      ],
      "provenance": []
    },
    "kernelspec": {
      "display_name": "Python 3",
      "language": "python",
      "name": "python3"
    },
    "language_info": {
      "codemirror_mode": {
        "name": "ipython",
        "version": 3
      },
      "file_extension": ".py",
      "mimetype": "text/x-python",
      "name": "python",
      "nbconvert_exporter": "python",
      "pygments_lexer": "ipython3",
      "version": "3.12.1"
    }
  },
  "nbformat": 4,
  "nbformat_minor": 5
}
