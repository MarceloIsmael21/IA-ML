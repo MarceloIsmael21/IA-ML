{
  "cells": [
    {
      "cell_type": "markdown",
      "id": "hWEMLj5wrcMV",
      "metadata": {
        "id": "hWEMLj5wrcMV"
      },
      "source": [
        "# **Maestría en Inteligencia Artificial Aplicada**\n",
        "\n",
        "## **Curso: Inteligencia Artificial y Aprendizaje Automático**\n",
        "\n",
        "**Tecnológico de Monterrey**\n",
        "\n",
        "Prof Luis Eduardo Falcón Morales\n",
        "\n",
        "Actividad de Semana 3 - Septiembre 2024\n",
        "\n",
        "**Rotación de Personal - IBM**"
      ]
    },
    {
      "cell_type": "markdown",
      "id": "6PudVOn2rv9-",
      "metadata": {
        "id": "6PudVOn2rv9-"
      },
      "source": [
        "#### **Nombre y matrícula:**"
      ]
    },
    {
      "cell_type": "markdown",
      "id": "zHrHylCFqr7R",
      "metadata": {
        "id": "zHrHylCFqr7R"
      },
      "source": [
        "#### **La siguiente actividad se basa en los datos del archivo \"WA_Fn-UseC_-HR-Employee-Attrition.csv\" que se encuentra en la siguiente liga de Kaggle, llamada \"IBM HR Analytics Employee Attrition & Performance\":**\n",
        "\n",
        "https://www.kaggle.com/datasets/pavansubhasht/ibm-hr-analytics-attrition-dataset\n"
      ]
    },
    {
      "cell_type": "code",
      "execution_count": null,
      "id": "72533da4",
      "metadata": {
        "id": "72533da4"
      },
      "outputs": [
        {
          "name": "stderr",
          "output_type": "stream",
          "text": [
            "/usr/local/python/3.12.1/lib/python3.12/site-packages/tqdm/auto.py:21: TqdmWarning: IProgress not found. Please update jupyter and ipywidgets. See https://ipywidgets.readthedocs.io/en/stable/user_install.html\n",
            "  from .autonotebook import tqdm as notebook_tqdm\n"
          ]
        },
        {
          "name": "stdout",
          "output_type": "stream",
          "text": [
            "Downloading from https://www.kaggle.com/api/v1/datasets/download/pavansubhasht/ibm-hr-analytics-attrition-dataset?dataset_version_number=1...\n"
          ]
        },
        {
          "name": "stderr",
          "output_type": "stream",
          "text": [
            "100%|██████████| 50.1k/50.1k [00:00<00:00, 39.8MB/s]"
          ]
        },
        {
          "name": "stdout",
          "output_type": "stream",
          "text": [
            "Extracting files...\n",
            "Path to dataset files: /home/codespace/.cache/kagglehub/datasets/pavansubhasht/ibm-hr-analytics-attrition-dataset/versions/1\n"
          ]
        },
        {
          "name": "stderr",
          "output_type": "stream",
          "text": [
            "\n"
          ]
        }
      ],
      "source": [
        "# Incluye aquí todas las librerías que consideres necesarias:\n"
      ]
    },
    {
      "cell_type": "markdown",
      "id": "ac09ecaf",
      "metadata": {
        "id": "ac09ecaf"
      },
      "source": [
        "# **Ejercicio 1:**"
      ]
    },
    {
      "cell_type": "markdown",
      "id": "T_-hoJgWpWbt",
      "metadata": {
        "id": "T_-hoJgWpWbt"
      },
      "source": [
        "#### **Incluye una breve introducción sobre lo que se entiende por el problema de rotación de personal en las organizaciones (employee attrition problem).**"
      ]
    },
    {
      "cell_type": "markdown",
      "id": "LfSb-scypfrX",
      "metadata": {
        "id": "LfSb-scypfrX"
      },
      "source": [
        "++++++++ Inicia la sección de agregar texto: ++++++++++++\n",
        "\n",
        "\n",
        "None\n",
        "\n",
        "\n",
        "++++++++ Termina la sección de agregar texto. +++++++++++"
      ]
    },
    {
      "cell_type": "markdown",
      "id": "_FN5RwbGpz0c",
      "metadata": {
        "id": "_FN5RwbGpz0c"
      },
      "source": [
        "# **Ejercicio 2:**"
      ]
    },
    {
      "cell_type": "markdown",
      "id": "Yybnk8vKqEfS",
      "metadata": {
        "id": "Yybnk8vKqEfS"
      },
      "source": [
        "#### **Carga los datos del archivo de la página de Kaggle indicada como un DataFrame de Pandas, llamado \"df\" y utilicemos el método “describe” con el argumento include= “all”, para obtener una primera descripción general de cada variable.**"
      ]
    },
    {
      "cell_type": "code",
      "execution_count": null,
      "id": "0b4db5cd",
      "metadata": {
        "id": "0b4db5cd"
      },
      "outputs": [],
      "source": [
        "# ++++++++++++++ Inicia sección de agregar código ++++++++++++++++++++\n",
        "\n",
        "df = None\n",
        "\n",
        "\n",
        "\n",
        "# +++++++++++++ Termina sección de agregar código +++++++++++++++++++++\n",
        "\n",
        "\n",
        "print(\"Tamaño del DataFrame:\", df.shape)\n",
        "df.describe(include = 'all').T\n"
      ]
    },
    {
      "cell_type": "markdown",
      "id": "4KnDCDS5vh05",
      "metadata": {
        "id": "4KnDCDS5vh05"
      },
      "source": [
        "# **Ejercicio 3:**"
      ]
    },
    {
      "cell_type": "markdown",
      "id": "H3LIfPWNvhw0",
      "metadata": {
        "id": "H3LIfPWNvhw0"
      },
      "source": [
        "#### **Indica cuál es la diferencia entre utilizar o no el argumento include=”all” del método \"describe\" en el ejercicio anterior.**"
      ]
    },
    {
      "cell_type": "markdown",
      "id": "hf0DL3YcwVAC",
      "metadata": {
        "id": "hf0DL3YcwVAC"
      },
      "source": [
        "++++++++ Inicia la sección de agregar texto: ++++++++++++\n",
        "\n",
        "\n",
        "None\n",
        "\n",
        "\n",
        "++++++++ Termina la sección de agregar texto. +++++++++++"
      ]
    },
    {
      "cell_type": "markdown",
      "id": "-kGON2vOw9_8",
      "metadata": {
        "id": "-kGON2vOw9_8"
      },
      "source": [
        "# **Ejercicio 4:**"
      ]
    },
    {
      "cell_type": "markdown",
      "id": "Rb0lc1OrxAuY",
      "metadata": {
        "id": "Rb0lc1OrxAuY"
      },
      "source": [
        "#### **Con base a la información desplegada por la instrucción anterior, hemos decidido cancelar los siguientes factores de nuestro problema: Over18, EmployeeCount, StandardHours, EmployeeNumber. Explica cuál es la justificación que nos permite cancelar cada uno de estos factores:**\n",
        "\n",
        "++++++++ Inicia la sección de agregar texto: ++++++++++++\n",
        "\n",
        "**a)   Over18**:\n",
        "\n",
        "**b)\tEmployeeCount**:\n",
        "\n",
        "**c)\tStandardHours**:\n",
        "\n",
        "**d)\tEmployeeNumber**:\n",
        "\n",
        "++++++++ Termina la sección de agregar texto. +++++++++++\n",
        "\n",
        "\n"
      ]
    },
    {
      "cell_type": "code",
      "execution_count": null,
      "id": "9b32cb04",
      "metadata": {
        "id": "9b32cb04"
      },
      "outputs": [],
      "source": [
        "# Eliminamos los factores indicados:\n",
        "\n",
        "df = df.drop(['Over18','EmployeeCount','StandardHours','EmployeeNumber'],axis=1)\n",
        "\n",
        "print(\"Tamaño del nuevo DataFrame:\", df.shape)"
      ]
    },
    {
      "cell_type": "markdown",
      "id": "BFJsH9kx0vFa",
      "metadata": {
        "id": "BFJsH9kx0vFa"
      },
      "source": [
        "# **Ejercicio 5:**"
      ]
    },
    {
      "cell_type": "markdown",
      "id": "UWcvTjY63Uru",
      "metadata": {
        "id": "UWcvTjY63Uru"
      },
      "source": [
        "#### **Realiza una partición de los datos en Entrenamiento, Validación y Prueba, del 70%, 15% y 15%, respectivamente. Llama a dichos conjuntos Xtrain, Xval, Xtest, ytrain, yval, ytest, para los datos de entrada y de salida, respectivamente. Asegúrate que dicha partición conserve la estratificación de las clases de la variable “Attrition”. Despliega además la dimensión obtenida de los tres conjuntos: Entrenamiento, Validación y Prueba.**\n",
        "\n",
        "#### **NOTA: Utiliza semillas en cada función de partición, para permitir la repetibilidad de tu modelo y poder evaluarlo de mejor majera.**"
      ]
    },
    {
      "cell_type": "code",
      "execution_count": null,
      "id": "4pYkwIiF1aU9",
      "metadata": {
        "id": "4pYkwIiF1aU9"
      },
      "outputs": [],
      "source": [
        "# ++++++++++++++ Inicia sección de agregar código +++++++++++++++++++++\n",
        "\n",
        "\n",
        "None\n",
        "\n",
        "\n",
        "# ++++++++++++++ Termina sección de agregar código +++++++++++++++++++++"
      ]
    },
    {
      "cell_type": "markdown",
      "id": "89133c57",
      "metadata": {
        "id": "89133c57"
      },
      "source": [
        "# **Ejercicio 6:**\n"
      ]
    },
    {
      "cell_type": "markdown",
      "id": "IE3vDeVW6Laq",
      "metadata": {
        "id": "IE3vDeVW6Laq"
      },
      "source": [
        "#### **Aplica la transformación LabelEncoder() de sklearn a la variable de salida “Attrition”. Las nuevas variables deberán llamarse ahora: ytrainT, yvalT, ytestT. Encuentra la proporción de datos en cada nivel de esta variable y con base a dicha información indica si podemos considerar que tenemos un problema de datos desbalanceados.**\n",
        "\n",
        "#### NOTA: Aplica esta transformación evitando el filtrado de información (data leakage)."
      ]
    },
    {
      "cell_type": "code",
      "execution_count": null,
      "id": "D6FkTLVBd2N0",
      "metadata": {
        "id": "D6FkTLVBd2N0"
      },
      "outputs": [],
      "source": [
        "# ++++++++++ Inicia sección para agregar tu código ++++++++++++++++++++++++\n",
        "\n",
        "\n",
        "None\n",
        "\n",
        "\n",
        "# +++++++++++++++++ Termina sección para agregar tu código ++++++++++++++++++++++++\n",
        "\n",
        "print(ytrainT['Porcentaje de datos en cada clase de entrenamiento - Attrition:'].value_counts() / ytrainT.shape[0])"
      ]
    },
    {
      "cell_type": "markdown",
      "id": "3iE95_bh8XF4",
      "metadata": {
        "id": "3iE95_bh8XF4"
      },
      "source": [
        "# **Ejercicio 7:**\n"
      ]
    },
    {
      "cell_type": "markdown",
      "id": "tj6jEsdS4-1-",
      "metadata": {
        "id": "tj6jEsdS4-1-"
      },
      "source": [
        "#### **Incluye a continuación el análisis gáfico y describtivo que consideres adecuado. Con base a estos gráficos ¿qué tipo de transformaciones sugieres llevar a cabo en dichas variables?**"
      ]
    },
    {
      "cell_type": "code",
      "execution_count": null,
      "id": "fa966050",
      "metadata": {
        "id": "fa966050"
      },
      "outputs": [],
      "source": [
        "# ++++++++++ Inicia sección para agregar tu código ++++++++++++++++++++++++\n",
        "# Incluye en esta sección todas las celdas que consideres conveniente.\n",
        "\n",
        "\n",
        "None\n",
        "\n",
        "\n",
        "# ++++++++++ Termina sección para agregar tu código ++++++++++++++++++++++++\n",
        "\n"
      ]
    },
    {
      "cell_type": "markdown",
      "id": "7UnNwVptCnmk",
      "metadata": {
        "id": "7UnNwVptCnmk"
      },
      "source": [
        "# **Ejercicio 8:**"
      ]
    },
    {
      "cell_type": "markdown",
      "id": "cZJ86ke_DyLC",
      "metadata": {
        "id": "cZJ86ke_DyLC"
      },
      "source": [
        "#### **Utiliza las clases Pipeline y ColumnTransformer de Sklearn para definir las transformaciones que deberán aplicarse a cada variable de acuerdo a su tipo.**\n",
        "\n"
      ]
    },
    {
      "cell_type": "code",
      "execution_count": null,
      "id": "5Kvk3CDsFqPE",
      "metadata": {
        "id": "5Kvk3CDsFqPE"
      },
      "outputs": [],
      "source": [
        "# ++++++++++ Inicia sección para agregar tu código ++++++++++++++++++++++++\n",
        "\n",
        "\n",
        "# NUMÉRICAS:\n",
        "numericas_pipeline = Pipeline( None )\n",
        "numericas_pipeline_nombres = None\n",
        "\n",
        "# ORDINALES:\n",
        "catOrd_pipeline = Pipeline( None )\n",
        "catOrd_pipeline_nombres = None\n",
        "\n",
        "# BINARIAS:\n",
        "catBin_pipeline = Pipeline( None )\n",
        "catBin_pipeline_nombres = None\n",
        "\n",
        "# NOMINALES:\n",
        "catNom_pipeline = Pipeline( None )\n",
        "catNom_pipeline_nombres = None\n",
        "\n",
        "\n",
        "\n",
        "columnasTransformer = ColumnTransformer( None )\n",
        "\n",
        "# ++++++++++ Termina sección para agregar tu código ++++++++++++++++++++++++"
      ]
    },
    {
      "cell_type": "markdown",
      "id": "2WjnvhIrEy8x",
      "metadata": {
        "id": "2WjnvhIrEy8x"
      },
      "source": [
        "# **Ejercicio 9:**"
      ]
    },
    {
      "cell_type": "markdown",
      "id": "kDhCIvI7E2aY",
      "metadata": {
        "id": "kDhCIvI7E2aY"
      },
      "source": [
        "#### **Reagrupa los conjuntos de entrenamiento y validación en un solo DataFrame.**\n",
        "\n",
        "#### **A estos nuevos DataFrame llamarlos Xtv y ytv.**"
      ]
    },
    {
      "cell_type": "code",
      "execution_count": null,
      "id": "PYHj38QVE_Hv",
      "metadata": {
        "id": "PYHj38QVE_Hv"
      },
      "outputs": [],
      "source": [
        "# ++++++++++ Inicia sección para agregar tu código ++++++++++++++++++++++++\n",
        "\n",
        "\n",
        "None\n",
        "\n",
        "\n",
        "# ++++++++++ Termina sección para agregar tu código ++++++++++++++++++++++++\n",
        "\n",
        "print(Xtv.shape)\n",
        "print(ytv.shape)"
      ]
    },
    {
      "cell_type": "markdown",
      "id": "FYSK42MxFaHk",
      "metadata": {
        "id": "FYSK42MxFaHk"
      },
      "source": [
        "# **Ejercicio 10:**"
      ]
    },
    {
      "cell_type": "markdown",
      "id": "GLNcR6ZHFbyt",
      "metadata": {
        "id": "GLNcR6ZHFbyt"
      },
      "source": [
        "#### **Busca los mejores hiperparámetros.**"
      ]
    },
    {
      "cell_type": "code",
      "execution_count": null,
      "id": "BzSCDRquFm5z",
      "metadata": {
        "id": "BzSCDRquFm5z"
      },
      "outputs": [],
      "source": [
        "# ++++++++++ Inicia sección para agregar tu código ++++++++++++++++++++++++\n",
        "\n",
        "\n",
        "def mis_modelos():\n",
        "  modelos, nombres = list(), list()\n",
        "\n",
        "  # LR - Regresión Logística sin regularización:\n",
        "  modelos.append(LogisticRegression(penalty=None,  # Este valor de \"penalty\" no se debe de cambiar, ya que define el modelo sin regularización.\n",
        "                                    None,     # Incluye aquí todos los hiperparámetros y valores que consideres adecuados.\n",
        "                                    random_state=1))\n",
        "  nombres.append('LR')\n",
        "\n",
        "\n",
        "  # Lasso - Regresión Logística con regularización L1:\n",
        "  modelos.append(LogisticRegression(penalty='l1',\n",
        "                                    None,     # Incluye aquí todos los hiperparámetros y valores que consideres adecuados.\n",
        "                                    random_state=1))\n",
        "  nombres.append('LASSO')\n",
        "\n",
        "\n",
        "  # Ridge - Regresión Logística con regularización L2:\n",
        "  modelos.append(LogisticRegression(penalty='l2',\n",
        "                                    None,     # Incluye aquí todos los hiperparámetros y valores que consideres adecuados.\n",
        "                                    random_state=1))\n",
        "  nombres.append('RIDGE')\n",
        "\n",
        "\n",
        "  # Elastic_Net - - Regresión Logística con regularización L1 y L2:\n",
        "  modelos.append(LogisticRegression(penalty='elasticnet',\n",
        "                                    None,     # Incluye aquí todos los hiperparámetros y valores que consideres adecuados.\n",
        "                                    random_state=1))\n",
        "  nombres.append('EN')\n",
        "\n",
        "\n",
        "\n",
        "  # kNN - k-Vecinos más cercanos:\n",
        "  modelos.append(KNeighborsClassifier(None)) # Incluye aquí todos los hiperparámetros y valores que consideres adecuados.\n",
        "  nombres.append('kNN')\n",
        "\n",
        "  return modelos, nombres\n",
        "\n",
        "# ++++++++++ Termina sección para agregar tu código ++++++++++++++++++++++++\n",
        "\n",
        "\n",
        "\n",
        "# Entrenamos los modelos:\n",
        "\n",
        "modelos, nombres = mis_modelos()  # accesando los modelos.\n",
        "resultados = list()    # para guardar los resultados en esta lista.\n",
        "\n",
        "# Iterando y entrenando sobre cada modelo:\n",
        "for i in range(len(modelos)):\n",
        "\n",
        "  pipeline = Pipeline(steps=[('ct',columnasTransformer),('m',modelos[i])])   # Transformaciones y modelo en un Pipeline.\n",
        "\n",
        "  cv1 = RepeatedStratifiedKFold(n_splits=5, n_repeats=3, random_state=7)     # Aplicando una de las variantes de Validación Cruzada.\n",
        "\n",
        "  scores = cross_val_score(pipeline, Xtv, np.ravel(ytv), scoring='accuracy', cv=cv1)   # entrenando y generando los resultados.\n",
        "\n",
        "  resultados.append(scores)    # guardando los resultados en la lista.\n",
        "  print('>> %s %.3f (%.3f)' % (nombres[i], np.nanmean(scores), np.nanstd(scores)))  # desplegando los promedios de cada modelo.\n",
        "\n",
        "\n",
        "plt.boxplot(resultados, labels=nombres, showmeans=True)   # gráficos de caja para una comparación visual de los resultados.\n",
        "plt.show()"
      ]
    },
    {
      "cell_type": "markdown",
      "id": "hZsec1sDGxly",
      "metadata": {
        "id": "hZsec1sDGxly"
      },
      "source": [
        "# **Ejercicio 11:**"
      ]
    },
    {
      "cell_type": "markdown",
      "id": "lCepDvlqIhlr",
      "metadata": {
        "id": "lCepDvlqIhlr"
      },
      "source": [
        "#### **Utilizando el mejor modelo y los datos Xtv, ytv, realiza una búsqueda de malla para encontrar los mejores hiperparámetros. Verifica que el modelo no esté subentrenado o sobreentrenado.**\n",
        "\n"
      ]
    },
    {
      "cell_type": "code",
      "execution_count": null,
      "id": "-J1NiHo6Duhr",
      "metadata": {
        "id": "-J1NiHo6Duhr"
      },
      "outputs": [],
      "source": [
        "# +++++++++ Inicia sección para incluir tu código ++++++++++++++++++++++++\n",
        "\n",
        "\n",
        "mejor_modelo = None\n",
        "\n",
        "\n",
        "# +++++++++ Termina sección para incluir tu código ++++++++++++++++++++++++\n",
        "\n",
        "\n",
        "\n",
        "print(\"Mejor modelo: %f usando %s\" % (grid_result.best_score_, grid_result.best_params_))\n",
        "print('Promedios Train mean(std): %.4f(%.4f)' % (np.nanmean(grid_result.cv_results_['mean_train_score']),\n",
        "                                                 np.nanmean(grid_result.cv_results_['std_train_score'])))\n",
        "print('Promedios Val mean(std): %.4f(%.4f)' % (grid_result.cv_results_['mean_test_score'].mean(),\n",
        "                                               grid_result.cv_results_['std_test_score'].mean()))\n"
      ]
    },
    {
      "cell_type": "markdown",
      "id": "O21vnmQ2NGfV",
      "metadata": {
        "id": "O21vnmQ2NGfV"
      },
      "source": [
        "# **Ejercicio 12:**"
      ]
    },
    {
      "cell_type": "markdown",
      "id": "49YltpUDNBFh",
      "metadata": {
        "id": "49YltpUDNBFh"
      },
      "source": [
        "#### **Con los mejores valores de hiperparámetros del mejor modelo encontrado, obtener:**\n",
        "\n",
        "*   #### **a) Matriz de Confusión.**\n",
        "*   #### **b) Análisis de Imprtancia de Factores.**\n",
        "*   #### **c) Reporte de métricas.**"
      ]
    },
    {
      "cell_type": "code",
      "execution_count": null,
      "id": "f4saUgimLkxX",
      "metadata": {
        "id": "f4saUgimLkxX"
      },
      "outputs": [],
      "source": [
        "# +++++++++ Inicia sección para incluir tu código ++++++++++++++++++++++++\n",
        "# Incluye todas las celdas que consideres adecuado para responder\n",
        "# estos tres incisos del ejercicio.\n",
        "\n",
        "\n",
        "None\n",
        "\n",
        "\n",
        "# +++++++++ Termina sección para incluir tu código ++++++++++++++++++++++++"
      ]
    },
    {
      "cell_type": "markdown",
      "id": "EmT2jehoOJP-",
      "metadata": {
        "id": "EmT2jehoOJP-"
      },
      "source": [
        "# **Ejercicio 13**"
      ]
    },
    {
      "cell_type": "markdown",
      "id": "4-gTbTSUOGPv",
      "metadata": {
        "id": "4-gTbTSUOGPv"
      },
      "source": [
        "#### **Obtener el desempeño final del modelo (accuracy) con el conjunto de prueba (test).**"
      ]
    },
    {
      "cell_type": "code",
      "execution_count": null,
      "id": "RSQkAnyBN_u4",
      "metadata": {
        "id": "RSQkAnyBN_u4"
      },
      "outputs": [],
      "source": [
        "# +++++++++ Inicia sección para incluir tu código ++++++++++++++++++++++++\n",
        "\n",
        "None\n",
        "\n",
        "# +++++++++ Termina sección para incluir tu código ++++++++++++++++++++++++"
      ]
    },
    {
      "cell_type": "markdown",
      "id": "QnsFJvAHORHW",
      "metadata": {
        "id": "QnsFJvAHORHW"
      },
      "source": [
        "# **Ejercicio 14**"
      ]
    },
    {
      "cell_type": "markdown",
      "id": "aUFofqzHOVAl",
      "metadata": {
        "id": "aUFofqzHOVAl"
      },
      "source": [
        "#### **Incluye tus conclusiones finales de la actividad.**"
      ]
    },
    {
      "cell_type": "markdown",
      "id": "Quiag20AOYH0",
      "metadata": {
        "id": "Quiag20AOYH0"
      },
      "source": [
        "#### +++++++++ Inicia sección para incluir tus conclusiones ++++++++++++++++++++++++\n",
        "\n",
        "None\n",
        "\n",
        "#### +++++++++ Termina sección para incluir tus conclusiones ++++++++++++++++++++++++"
      ]
    },
    {
      "cell_type": "markdown",
      "id": "5fd5aadb",
      "metadata": {
        "id": "5fd5aadb"
      },
      "source": [
        "# >> **Fin de la Actividad de la Semana 3** <<"
      ]
    }
  ],
  "metadata": {
    "colab": {
      "collapsed_sections": [
        "ac09ecaf",
        "_FN5RwbGpz0c",
        "4KnDCDS5vh05",
        "-kGON2vOw9_8",
        "BFJsH9kx0vFa",
        "89133c57",
        "3iE95_bh8XF4",
        "7UnNwVptCnmk",
        "2WjnvhIrEy8x",
        "FYSK42MxFaHk",
        "hZsec1sDGxly",
        "O21vnmQ2NGfV",
        "EmT2jehoOJP-",
        "QnsFJvAHORHW"
      ],
      "provenance": []
    },
    "kernelspec": {
      "display_name": "Python 3",
      "language": "python",
      "name": "python3"
    },
    "language_info": {
      "codemirror_mode": {
        "name": "ipython",
        "version": 3
      },
      "file_extension": ".py",
      "mimetype": "text/x-python",
      "name": "python",
      "nbconvert_exporter": "python",
      "pygments_lexer": "ipython3",
      "version": "3.12.1"
    }
  },
  "nbformat": 4,
  "nbformat_minor": 5
}
