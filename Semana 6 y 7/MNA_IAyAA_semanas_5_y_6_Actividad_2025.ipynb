{
  "cells": [
    {
      "cell_type": "markdown",
      "metadata": {
        "id": "dBbWMn9ebmi8"
      },
      "source": [
        "# **Maestría en Inteligencia Artificial Aplicada**\n",
        "\n",
        "## **Curso: Inteligencia Artificial y Aprendizaje Automático**\n",
        "\n",
        "### Tecnológico de Monterrey\n",
        "\n",
        "### Prof Luis Eduardo Falcón Morales\n",
        "\n",
        "## **Actividad de las Semanas 5 y 6**\n",
        "### **Problema de asignación de créditos: South German Dataset.**\n"
      ]
    },
    {
      "cell_type": "markdown",
      "metadata": {
        "id": "YiwEw8XsZG2W"
      },
      "source": [
        "## **Nombres y matrículas:**\n",
        "\n",
        "\n",
        "\n",
        "*   Nombre y matrícula\n",
        "\n",
        "*   Nombre y matrícula\n",
        "\n",
        "*   Nombre y matrícula\n",
        "\n"
      ]
    },
    {
      "cell_type": "markdown",
      "metadata": {
        "id": "a08Di3GjkL1Y"
      },
      "source": [
        "## **Ejercicio 1**"
      ]
    },
    {
      "cell_type": "code",
      "execution_count": null,
      "metadata": {
        "id": "6VGEpE4SblfD"
      },
      "outputs": [],
      "source": [
        "# Aquí deberás incluir todas las librerías que requieras durante esta actividad:\n",
        "\n",
        "None\n"
      ]
    },
    {
      "cell_type": "code",
      "source": [
        "# Verificando versiones de algunas de las principales librerías.\n",
        "# Si algunas no se utilizan, puedes comentarlas.\n",
        "tmp = !python -V\n",
        "print(tmp[0])\n",
        "print('Numpy', np.__version__)\n",
        "print('Pandas', pd.__version__)\n",
        "print('Matplotlib', matplotlib.__version__)\n",
        "print('Seaborn', sns.__version__)\n",
        "print('Scikit-Learn', sklearn.__version__)\n",
        "print('XGBoost', xgboost.__version__)\n",
        "\n",
        "# puedes incluir algunas otras ...\n"
      ],
      "metadata": {
        "id": "gOp4tFv4Q2PX"
      },
      "execution_count": null,
      "outputs": []
    },
    {
      "cell_type": "code",
      "execution_count": null,
      "metadata": {
        "id": "K3gUzoM3iRkt"
      },
      "outputs": [],
      "source": [
        "# Si deseas desplegar los Warnings:\n",
        "#import warnings\n",
        "#warnings.filterwarnings('ignore')"
      ]
    },
    {
      "cell_type": "code",
      "execution_count": null,
      "metadata": {
        "id": "ppyf8TTgb9zq"
      },
      "outputs": [],
      "source": [
        "# Carga los datos del archivo SouthGermanCredit.asc:\n",
        "\n",
        "# ************* Inlcuye aquí tu código:*****************************\n",
        "\n",
        "\n",
        "None   # NOTA: Tanto aquí como en lo sucesivo, \"None\" puede indicar una o varias líneas de código.\n",
        "\n",
        "\n",
        "# *********** Aquí termina la sección de agregar código *************\n",
        "\n",
        "\n",
        "print('Dimensión del DataFrame (registros,variables):', df.shape)\n",
        "df.head(3).T"
      ]
    },
    {
      "cell_type": "code",
      "source": [
        "# Renombra las columnas del alemán al inglés y desplegamos de\n",
        "# nuevo el DataFrame para ver el resultado obtenido:\n",
        "\n",
        "# ************* Inlcuye aquí tu código:*****************************\n",
        "\n",
        "\n",
        "None   # NOTA: Tanto aquí como en lo sucesivo, \"None\" puede indicar una o varias líneas de código.\n",
        "\n",
        "\n",
        "# *********** Aquí termina la sección de agregar código *************\n",
        "\n",
        "\n",
        "df.head(3).T"
      ],
      "metadata": {
        "id": "gf9NRIQXIeRX"
      },
      "execution_count": null,
      "outputs": []
    },
    {
      "cell_type": "markdown",
      "metadata": {
        "id": "LckYCS8SlnFo"
      },
      "source": [
        "## **Ejercicio 2**"
      ]
    },
    {
      "cell_type": "code",
      "source": [
        "# De la documentación de los datos SouthGermandata se sabe que la clase mayoritaria\n",
        "# de los buenos clientes se etiquetó con el valor de 1 en la variable de salida\n",
        "# llamada \"credit_risk\".\n",
        "# Veamos:\n",
        "\n",
        "print(df['credit_risk'].value_counts())"
      ],
      "metadata": {
        "id": "pyhuKIHhW57Z"
      },
      "execution_count": null,
      "outputs": []
    },
    {
      "cell_type": "code",
      "execution_count": null,
      "metadata": {
        "id": "Tlg8jYbnlqNA"
      },
      "outputs": [],
      "source": [
        "# Por lo tanto, realiza a continuación una transformación para que la clase mayoritaria\n",
        "# sea la clase negativa (es decir, de valor 0) y que la clase minoritaria sea la\n",
        "# clase positiva (es decir, de valor 1).\n",
        "\n",
        "# ************* Inlcuye aquí tu código:*****************************\n",
        "\n",
        "\n",
        "None\n",
        "\n",
        "\n",
        "# *********** Aquí termina la sección de agregar código *************\n",
        "\n",
        "\n",
        "print(df['credit_risk'].value_counts())"
      ]
    },
    {
      "cell_type": "markdown",
      "metadata": {
        "id": "qQx2lbzTkEsQ"
      },
      "source": [
        "## **Ejercicio 3**"
      ]
    },
    {
      "cell_type": "code",
      "execution_count": null,
      "metadata": {
        "id": "TP5-zdWVczhy"
      },
      "outputs": [],
      "source": [
        "# Ejercicio 3a.\n",
        "# Realiza una partición con el porcentaje solicitado para entrenamiento y prueba.\n",
        "# Los nombres de los conjuntos deberán ser como se indican en los print de abajo:\n",
        "\n",
        "# ************* Inlcuye aquí tu código:*****************************\n",
        "\n",
        "\n",
        "None\n",
        "\n",
        "\n",
        "# *********** Aquí termina la sección de agregar código *************\n",
        "\n",
        "\n",
        "# Mostremos las dimensiones de la partición generada:\n",
        "print(\"Dimensiones:\")\n",
        "print(\"Entrenamiento:\", Xtrain.shape, ytrain.shape)\n",
        "print(\"Prueba:\", Xtest.shape, ytest.shape)\n",
        "\n",
        "# Y el porcentaje de cada clase de la variable de salida:\n",
        "tmp = (ytrain.sum()/ytrain.shape[0]).iloc[0]\n",
        "print(\"\\nPorcentaje clases Positiva:%.2f%%, y Negativa:%.2f%%\" % (100*(1-tmp),tmp*100))\n"
      ]
    },
    {
      "cell_type": "markdown",
      "source": [
        "### **Ejercicio 3b**\n",
        "### **Con base al porcentaje de los niveles de la variable de salida ¿podemos decir que tenemos un problema de datos desbalanceado? ¿Por qué?**\n",
        "\n",
        "\n",
        "\n",
        "### ++++++++ Inicia la sección de agregar texto: +++++++++++\n",
        "\n",
        "None\n",
        "\n",
        "### ++++++++ Termina la sección de agregar texto: +++++++++++\n",
        "\n"
      ],
      "metadata": {
        "id": "ptwAm_mOjVWH"
      }
    },
    {
      "cell_type": "markdown",
      "source": [
        "### **Ejercicio 3c**\n",
        "### **¿Por qué se hizo el cambio de etiquetas 0 y 1 en la variable de salida?**\n",
        "\n",
        "\n",
        "\n",
        "### ++++++++ Inicia la sección de agregar texto: +++++++++++\n",
        "\n",
        "None\n",
        "\n",
        "### ++++++++ Termina la sección de agregar texto: +++++++++++\n"
      ],
      "metadata": {
        "id": "xEaTBgoTaXg-"
      }
    },
    {
      "cell_type": "markdown",
      "metadata": {
        "id": "ocmGcSC2j_2x"
      },
      "source": [
        "## **Ejercicio 4**"
      ]
    },
    {
      "cell_type": "code",
      "source": [
        "# De acuerdo a la información de la Tabla 3 del artículo de la IEEE asociado a\n",
        "# esta Actividad, define a continuación las variables de entrada correspondientes\n",
        "# de acuerdo a su tipo y como se indica a continuación:\n",
        "\n",
        "# ************* Inlcuye aquí tu código:*****************************\n",
        "\n",
        "# Variables numéricas:\n",
        "lista_paper_num = None\n",
        "\n",
        "\n",
        "# Variables ordinales:\n",
        "lista_paper_ord = None\n",
        "\n",
        "\n",
        "# Variables nominales & binarias:\n",
        "lista_paper_cat = None\n",
        "\n",
        "\n",
        "\n",
        "# *********** Aquí termina la sección de agregar código *************\n",
        "\n",
        "print(\"Para los datos de entrada, veamos la cantidad de cada tipo de variable obtenida:\")\n",
        "print(\"Variables numéricas:\", len(lista_paper_num))\n",
        "print(\"Variables ordinales:\", len(lista_paper_ord))\n",
        "print(\"Variables nominales & binarias:\", len(lista_paper_cat))\n"
      ],
      "metadata": {
        "id": "5J2kIzLYHPZP"
      },
      "execution_count": null,
      "outputs": []
    },
    {
      "cell_type": "markdown",
      "metadata": {
        "id": "zb5bE4WJj8Rw"
      },
      "source": [
        "## **Ejercicio 5**"
      ]
    },
    {
      "cell_type": "code",
      "source": [
        "# En esta sección puedes incluir todas las celdas que consideres necesarias para\n",
        "# visualizar o bien obtener información de cada tipo de variable y te ayude a\n",
        "# determinar qué transformaciones aplicarás a cada una en el módulo de Pipeline.\n",
        "\n",
        "None\n",
        "\n"
      ],
      "metadata": {
        "id": "--yGqJm5fDBx"
      },
      "execution_count": null,
      "outputs": []
    },
    {
      "cell_type": "code",
      "execution_count": null,
      "metadata": {
        "id": "NvNYiIp9weCm"
      },
      "outputs": [],
      "source": [
        "# Una vez analizados los datos de entrada, las transformaciones que se aplicarán\n",
        "# a cada tipo de variable usando la clase Pipeline de sklearn son las siguientes:\n",
        "\n",
        "\n",
        "# ************* Inlcuye aquí tu código:*****************************\n",
        "\n",
        "# Variables numéricas:\n",
        "numericas_pipe = None\n",
        "numericas_pipe_nombres = None\n",
        "\n",
        "\n",
        "\n",
        "\n",
        "# Variables categóricas-Nominales:\n",
        "nominales_pipe = None\n",
        "nominales_pipe_nombres = None\n",
        "\n",
        "\n",
        "\n",
        "\n",
        "# Variables categóricas-ordinales:\n",
        "ordinales_pipe = None\n",
        "ordinales_pipe_nombres = None\n",
        "\n",
        "\n",
        "\n",
        "\n",
        "# Conjuntas las transformaciones de todo tipo de variable y\n",
        "# deja sin procesar aquellas que hayas decidido no transformar:\n",
        "\n",
        "columnasTransformer = None\n",
        "\n",
        "\n",
        "\n",
        "\n",
        "# *********** Aquí termina la sección de agregar código *************\n",
        "\n",
        "\n",
        "\n",
        "Xtmp = Xtrain.copy()\n",
        "tmp = columnasTransformer.fit_transform(Xtmp)\n",
        "print(\"Dimensión de los datos de entrada:\")\n",
        "print(\"antes de aplicar las transformaciones:\", Xtmp.shape)\n",
        "print(\"después de aplicar las transformaciones:\", tmp.shape)\n"
      ]
    },
    {
      "cell_type": "markdown",
      "metadata": {
        "id": "UJokj9Diyeu0"
      },
      "source": [
        "## **Ejercicio 6**"
      ]
    },
    {
      "cell_type": "code",
      "execution_count": null,
      "metadata": {
        "id": "d3lqBiH5wd1e"
      },
      "outputs": [],
      "source": [
        "# Como se va a utilizar Validación-Cruzada, concatena los conjuntos de entrenamiento\n",
        "# y prueba en uno nuevo conjunto aumentado que llamaremos trainval:\n",
        "\n",
        "\n",
        "# ************* Inlcuye aquí tu código:**************************\n",
        "\n",
        "\n",
        "Xtraintest = None\n",
        "ytraintest = None\n",
        "\n",
        "\n",
        "# *********** Aquí termina la sección de agregar código *************\n",
        "\n",
        "\n",
        "# Veamos cuántas variables nuevas se introducen con las transformaciones One-Hot-Encoding:\n",
        "Xtmp = Xtraintest.copy()\n",
        "tmp = columnasTransformer.fit_transform(Xtmp)\n",
        "print(\"Dimensión de las variables de entrada ANTES de las transformaciones:\", Xtmp.shape)\n",
        "print(\"Dimensión de las variables de entrada DESPUÉS de las transformaciones:\", tmp.shape)"
      ]
    },
    {
      "cell_type": "markdown",
      "metadata": {
        "id": "hZxyRbHL0gNF"
      },
      "source": [
        "## **Ejercicio 7**"
      ]
    },
    {
      "cell_type": "code",
      "source": [
        "# Definimos una función que evaluará cada modelo con diferentes tipos de métricas,\n",
        "# así como incluyendo algún método de submuestreo o sobremuestreo.\n",
        "\n",
        "def mi_fun(modelo, nombre, Xtraintest, ytraintest, metodo_uo=None):\n",
        "        \"\"\"\n",
        "        Se lleva a cabo el proceso de entrenamiento y evaluación\n",
        "        con diferentes métricas.\n",
        "        Args:\n",
        "             modelo: modelo con la configuración deseada\n",
        "             nombre: nombre del modelo\n",
        "             Xtriantest, ytraintest: Variables de entrada y variable de salida\n",
        "             mod_uo: método de submuestreo o sobremuestreo, si aplica.\n",
        "        \"\"\"\n",
        "\n",
        "        pipeline = ImbPipeline(steps=[\n",
        "            ('sub_sobre_muestreo', metodo_uo),\n",
        "            ('model', modelo)\n",
        "        ])\n",
        "\n",
        "        micv = RepeatedStratifiedKFold(n_splits=5, n_repeats=3, random_state=5)\n",
        "        mismetricas = {\n",
        "            'miaccuracy': 'accuracy',\n",
        "            'miprecision': 'precision',\n",
        "            'mirecall': 'recall',\n",
        "            'mifi': 'f1',\n",
        "            'miauc': 'roc_auc',\n",
        "            'migmean': make_scorer(geometric_mean_score)\n",
        "        }\n",
        "\n",
        "        scores = cross_validate(pipeline, Xtraintest, np.ravel(ytraintest), scoring=mismetricas, cv=micv, return_train_score=True)\n",
        "\n",
        "        print('>> %s' % nombre)\n",
        "        for j, k in enumerate(list(scores.keys())):\n",
        "            if j > 1:\n",
        "                print('\\t %s %.4f (%.3f)' % (k, np.nanmean(scores[k]), np.nanstd(scores[k])))\n",
        "\n"
      ],
      "metadata": {
        "id": "cgCahRDyEMf9"
      },
      "execution_count": null,
      "outputs": []
    },
    {
      "cell_type": "markdown",
      "source": [
        "### **Ejercicio 7a: Regresión Logística**"
      ],
      "metadata": {
        "id": "j60KvQ0LjcgO"
      }
    },
    {
      "cell_type": "code",
      "source": [
        "# Regresión Logística - Logistic Regression-LR:\n",
        "# https://scikit-learn.org/stable/modules/generated/sklearn.linear_model.LogisticRegression.html\n",
        "\n",
        "# Puedes consultar la siguiente liga para los métodos de submuestreo o sobremuestreo:\n",
        "# https://imbalanced-learn.org/stable/references/over_sampling.html\n",
        "\n",
        "# ************* Inlcuye aquí tu código:**************************\n",
        "\n",
        "nombre = \"Regresión_Logística\"\n",
        "\n",
        "# Selecciona la configuración de valores de hiperparámetros que consideres\n",
        "# te da el mejor desempeño:\n",
        "modelo = LogisticRegression( None )\n",
        "\n",
        "\n",
        "\n",
        "# Selecciona el método de submuestreo o sobremuestreo, si lo deseas incluir.\n",
        "metodo_uo=None\n",
        "\n",
        "\n",
        "# *********** Aquí termina la sección de agregar código *************\n",
        "\n",
        "\n",
        "# Evaluemos la configuración seleccionada:\n",
        "mi_fun(modelo,nombre, Xtraintest, ytraintest, metodo_uo)\n"
      ],
      "metadata": {
        "id": "wYQegVU7nMki"
      },
      "execution_count": null,
      "outputs": []
    },
    {
      "cell_type": "markdown",
      "source": [
        "### **Ejercicio 7b: k-Vecinos Más Cercanos (kNN)**"
      ],
      "metadata": {
        "id": "2x_t7QR3rqeX"
      }
    },
    {
      "cell_type": "code",
      "source": [
        "# k-Vecinos más Cercanos : k-Nearest-Neighbors-kNN:\n",
        "# https://scikit-learn.org/stable/modules/generated/sklearn.neighbors.KNeighborsClassifier.html\n",
        "\n",
        "\n",
        "# ************* Inlcuye aquí tu código:**************************\n",
        "\n",
        "nombre = None\n",
        "modelo = None\n",
        "metodo_uo = None\n",
        "\n",
        "# *********** Aquí termina la sección de agregar código *************\n",
        "\n",
        "\n",
        "# Evaluemos la configuración seleccionada:\n",
        "mi_fun(modelo, nombre, Xtraintest, ytraintest, metodo_uo)\n"
      ],
      "metadata": {
        "id": "k4ySsyhfrnXI"
      },
      "execution_count": null,
      "outputs": []
    },
    {
      "cell_type": "markdown",
      "source": [
        "### **Ejercicio 7c: Arbol de decisiones**"
      ],
      "metadata": {
        "id": "YA89QvpWrxHW"
      }
    },
    {
      "cell_type": "code",
      "source": [
        "# Árbol de decisiones-DecisionTree-DT:\n",
        "# https://scikit-learn.org/stable/modules/generated/sklearn.tree.DecisionTreeClassifier.html\n",
        "\n",
        "\n",
        "# ************* Inlcuye aquí tu código:**************************\n",
        "\n",
        "nombre = None\n",
        "modelo = None\n",
        "metodo_uo = None\n",
        "\n",
        "# *********** Aquí termina la sección de agregar código *************\n",
        "\n",
        "\n",
        "# Evaluemos la configuración seleccionada:\n",
        "mi_fun(modelo, nombre, Xtraintest, ytraintest, metodo_uo)\n"
      ],
      "metadata": {
        "id": "j7DvXFztrnUH"
      },
      "execution_count": null,
      "outputs": []
    },
    {
      "cell_type": "markdown",
      "source": [
        "### **Ejercicio 7d: Bosque Aleatorio - Random Forest**"
      ],
      "metadata": {
        "id": "vqZs2-isr3JG"
      }
    },
    {
      "cell_type": "code",
      "source": [
        "# Bosque Aleatorio-RandomForest-RF:\n",
        "# https://scikit-learn.org/stable/modules/generated/sklearn.ensemble.RandomForestClassifier.html\n",
        "\n",
        "\n",
        "# ************* Inlcuye aquí tu código:**************************\n",
        "\n",
        "nombre = None\n",
        "modelo = None\n",
        "metodo_uo = None\n",
        "\n",
        "# *********** Aquí termina la sección de agregar código *************\n",
        "\n",
        "\n",
        "# Evaluemos la configuración seleccionada:\n",
        "mi_fun(modelo, nombre, Xtraintest, ytraintest, metodo_uo)\n"
      ],
      "metadata": {
        "id": "qDbkUjaZrnQ2"
      },
      "execution_count": null,
      "outputs": []
    },
    {
      "cell_type": "markdown",
      "source": [
        "### **Ejercicio 7e: XGBoosting**"
      ],
      "metadata": {
        "id": "CJiZcCyGr9Km"
      }
    },
    {
      "cell_type": "code",
      "source": [
        "# XGBoosting:\n",
        "# https://xgboost.readthedocs.io/en/latest/python/python_api.html#xgboost.XGBClassifier\n",
        "# https://xgboost.readthedocs.io/en/stable/parameter.html\n",
        "\n",
        "\n",
        "# ************* Inlcuye aquí tu código:**************************\n",
        "\n",
        "nombre = None\n",
        "modelo = None\n",
        "metodo_uo = None\n",
        "\n",
        "# *********** Aquí termina la sección de agregar código *************\n",
        "\n",
        "\n",
        "# Evaluemos la configuración seleccionada:\n",
        "mi_fun(modelo, nombre, Xtraintest, ytraintest, metodo_uo)\n"
      ],
      "metadata": {
        "id": "FUW1KQmsrnN2"
      },
      "execution_count": null,
      "outputs": []
    },
    {
      "cell_type": "markdown",
      "source": [
        "### **Ejercicio 7f: Red Neuronal Multicapa (MLP)**"
      ],
      "metadata": {
        "id": "gDtBaZTxsDRe"
      }
    },
    {
      "cell_type": "code",
      "source": [
        "# Red neuronal de Perceptrón Multicapa-MLP:\n",
        "# https://scikit-learn.org/stable/modules/generated/sklearn.neural_network.MLPClassifier.html\n",
        "\n",
        "\n",
        "# ************* Inlcuye aquí tu código:**************************\n",
        "\n",
        "nombre = None\n",
        "modelo = None\n",
        "metodo_uo = None\n",
        "\n",
        "# *********** Aquí termina la sección de agregar código *************\n",
        "\n",
        "\n",
        "# Evaluemos la configuración seleccionada:\n",
        "mi_fun(modelo, nombre, Xtraintest, ytraintest, metodo_uo)\n"
      ],
      "metadata": {
        "id": "1ijo8KULnPu2"
      },
      "execution_count": null,
      "outputs": []
    },
    {
      "cell_type": "markdown",
      "source": [
        "### **Ejercicio 7g: Máquina de Vector Soporte (SVM)**"
      ],
      "metadata": {
        "id": "OIkSmzaPsOiN"
      }
    },
    {
      "cell_type": "code",
      "source": [
        "# Máquina de Vectores de Soporte-SVM:\n",
        "# https://scikit-learn.org/stable/modules/generated/sklearn.svm.SVC.html\n",
        "\n",
        "\n",
        "# ************* Inlcuye aquí tu código:**************************\n",
        "\n",
        "nombre = None\n",
        "modelo = None\n",
        "metodo_uo = None\n",
        "\n",
        "# *********** Aquí termina la sección de agregar código *************\n",
        "\n",
        "\n",
        "# Evaluemos la configuración seleccionada:\n",
        "mi_fun(modelo, nombre, Xtraintest, ytraintest, metodo_uo)\n"
      ],
      "metadata": {
        "id": "9OgIHFIdnPrc"
      },
      "execution_count": null,
      "outputs": []
    },
    {
      "cell_type": "markdown",
      "metadata": {
        "id": "4JkGo57zMXqn"
      },
      "source": [
        "## **Ejercicio 8**"
      ]
    },
    {
      "cell_type": "code",
      "source": [
        "# Incluye el reporte del mejor modelo solicitado en el archivo PDF:\n",
        "\n",
        "None"
      ],
      "metadata": {
        "id": "R-UflBezs4q2"
      },
      "execution_count": null,
      "outputs": []
    },
    {
      "cell_type": "markdown",
      "source": [
        "## **Ejercicio 9**"
      ],
      "metadata": {
        "id": "d8cEISnQs8Ol"
      }
    },
    {
      "cell_type": "markdown",
      "metadata": {
        "id": "n04HnK-ZX4vl"
      },
      "source": [
        "### **Escribe tus conclusiones finales de la actividad.**"
      ]
    },
    {
      "cell_type": "markdown",
      "metadata": {
        "id": "R7s7iDgKYEn9"
      },
      "source": [
        "### ++++++++ Inicia la sección de agregar texto: +++++++++++\n",
        "\n",
        "None\n",
        "\n",
        "\n",
        "### ++++++++ Termina la sección de agregar texto. +++++++++++\n"
      ]
    },
    {
      "cell_type": "markdown",
      "metadata": {
        "id": "v-tW_CdUYMdl"
      },
      "source": [
        ">> ### **Fin de la Actividad de las Semanas 5 y 6.**"
      ]
    }
  ],
  "metadata": {
    "colab": {
      "provenance": [],
      "collapsed_sections": [
        "a08Di3GjkL1Y",
        "LckYCS8SlnFo",
        "qQx2lbzTkEsQ",
        "ocmGcSC2j_2x",
        "zb5bE4WJj8Rw",
        "UJokj9Diyeu0",
        "hZxyRbHL0gNF",
        "j60KvQ0LjcgO",
        "2x_t7QR3rqeX",
        "YA89QvpWrxHW",
        "vqZs2-isr3JG",
        "CJiZcCyGr9Km",
        "gDtBaZTxsDRe",
        "OIkSmzaPsOiN",
        "4JkGo57zMXqn",
        "d8cEISnQs8Ol"
      ]
    },
    "kernelspec": {
      "display_name": "Python 3 (ipykernel)",
      "language": "python",
      "name": "python3"
    },
    "language_info": {
      "codemirror_mode": {
        "name": "ipython",
        "version": 3
      },
      "file_extension": ".py",
      "mimetype": "text/x-python",
      "name": "python",
      "nbconvert_exporter": "python",
      "pygments_lexer": "ipython3",
      "version": "3.9.13"
    }
  },
  "nbformat": 4,
  "nbformat_minor": 0
}