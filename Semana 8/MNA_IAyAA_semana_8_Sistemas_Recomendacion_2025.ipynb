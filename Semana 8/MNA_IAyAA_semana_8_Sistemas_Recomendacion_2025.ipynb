{
  "nbformat": 4,
  "nbformat_minor": 0,
  "metadata": {
    "colab": {
      "provenance": [],
      "collapsed_sections": [
        "9ejOXFX0wRbr",
        "DbEshKJnwPp3",
        "rr3hJTCW6c05",
        "2EyK_O7EHBWe",
        "PACH7ewoQTqB",
        "ML52GNI3xCbV",
        "ZJvi3WLR0zKY"
      ]
    },
    "kernelspec": {
      "display_name": "Python 3",
      "name": "python3"
    }
  },
  "cells": [
    {
      "cell_type": "markdown",
      "source": [
        "##**Maestría en Inteligencia Artificial Aplicada**\n",
        "###**Curso: Inteligencia Artificial y Aprendizaje Automático**\n",
        "####Tecnológico de Monterrey\n",
        "####Prof Luis Eduardo Falcón Morales\n",
        "\n",
        "### **Adtividad de la Semana 8**\n",
        "####**Reducción de Dimensionalidad - Descomposición en Valores Singulares (SVD) y Sistemas de Recomendación**\n"
      ],
      "metadata": {
        "id": "VFj0sSM06dYa"
      }
    },
    {
      "cell_type": "markdown",
      "source": [
        "**Esta Actividad deberás resolverla de manera individual.**\n",
        "\n",
        "**Nombre y matrícula:**\n",
        "\n",
        "*   \n",
        "*   \n"
      ],
      "metadata": {
        "id": "Qgrvy0RGB9XI"
      }
    },
    {
      "cell_type": "code",
      "source": [
        "# Agrega aquí todas las librerías y paquetes adicionales que requieras.\n",
        "\n",
        "import numpy as np\n",
        "import pandas as pd\n",
        "from sklearn.decomposition import TruncatedSVD\n",
        "from sklearn.preprocessing import OneHotEncoder\n",
        "from sklearn.metrics.pairwise import cosine_similarity"
      ],
      "metadata": {
        "id": "exXsscs-Dh-2"
      },
      "execution_count": null,
      "outputs": []
    },
    {
      "cell_type": "markdown",
      "source": [
        "### **Liga de Datos de la UCI \"Restaurant & consumer data\".**\n",
        "### **Descarga \"RCdata.zip\" y de ahí necesitaremos los archivos \"rating_final.csv\" y \"geoplaces2.csv\".**\n",
        "\n",
        "https://archive.ics.uci.edu/dataset/232/restaurant+consumer+data\n",
        "\n",
        "### **Puedes también usar la siguiente liga:**\n",
        "\n",
        "https://www.kaggle.com/datasets/prajitdatta/movielens-100k-dataset"
      ],
      "metadata": {
        "id": "8LCCGOCnB20k"
      }
    },
    {
      "cell_type": "code",
      "source": [
        "# Descarga los archivos de la página de la UCI a partir de los cuales generaremos\n",
        "# nuestras matrices de utilidad.\n",
        "\n",
        "data_rating = pd.read_csv(\"rating_final.csv\", header='infer', sep=\",\")\n",
        "data_geo = pd.read_csv(\"geoplaces2.csv\", header='infer',  encoding='latin-1')\n",
        "\n",
        "print(data_rating.shape, data_geo.shape)\n"
      ],
      "metadata": {
        "id": "3nU2GuWYCy6C",
        "colab": {
          "base_uri": "https://localhost:8080/"
        },
        "outputId": "da41e06a-51a3-4f6a-eecb-49bb136bb422"
      },
      "execution_count": null,
      "outputs": [
        {
          "output_type": "stream",
          "name": "stdout",
          "text": [
            "(1161, 5) (130, 21)\n"
          ]
        }
      ]
    },
    {
      "cell_type": "markdown",
      "source": [
        "## **Ejercicio - 1**"
      ],
      "metadata": {
        "id": "9ejOXFX0wRbr"
      }
    },
    {
      "cell_type": "markdown",
      "source": [
        "### **Explica cuál es el propósito de usar el argumento \"latin-1\" al cargar el segundo archivo.**"
      ],
      "metadata": {
        "id": "SXZCu8d24qhg"
      }
    },
    {
      "cell_type": "markdown",
      "source": [
        "++++++++ Inicia la sección de agregar texto: +++++++++++\n",
        "\n",
        "\n",
        "++++++++ Termina la sección de agregar texto. +++++++++++"
      ],
      "metadata": {
        "id": "QnVxVjpd5Ulw"
      }
    },
    {
      "cell_type": "markdown",
      "source": [
        "## **Ejercicio - 2**"
      ],
      "metadata": {
        "id": "DbEshKJnwPp3"
      }
    },
    {
      "cell_type": "markdown",
      "source": [
        "#### **Cada restaurante debe tener un nombre diferente:**"
      ],
      "metadata": {
        "id": "0M4bdUWEDPt2"
      }
    },
    {
      "cell_type": "code",
      "source": [
        "# Veamos la lista de restaurantes.\n",
        "# Todos ellos son restaurantes ubicados en alguna ciudad del país de México:\n",
        "\n",
        "data_geo['name'].values"
      ],
      "metadata": {
        "id": "gmt8o2u8wcDm"
      },
      "execution_count": null,
      "outputs": []
    },
    {
      "cell_type": "markdown",
      "source": [
        "*   ### **Todos los restaurantes que aparecen en esta lista son negocios diferentes, en el sentido de que físicamente están ubicados en diferentes ciudades de México, aunque algunos pertenezcan a una franquicia, como Vips.**\n",
        "\n",
        "*   ### **Para los fines de este ejercicio, estaremos considerando a todos los restaurantes como diferentes. Sin embargo, en el caso de Vips, existen tres restaurantes en esta lista capturados con los nombres: VIPS, Vips y vips. Que por sus coordenadas de latitud y longitud sabemos que están ubicados en SLP, Cuernavaca y cdVictoria. Se podrían cambiar los nombres agregando la ciudad, pero como se capturaron los nombres de manera diferente con minúsculas y mayúsculas, los dejaremos por el momento de esta manera.**\n",
        "\n",
        "*   ### **Por el momento no estaremos haciendo las recomendaciones por el lugar donde se encuentran, sino solamente por la evaluación del restaurante y otras características que no tienen que ver con la ubicación.**\n",
        "\n",
        "*   ### **Existen otras franquicias capturadas también de manera diferente, salvo el caso de 'Gorditas Dona Tota', en el cual dos de estos restaurantes que están ubicados en Cd.Victoria fueron registrados exactamente con el mismo nombre. Para que nuestro sistema de recomendación pueda diferenciarlos, deberás cambiar el nombre de uno de ellos como se te indica a continuación.**  "
      ],
      "metadata": {
        "id": "_TPm5DHjwTMg"
      }
    },
    {
      "cell_type": "markdown",
      "source": [
        "### **De los dos restaurantes registrados con el nombre de 'Gorditas Dona Tota', encuentra sus índices y cambia el que tiene el mayor índice en data_geo[name] al de  'Gorditas Dona Tota 2'.**"
      ],
      "metadata": {
        "id": "RYe-1NVb7Rts"
      }
    },
    {
      "cell_type": "code",
      "source": [
        "# Ejercicio-2\n",
        "\n",
        "# ************* Inlcuye aquí tu código:*****************************\n",
        "\n",
        "\n",
        "# Lista de índices de los registros con el nombre de 'Gorditas Dona Tota':\n",
        "indices_Dona_Tota = None\n",
        "\n",
        "\n",
        "# *********** Aquí termina la sección de agregar código *************\n",
        "\n",
        "print('Verificando el cambio de nombre:\\n', data_geo.loc[indices_Dona_Tota, 'name'])"
      ],
      "metadata": {
        "id": "BCi-JC9V-sNj"
      },
      "execution_count": null,
      "outputs": []
    },
    {
      "cell_type": "markdown",
      "source": [
        "## **Ejercicio - 3**"
      ],
      "metadata": {
        "id": "rr3hJTCW6c05"
      }
    },
    {
      "cell_type": "code",
      "source": [
        "# Al momento tenemos los siguientes DataFrames. Del primer archivo\n",
        "# tenemos la evaluación general, la de la comida y la del servicio:\n",
        "\n",
        "data_rating.head(3)"
      ],
      "metadata": {
        "id": "0ulkqXVGCy97"
      },
      "execution_count": null,
      "outputs": []
    },
    {
      "cell_type": "code",
      "source": [
        "# Y del segundo archivo obtenemos información diversa de cada restaurante:\n",
        "\n",
        "data_geo.head(2).T"
      ],
      "metadata": {
        "id": "y1n23keFiUQg"
      },
      "execution_count": null,
      "outputs": []
    },
    {
      "cell_type": "markdown",
      "source": [
        "### **De cada uno de estos archivos selecciona y combina las variables adecuadas para obtener un nuevo DataFrame cuyas columnas sean el ID de usuario (userID), el ID del restaurante (placeID), la calificación general (rating) y el nombre del restaurante (name). A este nuevo DataFrame llamarlo df_combinado.**"
      ],
      "metadata": {
        "id": "f4b6eQ-VFGQS"
      }
    },
    {
      "cell_type": "code",
      "source": [
        "# Ejercicio 3:\n",
        "\n",
        "# ************* Inlcuye aquí tu código:*****************************\n",
        "\n",
        "df_combinado = None\n",
        "\n",
        "\n",
        "\n",
        "# *********** Aquí termina la sección de agregar código *************\n",
        "\n",
        "\n",
        "# Despleguemos la dimensión y los primeros renglones de este DataFrame:\n",
        "\n",
        "print(df_combinado.shape)\n",
        "df_combinado.head()"
      ],
      "metadata": {
        "id": "Y3jwhxfdjMWh"
      },
      "execution_count": null,
      "outputs": []
    },
    {
      "cell_type": "markdown",
      "source": [
        "## **Ejercicio - 4**"
      ],
      "metadata": {
        "id": "2EyK_O7EHBWe"
      }
    },
    {
      "cell_type": "code",
      "source": [
        "# Ejercicio 4:\n",
        "\n",
        "#    Define la matriz de utilidad cuyos renglones sean los nombres de los\n",
        "#    restaurantes, las columnas los IDs de los usuarios y las entradas la\n",
        "#    evaluación general (rating). La llamaremos \"UtMx_rating\".\n",
        "\n",
        "\n",
        "# ************* Inlcuye aquí tu código:*****************************\n",
        "\n",
        "UtMx_rating = None\n",
        "\n",
        "\n",
        "# *********** Aquí termina la sección de agregar código *************\n",
        "\n",
        "\n",
        "print('Dimensión de la matriz de Utilidad:')\n",
        "print('(restaurantes, usuarios) =', (UtMx_rating.shape))\n",
        "UtMx_rating.head()"
      ],
      "metadata": {
        "id": "p6J7eDI-oTeH"
      },
      "execution_count": null,
      "outputs": []
    },
    {
      "cell_type": "markdown",
      "source": [
        "#### **Similaridades con la matriz obtenida de la Factorización SVD Truncada:**"
      ],
      "metadata": {
        "id": "ai8oUVF5RhkK"
      }
    },
    {
      "cell_type": "markdown",
      "source": [
        "*   ### **Aplicaremo la Factorización SVD con los 66 primeros valores singulares a la matriz de utilidad UtMx_rating.**\n",
        "\n",
        "*   ### **El valor de 66 se seleccionó porque como verás, esta cantidad de valores singulares es suficiente para describir al menos el 95% de la varianza de la matriz de utilidad.**\n",
        "\n",
        "*   ### **Recordemos que la factorización SVD de una matriz $A$ tiene la forma:** $A_{m\\times n} = U_{m\\times m}\\Sigma_{m\\times n}V_{n\\times n}^T$\n",
        "\n",
        "*   ### **Usaremos la función coseno como medida de similaridad**\n",
        "\n",
        "*   ### **Buscaremos restaurantes similares al llamado  \"tacos de barbacoa enfrente del Tec\"**."
      ],
      "metadata": {
        "id": "xGu3qv-T8XGH"
      }
    },
    {
      "cell_type": "code",
      "source": [
        "num_componentes=66  # componentes más significativas\n",
        "\n",
        "# Obtengamos la matriz de factores latentes de los restaurantes:\n",
        "SVD_rating = TruncatedSVD(n_components=num_componentes)  # inicializamos\n",
        "mat_fact_lat_restaurantes = SVD_rating.fit_transform(UtMx_rating) # SVD truncada-ndarray\n",
        "\n",
        "print('Dimensión Vectores latentes restaurantes:', mat_fact_lat_restaurantes.shape)\n",
        "print('Dimensión Traspuesta Vectores latentes usuarios:', SVD_rating.components_.shape)\n",
        "\n",
        "# Calculemos la variabilidad acumulada de las componentes utilizadas:\n",
        "print('\\nVariabilidad acumulada de las componentes utilizadas: %.3f' % SVD_rating.explained_variance_ratio_[0:num_componentes].sum())\n",
        "\n",
        "# matriz de similaridad\n",
        "sim_matrix = cosine_similarity(mat_fact_lat_restaurantes)\n",
        "\n",
        "# Restaurante de referencia:\n",
        "restaurante_de_referencia = \"tacos de barbacoa enfrente del Tec\"\n",
        "nombres_rest = UtMx_rating.T.columns  # lista de los nombres de los restaurantes.\n",
        "idx_rest = list(nombres_rest).index(restaurante_de_referencia) # índice del restaurante de referencia.\n",
        "sim_vector = sim_matrix[idx_rest] # Vector de similaridad del restaurante de referencia contra todos.\n",
        "\n",
        "# Buscando las similaridades positivas:\n",
        "idx = (sim_vector>0)\n",
        "mejores_sim_rate = list()\n",
        "for i in range(len(nombres_rest[idx])):\n",
        "  mejores_sim_rate.append((sim_vector[idx][i], nombres_rest[idx][i]))\n",
        "\n",
        "print('\\nTotal de similaridades positivas encontradas:', len(mejores_sim_rate))\n",
        "\n",
        "# Las ordenamos de mayor a menor relevancia:\n",
        "mejores_sim_rate_ordenadas = sorted(mejores_sim_rate, key=lambda x:x[0], reverse=True)\n",
        "\n",
        "print('\\nMejores recomendaciones con base al restaurante: \\\"%s\\\":' % restaurante_de_referencia)\n",
        "mejores_sim_rate_ordenadas[1:11]   # omitimos el primero que es el mismo restaurante de referencia\n"
      ],
      "metadata": {
        "id": "jg6ofJ7kTD3d"
      },
      "execution_count": null,
      "outputs": []
    },
    {
      "cell_type": "markdown",
      "source": [
        "## **Ejercicio - 5**"
      ],
      "metadata": {
        "id": "PACH7ewoQTqB"
      }
    },
    {
      "cell_type": "markdown",
      "source": [
        "### **Sistema Híbrido**\n",
        "\n",
        "### **Utilicemos ahora un sistema híbrido, el cual consistirá en conjuntar la matriz de \"factores_latentes_restaurantes\" (que es un ndarray) obtenida previamente, con la matriz de factores adicionales (que también será un ndarray) formada por las columnas One-Hot-Encoder de los factores 'dress_code', 'accessibility', 'price' y 'franchise' del DataFrame data_geo.**\n",
        "\n",
        "### **Por el momento no requerimos que la matriz híbrida sea un DataFrame, con que sea un arreglo de NumPy, ndarray, será suficiente.**\n",
        "\n",
        "### **Los renglones de la matriz híbrida siguen representando a cada restaurante, pero ahora con la información de los vectores latentes de la factorización SVD, más los vectores OneHotEncoding de los nuevos factores que se incluyeron.**\n",
        "\n"
      ],
      "metadata": {
        "id": "Zl8QhjWB9zDu"
      }
    },
    {
      "cell_type": "code",
      "source": [
        "# Ejercicio 5:\n",
        "\n",
        "# Define el DataFrame \"df_fact_adicionales\" formada por los factores 'dress_code',\n",
        "# 'accessibility', 'price' y 'franchise'.\n",
        "# Después generar la matriz (ndarray), \"mat_fact_adicionales_ohe\", que se obtiene\n",
        "# al tranformar las columnas (variables categóricas nominales) de \"df_fact_adicionales\"\n",
        "# mediante OneHotEncoding.\n",
        "# Finalmente conjuntar horizontalmente la matriz \"mat_fact_lat_restaurantes\"\n",
        "# con \"mat_fact_adicionales_ohe\" para obtener la \"matriz_hibrida\" (ndarray).\n",
        "# Toma en cuenta que \"matriz_hibrida\" estará formada por las columnas de \"mat_fact_lat_restaurantes\"\n",
        "# seguida por las columnas de \"mat_fact_adicionales_ohe\".\n",
        "\n",
        "\n",
        "# ************* Inlcuye aquí tu código:*****************************\n",
        "\n",
        "df_fact_adicionales = None\n",
        "mat_fact_adicionales_ohe = None\n",
        "matriz_hibrida = None\n",
        "\n",
        "\n",
        "# *********** Aquí termina la sección de agregar código *************\n",
        "\n",
        "\n",
        "print('Dimensión de la matriz híbrida:')\n",
        "matriz_hibrida.shape"
      ],
      "metadata": {
        "id": "Qt3Oh45lpHp1"
      },
      "execution_count": null,
      "outputs": []
    },
    {
      "cell_type": "code",
      "source": [
        "# Recordemos que \"restaurante_de_referencia\" es \"tacos de barbacoa enfrente del Tec\".\n",
        "# Obtener el índice del restaurante\n",
        "idx = data_geo[data_geo['name'] == restaurante_de_referencia].index[0]\n",
        "\n",
        "print('Restaurante de referencia:', restaurante_de_referencia)\n",
        "print('Índice del restaurante de referencia:', idx)"
      ],
      "metadata": {
        "id": "HKtysNkwxuTl"
      },
      "execution_count": null,
      "outputs": []
    },
    {
      "cell_type": "markdown",
      "source": [
        "## **Ejercicio - 6:**"
      ],
      "metadata": {
        "id": "ML52GNI3xCbV"
      }
    },
    {
      "cell_type": "markdown",
      "source": [
        "### **Una vez que tenemos la matriz híbrida, con dicha matriz deberás obtener las similitudes (con respecto a la función coseno) del restaurante de referencia con relación a todos los restaurantes, ordenarlos de mayor a menor con respecto a la similitud del coseno y desplegar los primeros 10 de mayor similitud (sin incluir al restaurante de referencia mismo).**"
      ],
      "metadata": {
        "id": "gvBn_7NkyiBi"
      }
    },
    {
      "cell_type": "code",
      "source": [
        "# Ejercicio 6\n",
        "\n",
        "# ************* Inlcuye aquí tu código:*****************************\n",
        "\n",
        "None\n",
        "\n",
        "\n",
        "\n",
        "# *********** Aquí termina la sección de agregar código *************"
      ],
      "metadata": {
        "id": "FRFnSwwTjpoS"
      },
      "execution_count": null,
      "outputs": []
    },
    {
      "cell_type": "markdown",
      "source": [
        "## **Ejercicio - 7**"
      ],
      "metadata": {
        "id": "ZJvi3WLR0zKY"
      }
    },
    {
      "cell_type": "markdown",
      "source": [
        "### **Incluye tus comentarios y conclusiones de la actividad. En particular comenta las diferencias que encuentras entre un sistema de recomendación basado solamente en la factorización SVD y uno híbrido.**"
      ],
      "metadata": {
        "id": "IAPKgBzD14By"
      }
    },
    {
      "cell_type": "markdown",
      "source": [
        "++++++++ Inicia la sección de agregar texto: +++++++++++\n",
        "\n",
        "\n",
        "None\n",
        "\n",
        "\n",
        "++++++++ Termina la sección de agregar texto. +++++++++++"
      ],
      "metadata": {
        "id": "vtOMmDZeBBwg"
      }
    },
    {
      "cell_type": "markdown",
      "source": [
        ">> **Fin de la Actividad de Sistemas de Recomendación**"
      ],
      "metadata": {
        "id": "N2rZwkmlAofg"
      }
    }
  ]
}